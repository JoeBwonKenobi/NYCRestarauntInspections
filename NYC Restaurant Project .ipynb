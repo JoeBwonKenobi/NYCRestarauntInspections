{
 "cells": [
  {
   "cell_type": "code",
   "execution_count": 1,
   "id": "c03270b1",
   "metadata": {},
   "outputs": [],
   "source": [
    "#Numpy\n",
    "import numpy as np\n",
    "\n",
    "#Pandas\n",
    "import pandas as pd\n",
    "\n",
    "#Seaborn\n",
    "import seaborn as sns\n",
    "\n",
    "#matplotlib\n",
    "import matplotlib.pyplot as plt\n",
    "import plotly\n",
    "\n",
    "\n",
    "#Sklearn preprocessing\n",
    "from sklearn import preprocessing,set_config\n",
    "from sklearn.preprocessing import OrdinalEncoder, OneHotEncoder,StandardScaler,LabelEncoder\n",
    "\n",
    "#Sklearn Models\n",
    "from sklearn.model_selection import train_test_split, GridSearchCV\n",
    "from sklearn.impute import SimpleImputer\n",
    "from sklearn import preprocessing, set_config\n",
    "from sklearn.pipeline import Pipeline, make_pipeline\n",
    "from sklearn.impute import SimpleImputer\n",
    "from sklearn.compose import ColumnTransformer,make_column_selector,make_column_transformer\n",
    "from sklearn.linear_model import LogisticRegression\n",
    "import warnings\n",
    "from sklearn.decomposition import PCA\n",
    "warnings.filterwarnings(\"ignore\")\n",
    "set_config(display = 'diagram')"
   ]
  },
  {
   "cell_type": "markdown",
   "id": "ee8a849a",
   "metadata": {},
   "source": [
    "# **Data Dictionary**\n",
    "**CAMIS**\tThis is an unique identifier for the entity (restaurant); 10-digit integer, static per restaurant permit\n",
    "\n",
    "**DBA**\tThis field represents the name (doing business as) of the entity (restaurant); Public business name, may change at discretion of restaurant owner\n",
    "\n",
    "**BORO**\tBorough in which the entity (restaurant) is located.;• 1 = MANHATTAN • 2 = BRONX • 3 = BROOKLYN • 4 = QUEENS • 5 = STATEN ISLAND • Missing; NOTE: There may be discrepancies between zip code and listed boro due to differences in an establishment's mailing address and physical location\n",
    "\n",
    "**BUILDING**  Building number for establishment (restaurant) location\n",
    "\n",
    "**STREET**\tStreet name for establishment (restaurant) location\n",
    "\n",
    "**ZIPCODE**\tZip code of establishment (restaurant) location\n",
    "\n",
    "**PHONE**\tPhone Number; Phone number provided by restaurant owner/manager\n",
    "\n",
    "**CUISINE DESCRIPTION**\tThis field describes the entity (restaurant) cuisine. ; Optional field provided by provided by restaurant owner/manager\n",
    "\n",
    "**INSPECTION DATE**\tThis field represents the date of inspection; NOTE: Inspection dates of 1/1/1900 mean an establishment has not yet had an inspection\n",
    "\n",
    "**ACTION**\tThis field represents the actions that is associated with each restaurant inspection. ; • Violations were cited in the following area(s). • No violations were recorded at the time of this inspection. • Establishment re-opened by DOHMH • Establishment re-closed by DOHMH • Establishment Closed by DOHMH. Violations were cited in the following area(s) and those requiring immediate action were addressed. • \"Missing\" = not yet inspected;\n",
    "\n",
    "**VIOLATION CODE**\tViolation code associated with an establishment (restaurant) inspection\n",
    "\n",
    "**VIOLATION DESCRIPTION**Violation description associated with an establishment (restaurant) inspection\n",
    "\n",
    "**CRITICAL FLAG**\tIndicator of critical violation; \"• Critical • Not Critical • Not Applicable\"; Critical violations are those most likely to contribute to food-borne illness\n",
    "\n",
    "**SCORE**Total score for a particular inspection; Scores are updated based on adjudication results\n",
    "\n",
    "**GRADE**\tGrade associated with the inspection; • N = Not Yet Graded• A = Grade A• B = Grade B• C = Grade C• Z = Grade Pending• P= Grade Pending issued on re-opening following an initial inspection that resulted in a closure\n",
    "\n",
    "**GRADE DATE**\tThe date when the current grade was issued to the entity (restaurant)\n",
    "\n",
    "**RECORD DATE**\tThe date when the extract was run to produce this data set\n",
    "\n",
    "**INSPECTION TYPE** A combination of the inspection program and the type of inspection performed; See Data Dictionary for full list of expected values\n"
   ]
  },
  {
   "cell_type": "code",
   "execution_count": 2,
   "id": "080260b1",
   "metadata": {
    "scrolled": true
   },
   "outputs": [],
   "source": [
    "# Loading NYC Restaraunt Data\n",
    "rdf = pd.read_csv('https://data.cityofnewyork.us/api/views/43nn-pn8j/rows.csv?accessType=DOWNLOAD')"
   ]
  },
  {
   "cell_type": "code",
   "execution_count": 3,
   "id": "90467520",
   "metadata": {},
   "outputs": [
    {
     "name": "stdout",
     "output_type": "stream",
     "text": [
      "<class 'pandas.core.frame.DataFrame'>\n",
      "RangeIndex: 204872 entries, 0 to 204871\n",
      "Data columns (total 27 columns):\n",
      " #   Column                 Non-Null Count   Dtype  \n",
      "---  ------                 --------------   -----  \n",
      " 0   CAMIS                  204872 non-null  int64  \n",
      " 1   DBA                    204387 non-null  object \n",
      " 2   BORO                   204872 non-null  object \n",
      " 3   BUILDING               204563 non-null  object \n",
      " 4   STREET                 204868 non-null  object \n",
      " 5   ZIPCODE                202157 non-null  float64\n",
      " 6   PHONE                  204865 non-null  object \n",
      " 7   CUISINE DESCRIPTION    202621 non-null  object \n",
      " 8   INSPECTION DATE        204872 non-null  object \n",
      " 9   ACTION                 202621 non-null  object \n",
      " 10  VIOLATION CODE         201490 non-null  object \n",
      " 11  VIOLATION DESCRIPTION  201490 non-null  object \n",
      " 12  CRITICAL FLAG          204872 non-null  object \n",
      " 13  SCORE                  195430 non-null  float64\n",
      " 14  GRADE                  101512 non-null  object \n",
      " 15  GRADE DATE             91760 non-null   object \n",
      " 16  RECORD DATE            204872 non-null  object \n",
      " 17  INSPECTION TYPE        202621 non-null  object \n",
      " 18  Latitude               204615 non-null  float64\n",
      " 19  Longitude              204615 non-null  float64\n",
      " 20  Community Board        201620 non-null  float64\n",
      " 21  Council District       201616 non-null  float64\n",
      " 22  Census Tract           201616 non-null  float64\n",
      " 23  BIN                    200620 non-null  float64\n",
      " 24  BBL                    204331 non-null  float64\n",
      " 25  NTA                    201620 non-null  object \n",
      " 26  Location Point1        0 non-null       float64\n",
      "dtypes: float64(10), int64(1), object(16)\n",
      "memory usage: 42.2+ MB\n"
     ]
    }
   ],
   "source": [
    "rdf.info()"
   ]
  },
  {
   "cell_type": "code",
   "execution_count": 4,
   "id": "18054a13",
   "metadata": {},
   "outputs": [],
   "source": [
    "rdf.drop(['Location Point1', 'CAMIS', 'PHONE', 'BBL', 'BIN', 'NTA'], axis=1, inplace=True)"
   ]
  },
  {
   "cell_type": "code",
   "execution_count": 5,
   "id": "26ad349b",
   "metadata": {
    "scrolled": false
   },
   "outputs": [
    {
     "name": "stdout",
     "output_type": "stream",
     "text": [
      "<class 'pandas.core.frame.DataFrame'>\n",
      "RangeIndex: 204872 entries, 0 to 204871\n",
      "Data columns (total 21 columns):\n",
      " #   Column                 Non-Null Count   Dtype  \n",
      "---  ------                 --------------   -----  \n",
      " 0   DBA                    204387 non-null  object \n",
      " 1   BORO                   204872 non-null  object \n",
      " 2   BUILDING               204563 non-null  object \n",
      " 3   STREET                 204868 non-null  object \n",
      " 4   ZIPCODE                202157 non-null  float64\n",
      " 5   CUISINE DESCRIPTION    202621 non-null  object \n",
      " 6   INSPECTION DATE        204872 non-null  object \n",
      " 7   ACTION                 202621 non-null  object \n",
      " 8   VIOLATION CODE         201490 non-null  object \n",
      " 9   VIOLATION DESCRIPTION  201490 non-null  object \n",
      " 10  CRITICAL FLAG          204872 non-null  object \n",
      " 11  SCORE                  195430 non-null  float64\n",
      " 12  GRADE                  101512 non-null  object \n",
      " 13  GRADE DATE             91760 non-null   object \n",
      " 14  RECORD DATE            204872 non-null  object \n",
      " 15  INSPECTION TYPE        202621 non-null  object \n",
      " 16  Latitude               204615 non-null  float64\n",
      " 17  Longitude              204615 non-null  float64\n",
      " 18  Community Board        201620 non-null  float64\n",
      " 19  Council District       201616 non-null  float64\n",
      " 20  Census Tract           201616 non-null  float64\n",
      "dtypes: float64(7), object(14)\n",
      "memory usage: 32.8+ MB\n"
     ]
    }
   ],
   "source": [
    "rdf.info()"
   ]
  },
  {
   "cell_type": "code",
   "execution_count": 6,
   "id": "35069ac4",
   "metadata": {},
   "outputs": [
    {
     "ename": "KeyError",
     "evalue": "'NTA'",
     "output_type": "error",
     "traceback": [
      "\u001b[1;31m---------------------------------------------------------------------------\u001b[0m",
      "\u001b[1;31mKeyError\u001b[0m                                  Traceback (most recent call last)",
      "File \u001b[1;32m~\\anaconda3\\envs\\dojo-env\\lib\\site-packages\\pandas\\core\\indexes\\base.py:3803\u001b[0m, in \u001b[0;36mIndex.get_loc\u001b[1;34m(self, key, method, tolerance)\u001b[0m\n\u001b[0;32m   3802\u001b[0m \u001b[38;5;28;01mtry\u001b[39;00m:\n\u001b[1;32m-> 3803\u001b[0m     \u001b[38;5;28;01mreturn\u001b[39;00m \u001b[38;5;28;43mself\u001b[39;49m\u001b[38;5;241;43m.\u001b[39;49m\u001b[43m_engine\u001b[49m\u001b[38;5;241;43m.\u001b[39;49m\u001b[43mget_loc\u001b[49m\u001b[43m(\u001b[49m\u001b[43mcasted_key\u001b[49m\u001b[43m)\u001b[49m\n\u001b[0;32m   3804\u001b[0m \u001b[38;5;28;01mexcept\u001b[39;00m \u001b[38;5;167;01mKeyError\u001b[39;00m \u001b[38;5;28;01mas\u001b[39;00m err:\n",
      "File \u001b[1;32m~\\anaconda3\\envs\\dojo-env\\lib\\site-packages\\pandas\\_libs\\index.pyx:138\u001b[0m, in \u001b[0;36mpandas._libs.index.IndexEngine.get_loc\u001b[1;34m()\u001b[0m\n",
      "File \u001b[1;32m~\\anaconda3\\envs\\dojo-env\\lib\\site-packages\\pandas\\_libs\\index.pyx:165\u001b[0m, in \u001b[0;36mpandas._libs.index.IndexEngine.get_loc\u001b[1;34m()\u001b[0m\n",
      "File \u001b[1;32mpandas\\_libs\\hashtable_class_helper.pxi:5745\u001b[0m, in \u001b[0;36mpandas._libs.hashtable.PyObjectHashTable.get_item\u001b[1;34m()\u001b[0m\n",
      "File \u001b[1;32mpandas\\_libs\\hashtable_class_helper.pxi:5753\u001b[0m, in \u001b[0;36mpandas._libs.hashtable.PyObjectHashTable.get_item\u001b[1;34m()\u001b[0m\n",
      "\u001b[1;31mKeyError\u001b[0m: 'NTA'",
      "\nThe above exception was the direct cause of the following exception:\n",
      "\u001b[1;31mKeyError\u001b[0m                                  Traceback (most recent call last)",
      "Cell \u001b[1;32mIn [6], line 1\u001b[0m\n\u001b[1;32m----> 1\u001b[0m \u001b[43mrdf\u001b[49m\u001b[43m[\u001b[49m\u001b[38;5;124;43m'\u001b[39;49m\u001b[38;5;124;43mNTA\u001b[39;49m\u001b[38;5;124;43m'\u001b[39;49m\u001b[43m]\u001b[49m\u001b[38;5;241m.\u001b[39mvalue_counts()\n",
      "File \u001b[1;32m~\\anaconda3\\envs\\dojo-env\\lib\\site-packages\\pandas\\core\\frame.py:3805\u001b[0m, in \u001b[0;36mDataFrame.__getitem__\u001b[1;34m(self, key)\u001b[0m\n\u001b[0;32m   3803\u001b[0m \u001b[38;5;28;01mif\u001b[39;00m \u001b[38;5;28mself\u001b[39m\u001b[38;5;241m.\u001b[39mcolumns\u001b[38;5;241m.\u001b[39mnlevels \u001b[38;5;241m>\u001b[39m \u001b[38;5;241m1\u001b[39m:\n\u001b[0;32m   3804\u001b[0m     \u001b[38;5;28;01mreturn\u001b[39;00m \u001b[38;5;28mself\u001b[39m\u001b[38;5;241m.\u001b[39m_getitem_multilevel(key)\n\u001b[1;32m-> 3805\u001b[0m indexer \u001b[38;5;241m=\u001b[39m \u001b[38;5;28;43mself\u001b[39;49m\u001b[38;5;241;43m.\u001b[39;49m\u001b[43mcolumns\u001b[49m\u001b[38;5;241;43m.\u001b[39;49m\u001b[43mget_loc\u001b[49m\u001b[43m(\u001b[49m\u001b[43mkey\u001b[49m\u001b[43m)\u001b[49m\n\u001b[0;32m   3806\u001b[0m \u001b[38;5;28;01mif\u001b[39;00m is_integer(indexer):\n\u001b[0;32m   3807\u001b[0m     indexer \u001b[38;5;241m=\u001b[39m [indexer]\n",
      "File \u001b[1;32m~\\anaconda3\\envs\\dojo-env\\lib\\site-packages\\pandas\\core\\indexes\\base.py:3805\u001b[0m, in \u001b[0;36mIndex.get_loc\u001b[1;34m(self, key, method, tolerance)\u001b[0m\n\u001b[0;32m   3803\u001b[0m     \u001b[38;5;28;01mreturn\u001b[39;00m \u001b[38;5;28mself\u001b[39m\u001b[38;5;241m.\u001b[39m_engine\u001b[38;5;241m.\u001b[39mget_loc(casted_key)\n\u001b[0;32m   3804\u001b[0m \u001b[38;5;28;01mexcept\u001b[39;00m \u001b[38;5;167;01mKeyError\u001b[39;00m \u001b[38;5;28;01mas\u001b[39;00m err:\n\u001b[1;32m-> 3805\u001b[0m     \u001b[38;5;28;01mraise\u001b[39;00m \u001b[38;5;167;01mKeyError\u001b[39;00m(key) \u001b[38;5;28;01mfrom\u001b[39;00m \u001b[38;5;21;01merr\u001b[39;00m\n\u001b[0;32m   3806\u001b[0m \u001b[38;5;28;01mexcept\u001b[39;00m \u001b[38;5;167;01mTypeError\u001b[39;00m:\n\u001b[0;32m   3807\u001b[0m     \u001b[38;5;66;03m# If we have a listlike key, _check_indexing_error will raise\u001b[39;00m\n\u001b[0;32m   3808\u001b[0m     \u001b[38;5;66;03m#  InvalidIndexError. Otherwise we fall through and re-raise\u001b[39;00m\n\u001b[0;32m   3809\u001b[0m     \u001b[38;5;66;03m#  the TypeError.\u001b[39;00m\n\u001b[0;32m   3810\u001b[0m     \u001b[38;5;28mself\u001b[39m\u001b[38;5;241m.\u001b[39m_check_indexing_error(key)\n",
      "\u001b[1;31mKeyError\u001b[0m: 'NTA'"
     ]
    }
   ],
   "source": [
    "rdf['NTA'].value_counts()"
   ]
  },
  {
   "cell_type": "code",
   "execution_count": null,
   "id": "60d746fb",
   "metadata": {},
   "outputs": [],
   "source": [
    "rdf['BBL'].value_counts()"
   ]
  },
  {
   "cell_type": "code",
   "execution_count": null,
   "id": "7c907f27",
   "metadata": {},
   "outputs": [],
   "source": [
    "rdf['BIN'].value_counts()"
   ]
  },
  {
   "cell_type": "code",
   "execution_count": null,
   "id": "11f08155",
   "metadata": {},
   "outputs": [],
   "source": [
    "rdf.to_csv('rdf', index=False)"
   ]
  }
 ],
 "metadata": {
  "kernelspec": {
   "display_name": "Python (dojo-env)",
   "language": "python",
   "name": "dojo-env"
  },
  "language_info": {
   "codemirror_mode": {
    "name": "ipython",
    "version": 3
   },
   "file_extension": ".py",
   "mimetype": "text/x-python",
   "name": "python",
   "nbconvert_exporter": "python",
   "pygments_lexer": "ipython3",
   "version": "3.9.15"
  },
  "toc": {
   "base_numbering": 1,
   "nav_menu": {},
   "number_sections": false,
   "sideBar": true,
   "skip_h1_title": false,
   "title_cell": "Table of Contents",
   "title_sidebar": "Contents",
   "toc_cell": false,
   "toc_position": {},
   "toc_section_display": true,
   "toc_window_display": false
  }
 },
 "nbformat": 4,
 "nbformat_minor": 5
}
