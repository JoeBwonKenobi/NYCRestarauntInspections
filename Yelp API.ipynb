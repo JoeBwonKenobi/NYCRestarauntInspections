{
 "cells": [
  {
   "cell_type": "markdown",
   "id": "1eeb4e3e",
   "metadata": {},
   "source": [
    "# **Yelp API**"
   ]
  },
  {
   "cell_type": "markdown",
   "id": "bb12ff56",
   "metadata": {},
   "source": [
    "## **Imports**"
   ]
  },
  {
   "cell_type": "code",
   "execution_count": null,
   "id": "42643e9f",
   "metadata": {},
   "outputs": [],
   "source": [
    "# Standard Imports\n",
    "import numpy as np\n",
    "import pandas as pd\n",
    "import matplotlib.pyplot as plt\n",
    "import seaborn as sns\n",
    "\n",
    "# Additional Imports\n",
    "import os, json, math, time\n",
    "from yelpapi import YelpAPI\n",
    "from tqdm.notebook import tqdm_notebook"
   ]
  },
  {
   "cell_type": "code",
   "execution_count": null,
   "id": "cbe4966b",
   "metadata": {},
   "outputs": [],
   "source": [
    "# Load API Credentials\n",
    "with open('/Users/davyd/.secret/yelp_api.json','r') as f:\n",
    "    login = json.load(f)"
   ]
  },
  {
   "cell_type": "code",
   "execution_count": null,
   "id": "3ea3aee0",
   "metadata": {},
   "outputs": [],
   "source": [
    "login.keys()"
   ]
  },
  {
   "cell_type": "code",
   "execution_count": null,
   "id": "3cfb5283",
   "metadata": {},
   "outputs": [],
   "source": [
    "dict_keys(['client-id', 'api-key'])"
   ]
  },
  {
   "cell_type": "code",
   "execution_count": null,
   "id": "cdb49500",
   "metadata": {},
   "outputs": [],
   "source": [
    "# Instantiate YelpAPI Variable\n",
    "yelp = YelpAPI(login['api-key'],timeout_s=5.0)"
   ]
  },
  {
   "cell_type": "code",
   "execution_count": null,
   "id": "79f7e0b4",
   "metadata": {},
   "outputs": [],
   "source": []
  },
  {
   "cell_type": "code",
   "execution_count": null,
   "id": "ba493341",
   "metadata": {},
   "outputs": [],
   "source": []
  },
  {
   "cell_type": "markdown",
   "id": "4f786185",
   "metadata": {},
   "source": [
    "Using the Yelp API involves several steps, including creating a Yelp Developer account, obtaining API keys, and making requests to the API. Here's a step-by-step guide:\n",
    "\n",
    "Create a Yelp Developer Account:\n",
    "\n",
    "Go to the Yelp Developer website: Yelp for Developers.\n",
    "Sign up for a developer account if you don't have one. If you do, log in.\n",
    "Create a New App:\n",
    "\n",
    "Once logged in, go to the Create App page.\n",
    "Fill out the required information for your new app (name, description, etc.).\n",
    "Agree to the terms of service and click on \"Create App.\"\n",
    "Get API Key:\n",
    "\n",
    "After creating the app, you'll be redirected to the app's dashboard.\n",
    "Locate the \"API Keys\" section to find your API key. You'll need this key to authenticate your requests.\n",
    "Understand the API Endpoints:\n",
    "\n",
    "Review the Yelp Fusion API documentation to understand the available endpoints and how to structure your requests.\n",
    "Common endpoints include:\n",
    "Business Search: Retrieve information about businesses using parameters such as location, category, or name.\n",
    "Business Details: Get detailed information about a specific business using its unique ID.\n",
    "Reviews: Retrieve reviews for a specific business.\n",
    "Autocomplete: Get autocomplete suggestions for search terms.\n",
    "Make API Requests:\n",
    "\n",
    "Use your preferred programming language to make HTTP requests to Yelp's API endpoints.\n",
    "\n",
    "Include your API key in the request headers for authentication.\n",
    "\n",
    "Example using cURL:\n",
    "\n",
    "bash\n",
    "Copy code\n",
    "curl -X GET -H \"Authorization: Bearer YOUR_API_KEY\" \"https://api.yelp.com/v3/businesses/search?location=San+Francisco\"\n",
    "Handle API Responses:\n",
    "\n",
    "Yelp API responses are typically in JSON format. Parse the JSON response to extract the information you need."
   ]
  },
  {
   "cell_type": "markdown",
   "id": "54b2eb15",
   "metadata": {},
   "source": [
    "Handling a dataset with multiple rows for restaurants that had multiple visits can be challenging, but it can also provide valuable insights if done correctly. Here's a step-by-step approach to help you answer your questions and make predictions about future visits:\n",
    "\n",
    "Data Exploration:\n",
    "\n",
    "Begin by thoroughly understanding your dataset. Examine the columns and their meanings.\n",
    "Identify any missing values, outliers, or inconsistencies in the data.\n",
    "Plot histograms, scatter plots, or other visualizations to explore data distributions and relationships.\n",
    "Data Preprocessing:\n",
    "\n",
    "Handle missing data appropriately, either by imputing values or removing rows with missing information.\n",
    "Standardize or normalize numerical features if necessary.\n",
    "Convert categorical variables into numerical representations using techniques like one-hot encoding or label encoding.\n",
    "Feature Engineering:\n",
    "\n",
    "Create new features if they might provide valuable information for your analysis. For example, you can calculate the average score for each restaurant from its multiple visits.\n",
    "Consider using time-related features to capture trends over time.\n",
    "Data Splitting:\n",
    "\n",
    "Decide whether to split the data into multiple datasets (one for each visit) or keep it together.\n",
    "Splitting the data by visit may be useful if you want to model each visit separately and analyze trends between visits. However, this can increase complexity.\n",
    "Keeping the data together and adding a visit identifier can make it easier to build predictive models.\n",
    "Exploratory Data Analysis (EDA):\n",
    "\n",
    "Conduct EDA to identify trends or patterns within the data.\n",
    "Analyze the distribution of scores, types of violations, cuisine categories, and geographical locations.\n",
    "Feature Selection:\n",
    "\n",
    "Determine which features are most relevant for predicting subsequent visits. You can use techniques like feature importance or correlation analysis.\n",
    "Consider creating new features that capture the history of violations, scores, or other relevant information across visits.\n",
    "Model Building:\n",
    "\n",
    "Choose appropriate machine learning algorithms for your prediction task. You might consider classification models since you want to predict whether a restaurant will have a second or third visit.\n",
    "Split your data into training and testing sets for model evaluation.\n",
    "Train and fine-tune your models on the training data, using appropriate evaluation metrics (e.g., accuracy, precision, recall, F1-score).\n",
    "Evaluation and Validation:\n",
    "\n",
    "Evaluate your model's performance on the testing data to ensure it generalizes well to new data.\n",
    "Consider using techniques like cross-validation to assess model stability and reduce overfitting.\n",
    "Interpretability:\n",
    "\n",
    "Interpret your model's results to understand which features are driving predictions. This can provide insights into why certain restaurants are more likely to receive subsequent visits.\n",
    "Deployment:\n",
    "\n",
    "If your model performs well, consider deploying it as a tool to help prioritize restaurant inspections or allocate resources more effectively.\n",
    "Continuous Monitoring and Updating:\n",
    "\n",
    "Periodically retrain your model with new data to keep it up to date and ensure its performance remains satisfactory.\n",
    "Whether you choose to split the data by visit or keep it together depends on the specific goals of your analysis and the complexity you're comfortable with. Keeping the data together with appropriate feature engineering and feature selection can often lead to more interpretable models and simpler workflows. However, splitting the data by visit can provide more granular insights into the factors influencing repeat inspections for each visit. It's essential to weigh the trade-offs and choose an approach that aligns with your project's objectives."
   ]
  },
  {
   "cell_type": "markdown",
   "id": "acfd9351",
   "metadata": {},
   "source": [
    "# **SQL query for API**"
   ]
  },
  {
   "cell_type": "code",
   "execution_count": null,
   "id": "63a4e200",
   "metadata": {},
   "outputs": [],
   "source": [
    "#Notes:\n",
    "#Only some inspection types result in gradable inspections\n",
    "#While scores are provided on initial inspection, grades are not unless the score is less than or equal to 13.\n",
    "#If a restaurant receives a score of > 13 on initial inspection,the current grade will still reflect the grade\n",
    "#received during the last inspection cycle until the next re-inspection is complete. \n",
    "#Download DOHMH NYC Restaurant Inspection Results data set and save as CSV file: NYC_Insp_Results.csv \n",
    "\n",
    "\n",
    "with RecentInspDate as (\n",
    "       select 'CAMIS'\n",
    "              , max([INSPECTION DATE]) as MostRecentInspDate\n",
    "              from NYC_Insp_Results\n",
    "       where ([INSPECTION TYPE] in (                                            \n",
    "                'Cycle Inspection / Re-inspection'\n",
    "              , 'Pre-permit (Operational) / Re-inspection')\n",
    "              OR ([INSPECTION TYPE] in (                                                    \n",
    "                'Cycle Inspection / Initial Inspection'                                  \n",
    "              , 'Pre-permit (Operational) / Initial Inspection') \n",
    "              AND SCORE <= 13) or ([INSPECTION TYPE] in (                                                    \n",
    "                'Pre-permit (Operational) / Reopening Inspection'\n",
    "                           ,'Cycle Inspection / Reopening Inspection') \n",
    ")) and GRADE in ('A', 'B', 'C', 'P', 'Z')  #values where a grade card or grade pending card is issued\n",
    "       group by CAMIS)"
   ]
  },
  {
   "cell_type": "code",
   "execution_count": null,
   "id": "9d849905",
   "metadata": {},
   "outputs": [],
   "source": [
    "#Select restaurant inspection data based on the most recent inspection date\n",
    "select distinct r.CAMIS\n",
    "       , DBA as Name\n",
    "       , r.MostRecentInspDate\n",
    "       , GRADE\n",
    "       , [INSPECTION TYPE]\n",
    "       , SCORE\n",
    "       from NYC_Insp_Results i\n",
    "       join RecentInspDate r\n",
    "              on r.CAMIS = i.CAMIS\n",
    "              and r.MostRecentInspDate = i.[INSPECTION DATE]\n",
    "       where [INSPECTION TYPE] in (                                            \n",
    "'Cycle Inspection / Re-inspection'\n",
    ", 'Pre-permit (Operational) / Re-inspection' #re-inspections\n",
    "              , 'Pre-permit (Operational) / Reopening Inspection'\n",
    ",'Cycle Inspection / Reopening Inspection') #re-opening inspections where grade pending is issued\n",
    "              OR ([INSPECTION TYPE] in (                                                    \n",
    "                'Cycle Inspection / Initial Inspection'                                  \n",
    "              , 'Pre-permit (Operational) / Initial Inspection') \n",
    "              AND SCORE <= 13) #initial inspections where A grade is issued  "
   ]
  }
 ],
 "metadata": {
  "kernelspec": {
   "display_name": "Python (dojo-env)",
   "language": "python",
   "name": "dojo-env"
  },
  "language_info": {
   "codemirror_mode": {
    "name": "ipython",
    "version": 3
   },
   "file_extension": ".py",
   "mimetype": "text/x-python",
   "name": "python",
   "nbconvert_exporter": "python",
   "pygments_lexer": "ipython3",
   "version": "3.9.15"
  },
  "toc": {
   "base_numbering": 1,
   "nav_menu": {},
   "number_sections": false,
   "sideBar": true,
   "skip_h1_title": false,
   "title_cell": "Table of Contents",
   "title_sidebar": "Contents",
   "toc_cell": false,
   "toc_position": {
    "height": "calc(100% - 180px)",
    "left": "10px",
    "top": "150px",
    "width": "248.352px"
   },
   "toc_section_display": true,
   "toc_window_display": false
  }
 },
 "nbformat": 4,
 "nbformat_minor": 5
}
