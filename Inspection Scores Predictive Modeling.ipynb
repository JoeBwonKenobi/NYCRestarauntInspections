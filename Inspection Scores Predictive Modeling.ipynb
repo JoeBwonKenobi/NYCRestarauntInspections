{
 "cells": [
  {
   "cell_type": "markdown",
   "id": "82afade9",
   "metadata": {},
   "source": [
    "# **Predictive Modeling**"
   ]
  },
  {
   "cell_type": "markdown",
   "id": "e3343019",
   "metadata": {},
   "source": [
    "Joseph Lardie\n",
    "\n",
    "November 2023"
   ]
  },
  {
   "cell_type": "markdown",
   "id": "4d9c3d4c",
   "metadata": {},
   "source": [
    "# **Imports**"
   ]
  },
  {
   "cell_type": "code",
   "execution_count": 1,
   "id": "5883f8c5",
   "metadata": {},
   "outputs": [],
   "source": [
    "#Numpy\n",
    "import numpy as np\n",
    "\n",
    "#Pandas\n",
    "import pandas as pd\n",
    "\n",
    "#Seaborn\n",
    "import seaborn as sns\n",
    "\n",
    "#matplotlib\n",
    "import matplotlib.pyplot as plt\n",
    "import plotly\n",
    "%matplotlib inline\n",
    "\n",
    "# Standard imports\n",
    "import re\n",
    "\n",
    "#sklearn\n",
    "from sklearn import preprocessing\n",
    "from sklearn import set_config\n",
    "from sklearn.model_selection import train_test_split, GridSearchCV \n",
    "from sklearn.preprocessing import LabelEncoder, StandardScaler, OrdinalEncoder, OneHotEncoder\n",
    "from sklearn.impute import SimpleImputer \n",
    "from sklearn.metrics import r2_score, confusion_matrix, roc_auc_score, roc_curve, classification_report, mean_squared_error\n",
    "from sklearn.pipeline import Pipeline, make_pipeline\n",
    "from sklearn.compose import ColumnTransformer, make_column_selector, make_column_transformer\n",
    "from sklearn.linear_model import LinearRegression, Ridge\n",
    "from sklearn.neighbors import KNeighborsRegressor\n",
    "from sklearn.ensemble import GradientBoostingRegressor\n",
    "\n",
    "# warnings\n",
    "import warnings\n",
    "warnings.filterwarnings(\"ignore\")\n",
    "set_config(display = 'diagram')"
   ]
  },
  {
   "cell_type": "markdown",
   "id": "00d679a4",
   "metadata": {},
   "source": [
    "# **Loading Data**"
   ]
  },
  {
   "cell_type": "code",
   "execution_count": 2,
   "id": "33aea1b3",
   "metadata": {},
   "outputs": [],
   "source": [
    "# Loading NYC Restaraunt Inspections Data\n",
    "rdf = pd.read_csv('rdf')"
   ]
  },
  {
   "cell_type": "code",
   "execution_count": 3,
   "id": "7c99dceb",
   "metadata": {
    "scrolled": true
   },
   "outputs": [
    {
     "name": "stdout",
     "output_type": "stream",
     "text": [
      "<class 'pandas.core.frame.DataFrame'>\n",
      "RangeIndex: 211180 entries, 0 to 211179\n",
      "Data columns (total 19 columns):\n",
      " #   Column                 Non-Null Count   Dtype  \n",
      "---  ------                 --------------   -----  \n",
      " 0   CAMIS                  211180 non-null  int64  \n",
      " 1   DBA                    210501 non-null  object \n",
      " 2   BORO                   211180 non-null  object \n",
      " 3   BUILDING               210883 non-null  object \n",
      " 4   STREET                 211177 non-null  object \n",
      " 5   ZIPCODE                208492 non-null  float64\n",
      " 6   CUISINE DESCRIPTION    208713 non-null  object \n",
      " 7   INSPECTION DATE        211180 non-null  object \n",
      " 8   ACTION                 208713 non-null  object \n",
      " 9   VIOLATION CODE         207585 non-null  object \n",
      " 10  VIOLATION DESCRIPTION  207585 non-null  object \n",
      " 11  CRITICAL FLAG          211180 non-null  object \n",
      " 12  SCORE                  201018 non-null  float64\n",
      " 13  GRADE                  103218 non-null  object \n",
      " 14  GRADE DATE             94397 non-null   object \n",
      " 15  INSPECTION TYPE        208713 non-null  object \n",
      " 16  Latitude               210900 non-null  float64\n",
      " 17  Longitude              210900 non-null  float64\n",
      " 18  Council District       207959 non-null  float64\n",
      "dtypes: float64(5), int64(1), object(13)\n",
      "memory usage: 30.6+ MB\n"
     ]
    }
   ],
   "source": [
    "# Glance of Inspections Data\n",
    "rdf.info()"
   ]
  },
  {
   "cell_type": "markdown",
   "id": "46913a80",
   "metadata": {},
   "source": [
    "# **Data Cleaning**"
   ]
  },
  {
   "cell_type": "code",
   "execution_count": 4,
   "id": "19b2fefd",
   "metadata": {},
   "outputs": [],
   "source": [
    "# Dropping irrelevant columns that do not affect predicting the classification question of will a restaurant pass an inspection\n",
    "rdf.drop(['Latitude', 'Longitude', 'Council District', 'ZIPCODE', 'CRITICAL FLAG', 'BUILDING', 'STREET', 'ACTION', 'GRADE'], axis=1, inplace=True)"
   ]
  },
  {
   "cell_type": "code",
   "execution_count": 5,
   "id": "66990824",
   "metadata": {},
   "outputs": [
    {
     "name": "stdout",
     "output_type": "stream",
     "text": [
      "<class 'pandas.core.frame.DataFrame'>\n",
      "RangeIndex: 211180 entries, 0 to 211179\n",
      "Data columns (total 10 columns):\n",
      " #   Column                 Non-Null Count   Dtype  \n",
      "---  ------                 --------------   -----  \n",
      " 0   CAMIS                  211180 non-null  int64  \n",
      " 1   DBA                    210501 non-null  object \n",
      " 2   BORO                   211180 non-null  object \n",
      " 3   CUISINE DESCRIPTION    208713 non-null  object \n",
      " 4   INSPECTION DATE        211180 non-null  object \n",
      " 5   VIOLATION CODE         207585 non-null  object \n",
      " 6   VIOLATION DESCRIPTION  207585 non-null  object \n",
      " 7   SCORE                  201018 non-null  float64\n",
      " 8   GRADE DATE             94397 non-null   object \n",
      " 9   INSPECTION TYPE        208713 non-null  object \n",
      "dtypes: float64(1), int64(1), object(8)\n",
      "memory usage: 16.1+ MB\n"
     ]
    }
   ],
   "source": [
    "# Inspection data after dropping irrelevant columns\n",
    "rdf.info()"
   ]
  },
  {
   "cell_type": "code",
   "execution_count": 6,
   "id": "4b8cb4b1",
   "metadata": {},
   "outputs": [],
   "source": [
    "# Filter to eliminate restaurants that have not yet recieved their inspection\n",
    "def filter_inspected_restaurants(rdf):\n",
    "    # Filter out rows with '1/1/1900' date\n",
    "    filtered_dataframe = rdf[rdf['INSPECTION DATE'] != '1900-01-01']\n",
    "\n",
    "    return filtered_dataframe\n",
    "# Applying the filter function to the column Inpection date\n",
    "rdf = filter_inspected_restaurants(rdf)"
   ]
  },
  {
   "cell_type": "code",
   "execution_count": 7,
   "id": "d8e9154b",
   "metadata": {},
   "outputs": [
    {
     "name": "stdout",
     "output_type": "stream",
     "text": [
      "Number of rows removed: 198222\n"
     ]
    }
   ],
   "source": [
    "# Convert 'INSPECTION DATE' to datetime if not already in datetime format\n",
    "rdf['INSPECTION DATE'] = pd.to_datetime(rdf['INSPECTION DATE'], errors='coerce')\n",
    "\n",
    "# Remove rows with inspection date before 2020\n",
    "rdf = rdf[rdf['INSPECTION DATE'].dt.year >= 2020].copy()\n",
    "\n",
    "# If you want to modify the original dataframe in place, you can use inplace=True\n",
    "# rdf = rdf[rdf['INSPECTION DATE'].dt.year >= 2020].copy(inplace=True)\n",
    "\n",
    "# Display the number of removed rows\n",
    "print(\"Number of rows removed:\", len(rdf))"
   ]
  },
  {
   "cell_type": "code",
   "execution_count": 8,
   "id": "e46e6653",
   "metadata": {},
   "outputs": [
    {
     "name": "stdout",
     "output_type": "stream",
     "text": [
      "There are 0 duplicate rows.\n"
     ]
    }
   ],
   "source": [
    "# Display the number of duplicate rows in the dataset\n",
    "print(f'There are {rdf.duplicated().sum()} duplicate rows.')"
   ]
  },
  {
   "cell_type": "code",
   "execution_count": 9,
   "id": "231f6eed",
   "metadata": {},
   "outputs": [],
   "source": [
    "#Dropping duplicated Rows\n",
    "rdf = rdf.drop_duplicates()"
   ]
  },
  {
   "cell_type": "code",
   "execution_count": 10,
   "id": "201b5438",
   "metadata": {},
   "outputs": [
    {
     "name": "stdout",
     "output_type": "stream",
     "text": [
      "There are 0 duplicate rows.\n"
     ]
    }
   ],
   "source": [
    "# Comfirming there are no more duplicates \n",
    "print(f'There are {rdf.duplicated().sum()} duplicate rows.')"
   ]
  },
  {
   "cell_type": "code",
   "execution_count": 11,
   "id": "f8424f3c",
   "metadata": {},
   "outputs": [
    {
     "data": {
      "text/plain": [
       "(109874, 10)"
      ]
     },
     "execution_count": 11,
     "metadata": {},
     "output_type": "execute_result"
    }
   ],
   "source": [
    "#Checking for missing values\n",
    "rdf[rdf.isna().any(axis=1)].shape"
   ]
  },
  {
   "cell_type": "code",
   "execution_count": 12,
   "id": "4ed01584",
   "metadata": {
    "scrolled": true
   },
   "outputs": [
    {
     "data": {
      "text/plain": [
       "CAMIS                         0\n",
       "DBA                           0\n",
       "BORO                          0\n",
       "CUISINE DESCRIPTION           0\n",
       "INSPECTION DATE               0\n",
       "VIOLATION CODE              934\n",
       "VIOLATION DESCRIPTION       934\n",
       "SCORE                      7323\n",
       "GRADE DATE               109564\n",
       "INSPECTION TYPE               0\n",
       "dtype: int64"
      ]
     },
     "execution_count": 12,
     "metadata": {},
     "output_type": "execute_result"
    }
   ],
   "source": [
    "#Identifying the columns containing missing values\n",
    "rdf.isna().sum()"
   ]
  },
  {
   "cell_type": "code",
   "execution_count": 13,
   "id": "c6723631",
   "metadata": {},
   "outputs": [],
   "source": [
    "# Function to clean restaurant names\n",
    "def clean_restaurant_name(name):\n",
    "    # Check if the input is a string\n",
    "    if isinstance(name, str):\n",
    "        # Remove store numbers using regular expression\n",
    "        cleaned_name = re.sub(r'#\\d+', '', name)\n",
    "        \n",
    "        # Remove all numeric characters\n",
    "        cleaned_name = re.sub(r'\\d+', '', cleaned_name)\n",
    "    \n",
    "        # Remove leading and trailing whitespace\n",
    "        cleaned_name = cleaned_name.strip()\n",
    "    \n",
    "        return cleaned_name\n",
    "    else:\n",
    "        return name  # Return the input unchanged for non-string values\n",
    "\n",
    "# Apply the clean_restaurant_name function to the 'DBA' column\n",
    "rdf['Cleaned Restaurant Name'] = rdf['DBA'].apply(clean_restaurant_name)\n",
    "\n",
    "# Drop the original 'DBA' column if you want\n",
    "rdf.drop(columns=['DBA'], inplace=True)"
   ]
  },
  {
   "cell_type": "code",
   "execution_count": 14,
   "id": "f57be185",
   "metadata": {},
   "outputs": [
    {
     "name": "stdout",
     "output_type": "stream",
     "text": [
      "<class 'pandas.core.frame.DataFrame'>\n",
      "Int64Index: 198222 entries, 19 to 211179\n",
      "Data columns (total 10 columns):\n",
      " #   Column                   Non-Null Count   Dtype         \n",
      "---  ------                   --------------   -----         \n",
      " 0   CAMIS                    198222 non-null  int64         \n",
      " 1   BORO                     198222 non-null  object        \n",
      " 2   CUISINE DESCRIPTION      198222 non-null  object        \n",
      " 3   INSPECTION DATE          198222 non-null  datetime64[ns]\n",
      " 4   VIOLATION CODE           197288 non-null  object        \n",
      " 5   VIOLATION DESCRIPTION    197288 non-null  object        \n",
      " 6   SCORE                    190899 non-null  float64       \n",
      " 7   GRADE DATE               88658 non-null   object        \n",
      " 8   INSPECTION TYPE          198222 non-null  object        \n",
      " 9   Cleaned Restaurant Name  198222 non-null  object        \n",
      "dtypes: datetime64[ns](1), float64(1), int64(1), object(7)\n",
      "memory usage: 16.6+ MB\n"
     ]
    }
   ],
   "source": [
    "rdf.info()"
   ]
  },
  {
   "cell_type": "code",
   "execution_count": 15,
   "id": "05f0cc62",
   "metadata": {},
   "outputs": [],
   "source": [
    "# Filtering out only the initial inspections and re-inspections\n",
    "def filter_inspection_type(rdf):\n",
    "    \"\"\"\n",
    "    Filter rows based on the values in the \"INSPECTION TYPE\" column.\n",
    "\n",
    "    Returns:\n",
    "    - DataFrame containing only rows with specified inspection types\n",
    "    \"\"\"\n",
    "    inspection_types_to_keep = ['Cycle Inspection / Initial Inspection', 'Cycle Inspection / Re-inspection']\n",
    "    filtered_rdf = rdf.loc[rdf['INSPECTION TYPE'].isin(inspection_types_to_keep)]\n",
    "\n",
    "    return filtered_rdf\n",
    "\n",
    "rdf = filter_inspection_type(rdf)"
   ]
  },
  {
   "cell_type": "code",
   "execution_count": 16,
   "id": "9e766408",
   "metadata": {
    "scrolled": true
   },
   "outputs": [
    {
     "name": "stdout",
     "output_type": "stream",
     "text": [
      "40365904    58\n",
      "41406895    58\n",
      "50089474    50\n",
      "41658324    46\n",
      "50045647    45\n",
      "            ..\n",
      "50072002     1\n",
      "50104959     1\n",
      "50106402     1\n",
      "50002380     1\n",
      "50118088     1\n",
      "Name: CAMIS, Length: 19981, dtype: int64\n",
      "Manhattan        52875\n",
      "Brooklyn         39449\n",
      "Queens           32959\n",
      "Bronx            12634\n",
      "Staten Island     5303\n",
      "Name: BORO, dtype: int64\n",
      "American             24263\n",
      "Chinese              14048\n",
      "Coffee/Tea            9439\n",
      "Pizza                 9189\n",
      "Latin American        6122\n",
      "                     ...  \n",
      "Czech                   12\n",
      "Iranian                  9\n",
      "Basque                   8\n",
      "Fruits/Vegetables        7\n",
      "Haute Cuisine            5\n",
      "Name: CUISINE DESCRIPTION, Length: 87, dtype: int64\n",
      "2023-02-15    504\n",
      "2023-02-16    497\n",
      "2023-03-16    471\n",
      "2023-02-23    463\n",
      "2022-05-12    460\n",
      "             ... \n",
      "2023-10-01      1\n",
      "2022-04-23      1\n",
      "2023-09-29      1\n",
      "2023-11-19      1\n",
      "2023-09-30      1\n",
      "Name: INSPECTION DATE, Length: 754, dtype: int64\n",
      "10F      21325\n",
      "08A      16837\n",
      "06D      10684\n",
      "04L      10469\n",
      "02G       9528\n",
      "         ...  \n",
      "03F          4\n",
      "18-11        3\n",
      "04I          2\n",
      "22F          1\n",
      "03G          1\n",
      "Name: VIOLATION CODE, Length: 71, dtype: int64\n",
      "Non-food contact surface or equipment made of unacceptable material, not kept clean, or not properly sealed, raised, spaced or movable to allow accessibility for cleaning on all sides, above and underneath the unit.                                                                13347\n",
      "Food contact surface not properly washed, rinsed and sanitized after each use and following any activity when contamination may have occurred.                                                                                                                                         10684\n",
      "Establishment is not free of harborage or conditions conducive to rodents, insects or other pests.                                                                                                                                                                                     10623\n",
      "Non-food contact surface improperly constructed. Unacceptable material used. Non-food contact surface or equipment improperly maintained and/or not properly sealed, raised, spaced or movable to allow accessibility for cleaning on all sides, above and underneath the unit.         7978\n",
      "Evidence of mice or live mice in establishment's food or non-food areas.                                                                                                                                                                                                                6363\n",
      "                                                                                                                                                                                                                                                                                       ...  \n",
      "Raw food not properly washed prior to serving.                                                                                                                                                                                                                                             1\n",
      "Food worker or vendor working or is knowingly or negligently permitted to work in FSE while afflicted with infected wound or reportable communicable disease. No spitting allowed. Spitting anywhere in the establishment is prohibited.                                                   1\n",
      "Non-TCS food that has been served to the public being re-served. (Does not apply to wrapped foods where the wrapper seal has not been broken or opened).                                                                                                                                   1\n",
      "MISBRANDED AND LABELING                                                                                                                                                                                                                                                                    1\n",
      "Food package (including canned food product or hermetically sealed container) not in good condition to the degree contents are not suitable for human consumption.  Package is swollen, leaking or rusted, without “DO NOT USE” label or not segregated from consumable food items.        1\n",
      "Name: VIOLATION DESCRIPTION, Length: 148, dtype: int64\n",
      "12.0     12923\n",
      "13.0     11842\n",
      "0.0       7580\n",
      "10.0      6272\n",
      "11.0      5936\n",
      "         ...  \n",
      "97.0        10\n",
      "96.0         9\n",
      "142.0        8\n",
      "108.0        8\n",
      "120.0        5\n",
      "Name: SCORE, Length: 111, dtype: int64\n",
      "12/01/2022    332\n",
      "11/28/2022    318\n",
      "03/03/2022    308\n",
      "02/28/2023    305\n",
      "11/30/2022    304\n",
      "             ... \n",
      "04/23/2022      1\n",
      "10/01/2023      1\n",
      "10/14/2023      1\n",
      "05/07/2023      1\n",
      "09/30/2023      1\n",
      "Name: GRADE DATE, Length: 745, dtype: int64\n",
      "Cycle Inspection / Initial Inspection    108242\n",
      "Cycle Inspection / Re-inspection          34978\n",
      "Name: INSPECTION TYPE, dtype: int64\n",
      "DUNKIN                       2424\n",
      "SUBWAY                       1399\n",
      "STARBUCKS                    1144\n",
      "MCDONALD'S                    958\n",
      "POPEYES                       550\n",
      "                             ... \n",
      "KIDS TOWN PLAY SPACE            1\n",
      "GREY BAR & RESTAURANT           1\n",
      "DANIEL CORPUZ CHOCOLATIER       1\n",
      "SWEETGREEN ND + LEX             1\n",
      "BREWLITA                        1\n",
      "Name: Cleaned Restaurant Name, Length: 15718, dtype: int64\n"
     ]
    }
   ],
   "source": [
    "# Function for value counts of the columns \n",
    "for col in rdf.columns:\n",
    "    print(rdf[col].value_counts())"
   ]
  },
  {
   "cell_type": "markdown",
   "id": "13767e06",
   "metadata": {},
   "source": [
    "## **Selecting Brooklyn Restaurants**"
   ]
  },
  {
   "cell_type": "code",
   "execution_count": 17,
   "id": "06263fa8",
   "metadata": {},
   "outputs": [],
   "source": [
    "# Selecting subset of only restaurants from Brooklyn\n",
    "rdf = rdf[rdf['BORO'].str.lower() == 'brooklyn']"
   ]
  },
  {
   "cell_type": "code",
   "execution_count": 18,
   "id": "6f280cdd",
   "metadata": {},
   "outputs": [],
   "source": [
    "# Handling missing values and date columns\n",
    "rdf['INSPECTION DATE'] = pd.to_datetime(rdf['INSPECTION DATE'], errors='coerce')\n",
    "rdf['year'] = rdf['INSPECTION DATE'].dt.year\n",
    "rdf['month'] = rdf['INSPECTION DATE'].dt.month\n",
    "rdf['day'] = rdf['INSPECTION DATE'].dt.day"
   ]
  },
  {
   "cell_type": "code",
   "execution_count": 19,
   "id": "f6532ea2",
   "metadata": {},
   "outputs": [],
   "source": [
    "# Dropping 'BORO' and 'CUISINE DESCRIPTION' now that only restaurants in Brooklyn remain\n",
    "rdf.drop(['BORO', 'CUISINE DESCRIPTION', 'GRADE DATE', 'INSPECTION TYPE', 'INSPECTION DATE'], axis=1, inplace=True)"
   ]
  },
  {
   "cell_type": "code",
   "execution_count": 20,
   "id": "d5c92970",
   "metadata": {
    "scrolled": false
   },
   "outputs": [
    {
     "name": "stdout",
     "output_type": "stream",
     "text": [
      "<class 'pandas.core.frame.DataFrame'>\n",
      "Int64Index: 39449 entries, 38 to 211176\n",
      "Data columns (total 8 columns):\n",
      " #   Column                   Non-Null Count  Dtype  \n",
      "---  ------                   --------------  -----  \n",
      " 0   CAMIS                    39449 non-null  int64  \n",
      " 1   VIOLATION CODE           39405 non-null  object \n",
      " 2   VIOLATION DESCRIPTION    39405 non-null  object \n",
      " 3   SCORE                    39449 non-null  float64\n",
      " 4   Cleaned Restaurant Name  39449 non-null  object \n",
      " 5   year                     39449 non-null  int64  \n",
      " 6   month                    39449 non-null  int64  \n",
      " 7   day                      39449 non-null  int64  \n",
      "dtypes: float64(1), int64(4), object(3)\n",
      "memory usage: 2.7+ MB\n"
     ]
    }
   ],
   "source": [
    "# Looking at the remaining data after cleaning\n",
    "rdf.info()"
   ]
  },
  {
   "cell_type": "code",
   "execution_count": 21,
   "id": "7e6722c6",
   "metadata": {
    "scrolled": true
   },
   "outputs": [
    {
     "data": {
      "image/png": "[encoded data removed]",
      "text/plain": [
       "<Figure size 640x480 with 1 Axes>"
      ]
     },
     "metadata": {},
     "output_type": "display_data"
    },
    {
     "name": "stdout",
     "output_type": "stream",
     "text": [
      "Number of outliers removed: 1584\n"
     ]
    }
   ],
   "source": [
    "# Check for outliers using a box plot\n",
    "sns.boxplot(x=rdf['SCORE'])\n",
    "plt.title(\"Box Plot of Target Variable\")\n",
    "plt.show()\n",
    "\n",
    "# Calculate the IQR (Interquartile Range)\n",
    "Q1 = rdf['SCORE'].quantile(0.25)\n",
    "Q3 = rdf['SCORE'].quantile(0.75)\n",
    "IQR = Q3 - Q1\n",
    "\n",
    "# Define upper and lower bounds to identify outliers\n",
    "lower_bound = Q1 - 1.5 * IQR\n",
    "upper_bound = Q3 + 1.5 * IQR\n",
    "\n",
    "# Identify and remove outliers\n",
    "outliers = (rdf['SCORE'] < lower_bound) | (rdf['SCORE'] > upper_bound)\n",
    "rdf = rdf[~outliers]\n",
    "\n",
    "# Display the number of removed outliers\n",
    "print(\"Number of outliers removed:\", sum(outliers))"
   ]
  },
  {
   "cell_type": "code",
   "execution_count": 22,
   "id": "38fe16c3",
   "metadata": {},
   "outputs": [
    {
     "name": "stdout",
     "output_type": "stream",
     "text": [
      "Number of outliers removed: 37865\n"
     ]
    }
   ],
   "source": [
    "# Remove outliers directly in the dataframe with inplace=True\n",
    "rdf = rdf[(rdf['SCORE'] >= lower_bound) & (rdf['SCORE'] <= upper_bound)]\n",
    "rdf.reset_index(drop=True, inplace=True)\n",
    "\n",
    "# Display the number of removed outliers\n",
    "print(\"Number of outliers removed:\", len(rdf))"
   ]
  },
  {
   "cell_type": "code",
   "execution_count": 23,
   "id": "71568e86",
   "metadata": {},
   "outputs": [
    {
     "data": {
      "text/plain": [
       "(44, 8)"
      ]
     },
     "execution_count": 23,
     "metadata": {},
     "output_type": "execute_result"
    }
   ],
   "source": [
    "#Checking for missing values\n",
    "rdf[rdf.isna().any(axis=1)].shape"
   ]
  },
  {
   "cell_type": "markdown",
   "id": "ace67722",
   "metadata": {},
   "source": [
    "# **Predicting Scores**"
   ]
  },
  {
   "cell_type": "markdown",
   "id": "133edfb3",
   "metadata": {},
   "source": [
    "# **Validation Split**"
   ]
  },
  {
   "cell_type": "code",
   "execution_count": 24,
   "id": "21898dc9",
   "metadata": {},
   "outputs": [],
   "source": [
    "# Defining the target variable\n",
    "X= rdf.drop('SCORE', axis=1)\n",
    "y= rdf['SCORE']"
   ]
  },
  {
   "cell_type": "markdown",
   "id": "d30669f0",
   "metadata": {},
   "source": [
    "# **Data Preprocessing**"
   ]
  },
  {
   "cell_type": "code",
   "execution_count": 25,
   "id": "d62059c6",
   "metadata": {},
   "outputs": [],
   "source": [
    "# Split the data into training and testing sets \n",
    "X_train, X_test, y_train, y_test = train_test_split(X, y, test_size=0.2, random_state=42)"
   ]
  },
  {
   "cell_type": "code",
   "execution_count": 26,
   "id": "faf1690f",
   "metadata": {},
   "outputs": [
    {
     "name": "stdout",
     "output_type": "stream",
     "text": [
      "Missing values in X_train: 78\n",
      "Missing values in y_train: 0\n",
      "Data types in X_train:\n",
      " CAMIS                       int64\n",
      "VIOLATION CODE             object\n",
      "VIOLATION DESCRIPTION      object\n",
      "Cleaned Restaurant Name    object\n",
      "year                        int64\n",
      "month                       int64\n",
      "day                         int64\n",
      "dtype: object\n",
      "Data type in y_train: float64\n"
     ]
    }
   ],
   "source": [
    "# Check for missing values\n",
    "print(\"Missing values in X_train:\", X_train.isnull().sum().sum())\n",
    "print(\"Missing values in y_train:\", y_train.isnull().sum().sum())\n",
    "\n",
    "# Check data types\n",
    "print(\"Data types in X_train:\\n\", X_train.dtypes)\n",
    "print(\"Data type in y_train:\", y_train.dtypes)\n"
   ]
  },
  {
   "cell_type": "code",
   "execution_count": 27,
   "id": "a8af7a71",
   "metadata": {},
   "outputs": [],
   "source": [
    "#Imputers\n",
    "freq_imputer = SimpleImputer(strategy='most_frequent')\n",
    "mean_imputer = SimpleImputer(strategy= 'mean')\n",
    "\n",
    "# Standard Scaler\n",
    "scaler = StandardScaler()\n",
    "\n",
    "# OneHotEncoder\n",
    "ohe = OneHotEncoder(sparse=False, drop='first', handle_unknown='ignore')\n",
    "\n",
    "# Instantiate the selectors\n",
    "num_selector = make_column_selector(dtype_include='number')\n",
    "cat_selector = make_column_selector(dtype_include='object')\n",
    "\n",
    "# Forming pipelines\n",
    "num_pipe = make_pipeline(mean_imputer, scaler)\n",
    "cat_pipe = make_pipeline(freq_imputer, ohe)\n",
    "\n",
    "#Create Tuples\n",
    "num_tuple = ('num', num_pipe, num_selector)\n",
    "cat_tuple = ('cat', cat_pipe, cat_selector)\n",
    "\n",
    "#Make tuples for preprocessing the categorical and numeric columns\n",
    "num_tuple = (num_pipe, num_selector)\n",
    "cat_tuple = (cat_pipe, cat_selector)  \n",
    "\n",
    "#Create Column Transformer\n",
    "preprocessor= make_column_transformer(num_tuple, cat_tuple, remainder='passthrough')"
   ]
  },
  {
   "cell_type": "code",
   "execution_count": 28,
   "id": "e9e3f865",
   "metadata": {
    "scrolled": true
   },
   "outputs": [
    {
     "data": {
      "text/html": [
       "<style>#sk-container-id-1 {color: black;}#sk-container-id-1 pre{padding: 0;}#sk-container-id-1 div.sk-toggleable {background-color: white;}#sk-container-id-1 label.sk-toggleable__label {cursor: pointer;display: block;width: 100%;margin-bottom: 0;padding: 0.3em;box-sizing: border-box;text-align: center;}#sk-container-id-1 label.sk-toggleable__label-arrow:before {content: \"▸\";float: left;margin-right: 0.25em;color: #696969;}#sk-container-id-1 label.sk-toggleable__label-arrow:hover:before {color: black;}#sk-container-id-1 div.sk-estimator:hover label.sk-toggleable__label-arrow:before {color: black;}#sk-container-id-1 div.sk-toggleable__content {max-height: 0;max-width: 0;overflow: hidden;text-align: left;background-color: #f0f8ff;}#sk-container-id-1 div.sk-toggleable__content pre {margin: 0.2em;color: black;border-radius: 0.25em;background-color: #f0f8ff;}#sk-container-id-1 input.sk-toggleable__control:checked~div.sk-toggleable__content {max-height: 200px;max-width: 100%;overflow: auto;}#sk-container-id-1 input.sk-toggleable__control:checked~label.sk-toggleable__label-arrow:before {content: \"▾\";}#sk-container-id-1 div.sk-estimator input.sk-toggleable__control:checked~label.sk-toggleable__label {background-color: #d4ebff;}#sk-container-id-1 div.sk-label input.sk-toggleable__control:checked~label.sk-toggleable__label {background-color: #d4ebff;}#sk-container-id-1 input.sk-hidden--visually {border: 0;clip: rect(1px 1px 1px 1px);clip: rect(1px, 1px, 1px, 1px);height: 1px;margin: -1px;overflow: hidden;padding: 0;position: absolute;width: 1px;}#sk-container-id-1 div.sk-estimator {font-family: monospace;background-color: #f0f8ff;border: 1px dotted black;border-radius: 0.25em;box-sizing: border-box;margin-bottom: 0.5em;}#sk-container-id-1 div.sk-estimator:hover {background-color: #d4ebff;}#sk-container-id-1 div.sk-parallel-item::after {content: \"\";width: 100%;border-bottom: 1px solid gray;flex-grow: 1;}#sk-container-id-1 div.sk-label:hover label.sk-toggleable__label {background-color: #d4ebff;}#sk-container-id-1 div.sk-serial::before {content: \"\";position: absolute;border-left: 1px solid gray;box-sizing: border-box;top: 0;bottom: 0;left: 50%;z-index: 0;}#sk-container-id-1 div.sk-serial {display: flex;flex-direction: column;align-items: center;background-color: white;padding-right: 0.2em;padding-left: 0.2em;position: relative;}#sk-container-id-1 div.sk-item {position: relative;z-index: 1;}#sk-container-id-1 div.sk-parallel {display: flex;align-items: stretch;justify-content: center;background-color: white;position: relative;}#sk-container-id-1 div.sk-item::before, #sk-container-id-1 div.sk-parallel-item::before {content: \"\";position: absolute;border-left: 1px solid gray;box-sizing: border-box;top: 0;bottom: 0;left: 50%;z-index: -1;}#sk-container-id-1 div.sk-parallel-item {display: flex;flex-direction: column;z-index: 1;position: relative;background-color: white;}#sk-container-id-1 div.sk-parallel-item:first-child::after {align-self: flex-end;width: 50%;}#sk-container-id-1 div.sk-parallel-item:last-child::after {align-self: flex-start;width: 50%;}#sk-container-id-1 div.sk-parallel-item:only-child::after {width: 0;}#sk-container-id-1 div.sk-dashed-wrapped {border: 1px dashed gray;margin: 0 0.4em 0.5em 0.4em;box-sizing: border-box;padding-bottom: 0.4em;background-color: white;}#sk-container-id-1 div.sk-label label {font-family: monospace;font-weight: bold;display: inline-block;line-height: 1.2em;}#sk-container-id-1 div.sk-label-container {text-align: center;}#sk-container-id-1 div.sk-container {/* jupyter's `normalize.less` sets `[hidden] { display: none; }` but bootstrap.min.css set `[hidden] { display: none !important; }` so we also need the `!important` here to be able to override the default hidden behavior on the sphinx rendered scikit-learn.org. See: https://github.com/scikit-learn/scikit-learn/issues/21755 */display: inline-block !important;position: relative;}#sk-container-id-1 div.sk-text-repr-fallback {display: none;}</style><div id=\"sk-container-id-1\" class=\"sk-top-container\"><div class=\"sk-text-repr-fallback\"><pre>ColumnTransformer(remainder=&#x27;passthrough&#x27;,\n",
       "                  transformers=[(&#x27;pipeline-1&#x27;,\n",
       "                                 Pipeline(steps=[(&#x27;simpleimputer&#x27;,\n",
       "                                                  SimpleImputer()),\n",
       "                                                 (&#x27;standardscaler&#x27;,\n",
       "                                                  StandardScaler())]),\n",
       "                                 &lt;sklearn.compose._column_transformer.make_column_selector object at 0x0000020AB94FCA90&gt;),\n",
       "                                (&#x27;pipeline-2&#x27;,\n",
       "                                 Pipeline(steps=[(&#x27;simpleimputer&#x27;,\n",
       "                                                  SimpleImputer(strategy=&#x27;most_frequent&#x27;)),\n",
       "                                                 (&#x27;onehotencoder&#x27;,\n",
       "                                                  OneHotEncoder(drop=&#x27;first&#x27;,\n",
       "                                                                handle_unknown=&#x27;ignore&#x27;,\n",
       "                                                                sparse=False))]),\n",
       "                                 &lt;sklearn.compose._column_transformer.make_column_selector object at 0x0000020AB94FC8E0&gt;)])</pre><b>In a Jupyter environment, please rerun this cell to show the HTML representation or trust the notebook. <br />On GitHub, the HTML representation is unable to render, please try loading this page with nbviewer.org.</b></div><div class=\"sk-container\" hidden><div class=\"sk-item sk-dashed-wrapped\"><div class=\"sk-label-container\"><div class=\"sk-label sk-toggleable\"><input class=\"sk-toggleable__control sk-hidden--visually\" id=\"sk-estimator-id-1\" type=\"checkbox\" ><label for=\"sk-estimator-id-1\" class=\"sk-toggleable__label sk-toggleable__label-arrow\">ColumnTransformer</label><div class=\"sk-toggleable__content\"><pre>ColumnTransformer(remainder=&#x27;passthrough&#x27;,\n",
       "                  transformers=[(&#x27;pipeline-1&#x27;,\n",
       "                                 Pipeline(steps=[(&#x27;simpleimputer&#x27;,\n",
       "                                                  SimpleImputer()),\n",
       "                                                 (&#x27;standardscaler&#x27;,\n",
       "                                                  StandardScaler())]),\n",
       "                                 &lt;sklearn.compose._column_transformer.make_column_selector object at 0x0000020AB94FCA90&gt;),\n",
       "                                (&#x27;pipeline-2&#x27;,\n",
       "                                 Pipeline(steps=[(&#x27;simpleimputer&#x27;,\n",
       "                                                  SimpleImputer(strategy=&#x27;most_frequent&#x27;)),\n",
       "                                                 (&#x27;onehotencoder&#x27;,\n",
       "                                                  OneHotEncoder(drop=&#x27;first&#x27;,\n",
       "                                                                handle_unknown=&#x27;ignore&#x27;,\n",
       "                                                                sparse=False))]),\n",
       "                                 &lt;sklearn.compose._column_transformer.make_column_selector object at 0x0000020AB94FC8E0&gt;)])</pre></div></div></div><div class=\"sk-parallel\"><div class=\"sk-parallel-item\"><div class=\"sk-item\"><div class=\"sk-label-container\"><div class=\"sk-label sk-toggleable\"><input class=\"sk-toggleable__control sk-hidden--visually\" id=\"sk-estimator-id-2\" type=\"checkbox\" ><label for=\"sk-estimator-id-2\" class=\"sk-toggleable__label sk-toggleable__label-arrow\">pipeline-1</label><div class=\"sk-toggleable__content\"><pre>&lt;sklearn.compose._column_transformer.make_column_selector object at 0x0000020AB94FCA90&gt;</pre></div></div></div><div class=\"sk-serial\"><div class=\"sk-item\"><div class=\"sk-serial\"><div class=\"sk-item\"><div class=\"sk-estimator sk-toggleable\"><input class=\"sk-toggleable__control sk-hidden--visually\" id=\"sk-estimator-id-3\" type=\"checkbox\" ><label for=\"sk-estimator-id-3\" class=\"sk-toggleable__label sk-toggleable__label-arrow\">SimpleImputer</label><div class=\"sk-toggleable__content\"><pre>SimpleImputer()</pre></div></div></div><div class=\"sk-item\"><div class=\"sk-estimator sk-toggleable\"><input class=\"sk-toggleable__control sk-hidden--visually\" id=\"sk-estimator-id-4\" type=\"checkbox\" ><label for=\"sk-estimator-id-4\" class=\"sk-toggleable__label sk-toggleable__label-arrow\">StandardScaler</label><div class=\"sk-toggleable__content\"><pre>StandardScaler()</pre></div></div></div></div></div></div></div></div><div class=\"sk-parallel-item\"><div class=\"sk-item\"><div class=\"sk-label-container\"><div class=\"sk-label sk-toggleable\"><input class=\"sk-toggleable__control sk-hidden--visually\" id=\"sk-estimator-id-5\" type=\"checkbox\" ><label for=\"sk-estimator-id-5\" class=\"sk-toggleable__label sk-toggleable__label-arrow\">pipeline-2</label><div class=\"sk-toggleable__content\"><pre>&lt;sklearn.compose._column_transformer.make_column_selector object at 0x0000020AB94FC8E0&gt;</pre></div></div></div><div class=\"sk-serial\"><div class=\"sk-item\"><div class=\"sk-serial\"><div class=\"sk-item\"><div class=\"sk-estimator sk-toggleable\"><input class=\"sk-toggleable__control sk-hidden--visually\" id=\"sk-estimator-id-6\" type=\"checkbox\" ><label for=\"sk-estimator-id-6\" class=\"sk-toggleable__label sk-toggleable__label-arrow\">SimpleImputer</label><div class=\"sk-toggleable__content\"><pre>SimpleImputer(strategy=&#x27;most_frequent&#x27;)</pre></div></div></div><div class=\"sk-item\"><div class=\"sk-estimator sk-toggleable\"><input class=\"sk-toggleable__control sk-hidden--visually\" id=\"sk-estimator-id-7\" type=\"checkbox\" ><label for=\"sk-estimator-id-7\" class=\"sk-toggleable__label sk-toggleable__label-arrow\">OneHotEncoder</label><div class=\"sk-toggleable__content\"><pre>OneHotEncoder(drop=&#x27;first&#x27;, handle_unknown=&#x27;ignore&#x27;, sparse=False)</pre></div></div></div></div></div></div></div></div><div class=\"sk-parallel-item\"><div class=\"sk-item\"><div class=\"sk-label-container\"><div class=\"sk-label sk-toggleable\"><input class=\"sk-toggleable__control sk-hidden--visually\" id=\"sk-estimator-id-8\" type=\"checkbox\" ><label for=\"sk-estimator-id-8\" class=\"sk-toggleable__label sk-toggleable__label-arrow\">remainder</label><div class=\"sk-toggleable__content\"><pre></pre></div></div></div><div class=\"sk-serial\"><div class=\"sk-item\"><div class=\"sk-estimator sk-toggleable\"><input class=\"sk-toggleable__control sk-hidden--visually\" id=\"sk-estimator-id-9\" type=\"checkbox\" ><label for=\"sk-estimator-id-9\" class=\"sk-toggleable__label sk-toggleable__label-arrow\">passthrough</label><div class=\"sk-toggleable__content\"><pre>passthrough</pre></div></div></div></div></div></div></div></div></div></div>"
      ],
      "text/plain": [
       "ColumnTransformer(remainder='passthrough',\n",
       "                  transformers=[('pipeline-1',\n",
       "                                 Pipeline(steps=[('simpleimputer',\n",
       "                                                  SimpleImputer()),\n",
       "                                                 ('standardscaler',\n",
       "                                                  StandardScaler())]),\n",
       "                                 <sklearn.compose._column_transformer.make_column_selector object at 0x0000020AB94FCA90>),\n",
       "                                ('pipeline-2',\n",
       "                                 Pipeline(steps=[('simpleimputer',\n",
       "                                                  SimpleImputer(strategy='most_frequent')),\n",
       "                                                 ('onehotencoder',\n",
       "                                                  OneHotEncoder(drop='first',\n",
       "                                                                handle_unknown='ignore',\n",
       "                                                                sparse=False))]),\n",
       "                                 <sklearn.compose._column_transformer.make_column_selector object at 0x0000020AB94FC8E0>)])"
      ]
     },
     "execution_count": 28,
     "metadata": {},
     "output_type": "execute_result"
    }
   ],
   "source": [
    "# Looking at how the preprocessor is organized\n",
    "preprocessor"
   ]
  },
  {
   "cell_type": "markdown",
   "id": "8301a5e6",
   "metadata": {},
   "source": [
    "## **Linear Regression Model**"
   ]
  },
  {
   "cell_type": "code",
   "execution_count": 29,
   "id": "6cfb96e1",
   "metadata": {},
   "outputs": [],
   "source": [
    "# Create the final pipeline with the preprocessor and the linear regression model\n",
    "lr_model = make_pipeline(preprocessor, LinearRegression())"
   ]
  },
  {
   "cell_type": "code",
   "execution_count": 30,
   "id": "27049e06",
   "metadata": {},
   "outputs": [
    {
     "data": {
      "text/html": [
       "<style>#sk-container-id-2 {color: black;}#sk-container-id-2 pre{padding: 0;}#sk-container-id-2 div.sk-toggleable {background-color: white;}#sk-container-id-2 label.sk-toggleable__label {cursor: pointer;display: block;width: 100%;margin-bottom: 0;padding: 0.3em;box-sizing: border-box;text-align: center;}#sk-container-id-2 label.sk-toggleable__label-arrow:before {content: \"▸\";float: left;margin-right: 0.25em;color: #696969;}#sk-container-id-2 label.sk-toggleable__label-arrow:hover:before {color: black;}#sk-container-id-2 div.sk-estimator:hover label.sk-toggleable__label-arrow:before {color: black;}#sk-container-id-2 div.sk-toggleable__content {max-height: 0;max-width: 0;overflow: hidden;text-align: left;background-color: #f0f8ff;}#sk-container-id-2 div.sk-toggleable__content pre {margin: 0.2em;color: black;border-radius: 0.25em;background-color: #f0f8ff;}#sk-container-id-2 input.sk-toggleable__control:checked~div.sk-toggleable__content {max-height: 200px;max-width: 100%;overflow: auto;}#sk-container-id-2 input.sk-toggleable__control:checked~label.sk-toggleable__label-arrow:before {content: \"▾\";}#sk-container-id-2 div.sk-estimator input.sk-toggleable__control:checked~label.sk-toggleable__label {background-color: #d4ebff;}#sk-container-id-2 div.sk-label input.sk-toggleable__control:checked~label.sk-toggleable__label {background-color: #d4ebff;}#sk-container-id-2 input.sk-hidden--visually {border: 0;clip: rect(1px 1px 1px 1px);clip: rect(1px, 1px, 1px, 1px);height: 1px;margin: -1px;overflow: hidden;padding: 0;position: absolute;width: 1px;}#sk-container-id-2 div.sk-estimator {font-family: monospace;background-color: #f0f8ff;border: 1px dotted black;border-radius: 0.25em;box-sizing: border-box;margin-bottom: 0.5em;}#sk-container-id-2 div.sk-estimator:hover {background-color: #d4ebff;}#sk-container-id-2 div.sk-parallel-item::after {content: \"\";width: 100%;border-bottom: 1px solid gray;flex-grow: 1;}#sk-container-id-2 div.sk-label:hover label.sk-toggleable__label {background-color: #d4ebff;}#sk-container-id-2 div.sk-serial::before {content: \"\";position: absolute;border-left: 1px solid gray;box-sizing: border-box;top: 0;bottom: 0;left: 50%;z-index: 0;}#sk-container-id-2 div.sk-serial {display: flex;flex-direction: column;align-items: center;background-color: white;padding-right: 0.2em;padding-left: 0.2em;position: relative;}#sk-container-id-2 div.sk-item {position: relative;z-index: 1;}#sk-container-id-2 div.sk-parallel {display: flex;align-items: stretch;justify-content: center;background-color: white;position: relative;}#sk-container-id-2 div.sk-item::before, #sk-container-id-2 div.sk-parallel-item::before {content: \"\";position: absolute;border-left: 1px solid gray;box-sizing: border-box;top: 0;bottom: 0;left: 50%;z-index: -1;}#sk-container-id-2 div.sk-parallel-item {display: flex;flex-direction: column;z-index: 1;position: relative;background-color: white;}#sk-container-id-2 div.sk-parallel-item:first-child::after {align-self: flex-end;width: 50%;}#sk-container-id-2 div.sk-parallel-item:last-child::after {align-self: flex-start;width: 50%;}#sk-container-id-2 div.sk-parallel-item:only-child::after {width: 0;}#sk-container-id-2 div.sk-dashed-wrapped {border: 1px dashed gray;margin: 0 0.4em 0.5em 0.4em;box-sizing: border-box;padding-bottom: 0.4em;background-color: white;}#sk-container-id-2 div.sk-label label {font-family: monospace;font-weight: bold;display: inline-block;line-height: 1.2em;}#sk-container-id-2 div.sk-label-container {text-align: center;}#sk-container-id-2 div.sk-container {/* jupyter's `normalize.less` sets `[hidden] { display: none; }` but bootstrap.min.css set `[hidden] { display: none !important; }` so we also need the `!important` here to be able to override the default hidden behavior on the sphinx rendered scikit-learn.org. See: https://github.com/scikit-learn/scikit-learn/issues/21755 */display: inline-block !important;position: relative;}#sk-container-id-2 div.sk-text-repr-fallback {display: none;}</style><div id=\"sk-container-id-2\" class=\"sk-top-container\"><div class=\"sk-text-repr-fallback\"><pre>Pipeline(steps=[(&#x27;columntransformer&#x27;,\n",
       "                 ColumnTransformer(remainder=&#x27;passthrough&#x27;,\n",
       "                                   transformers=[(&#x27;pipeline-1&#x27;,\n",
       "                                                  Pipeline(steps=[(&#x27;simpleimputer&#x27;,\n",
       "                                                                   SimpleImputer()),\n",
       "                                                                  (&#x27;standardscaler&#x27;,\n",
       "                                                                   StandardScaler())]),\n",
       "                                                  &lt;sklearn.compose._column_transformer.make_column_selector object at 0x0000020AB94FCA90&gt;),\n",
       "                                                 (&#x27;pipeline-2&#x27;,\n",
       "                                                  Pipeline(steps=[(&#x27;simpleimputer&#x27;,\n",
       "                                                                   SimpleImputer(strategy=&#x27;most_frequent&#x27;)),\n",
       "                                                                  (&#x27;onehotencoder&#x27;,\n",
       "                                                                   OneHotEncoder(drop=&#x27;first&#x27;,\n",
       "                                                                                 handle_unknown=&#x27;ignore&#x27;,\n",
       "                                                                                 sparse=False))]),\n",
       "                                                  &lt;sklearn.compose._column_transformer.make_column_selector object at 0x0000020AB94FC8E0&gt;)])),\n",
       "                (&#x27;linearregression&#x27;, LinearRegression())])</pre><b>In a Jupyter environment, please rerun this cell to show the HTML representation or trust the notebook. <br />On GitHub, the HTML representation is unable to render, please try loading this page with nbviewer.org.</b></div><div class=\"sk-container\" hidden><div class=\"sk-item sk-dashed-wrapped\"><div class=\"sk-label-container\"><div class=\"sk-label sk-toggleable\"><input class=\"sk-toggleable__control sk-hidden--visually\" id=\"sk-estimator-id-10\" type=\"checkbox\" ><label for=\"sk-estimator-id-10\" class=\"sk-toggleable__label sk-toggleable__label-arrow\">Pipeline</label><div class=\"sk-toggleable__content\"><pre>Pipeline(steps=[(&#x27;columntransformer&#x27;,\n",
       "                 ColumnTransformer(remainder=&#x27;passthrough&#x27;,\n",
       "                                   transformers=[(&#x27;pipeline-1&#x27;,\n",
       "                                                  Pipeline(steps=[(&#x27;simpleimputer&#x27;,\n",
       "                                                                   SimpleImputer()),\n",
       "                                                                  (&#x27;standardscaler&#x27;,\n",
       "                                                                   StandardScaler())]),\n",
       "                                                  &lt;sklearn.compose._column_transformer.make_column_selector object at 0x0000020AB94FCA90&gt;),\n",
       "                                                 (&#x27;pipeline-2&#x27;,\n",
       "                                                  Pipeline(steps=[(&#x27;simpleimputer&#x27;,\n",
       "                                                                   SimpleImputer(strategy=&#x27;most_frequent&#x27;)),\n",
       "                                                                  (&#x27;onehotencoder&#x27;,\n",
       "                                                                   OneHotEncoder(drop=&#x27;first&#x27;,\n",
       "                                                                                 handle_unknown=&#x27;ignore&#x27;,\n",
       "                                                                                 sparse=False))]),\n",
       "                                                  &lt;sklearn.compose._column_transformer.make_column_selector object at 0x0000020AB94FC8E0&gt;)])),\n",
       "                (&#x27;linearregression&#x27;, LinearRegression())])</pre></div></div></div><div class=\"sk-serial\"><div class=\"sk-item sk-dashed-wrapped\"><div class=\"sk-label-container\"><div class=\"sk-label sk-toggleable\"><input class=\"sk-toggleable__control sk-hidden--visually\" id=\"sk-estimator-id-11\" type=\"checkbox\" ><label for=\"sk-estimator-id-11\" class=\"sk-toggleable__label sk-toggleable__label-arrow\">columntransformer: ColumnTransformer</label><div class=\"sk-toggleable__content\"><pre>ColumnTransformer(remainder=&#x27;passthrough&#x27;,\n",
       "                  transformers=[(&#x27;pipeline-1&#x27;,\n",
       "                                 Pipeline(steps=[(&#x27;simpleimputer&#x27;,\n",
       "                                                  SimpleImputer()),\n",
       "                                                 (&#x27;standardscaler&#x27;,\n",
       "                                                  StandardScaler())]),\n",
       "                                 &lt;sklearn.compose._column_transformer.make_column_selector object at 0x0000020AB94FCA90&gt;),\n",
       "                                (&#x27;pipeline-2&#x27;,\n",
       "                                 Pipeline(steps=[(&#x27;simpleimputer&#x27;,\n",
       "                                                  SimpleImputer(strategy=&#x27;most_frequent&#x27;)),\n",
       "                                                 (&#x27;onehotencoder&#x27;,\n",
       "                                                  OneHotEncoder(drop=&#x27;first&#x27;,\n",
       "                                                                handle_unknown=&#x27;ignore&#x27;,\n",
       "                                                                sparse=False))]),\n",
       "                                 &lt;sklearn.compose._column_transformer.make_column_selector object at 0x0000020AB94FC8E0&gt;)])</pre></div></div></div><div class=\"sk-parallel\"><div class=\"sk-parallel-item\"><div class=\"sk-item\"><div class=\"sk-label-container\"><div class=\"sk-label sk-toggleable\"><input class=\"sk-toggleable__control sk-hidden--visually\" id=\"sk-estimator-id-12\" type=\"checkbox\" ><label for=\"sk-estimator-id-12\" class=\"sk-toggleable__label sk-toggleable__label-arrow\">pipeline-1</label><div class=\"sk-toggleable__content\"><pre>&lt;sklearn.compose._column_transformer.make_column_selector object at 0x0000020AB94FCA90&gt;</pre></div></div></div><div class=\"sk-serial\"><div class=\"sk-item\"><div class=\"sk-serial\"><div class=\"sk-item\"><div class=\"sk-estimator sk-toggleable\"><input class=\"sk-toggleable__control sk-hidden--visually\" id=\"sk-estimator-id-13\" type=\"checkbox\" ><label for=\"sk-estimator-id-13\" class=\"sk-toggleable__label sk-toggleable__label-arrow\">SimpleImputer</label><div class=\"sk-toggleable__content\"><pre>SimpleImputer()</pre></div></div></div><div class=\"sk-item\"><div class=\"sk-estimator sk-toggleable\"><input class=\"sk-toggleable__control sk-hidden--visually\" id=\"sk-estimator-id-14\" type=\"checkbox\" ><label for=\"sk-estimator-id-14\" class=\"sk-toggleable__label sk-toggleable__label-arrow\">StandardScaler</label><div class=\"sk-toggleable__content\"><pre>StandardScaler()</pre></div></div></div></div></div></div></div></div><div class=\"sk-parallel-item\"><div class=\"sk-item\"><div class=\"sk-label-container\"><div class=\"sk-label sk-toggleable\"><input class=\"sk-toggleable__control sk-hidden--visually\" id=\"sk-estimator-id-15\" type=\"checkbox\" ><label for=\"sk-estimator-id-15\" class=\"sk-toggleable__label sk-toggleable__label-arrow\">pipeline-2</label><div class=\"sk-toggleable__content\"><pre>&lt;sklearn.compose._column_transformer.make_column_selector object at 0x0000020AB94FC8E0&gt;</pre></div></div></div><div class=\"sk-serial\"><div class=\"sk-item\"><div class=\"sk-serial\"><div class=\"sk-item\"><div class=\"sk-estimator sk-toggleable\"><input class=\"sk-toggleable__control sk-hidden--visually\" id=\"sk-estimator-id-16\" type=\"checkbox\" ><label for=\"sk-estimator-id-16\" class=\"sk-toggleable__label sk-toggleable__label-arrow\">SimpleImputer</label><div class=\"sk-toggleable__content\"><pre>SimpleImputer(strategy=&#x27;most_frequent&#x27;)</pre></div></div></div><div class=\"sk-item\"><div class=\"sk-estimator sk-toggleable\"><input class=\"sk-toggleable__control sk-hidden--visually\" id=\"sk-estimator-id-17\" type=\"checkbox\" ><label for=\"sk-estimator-id-17\" class=\"sk-toggleable__label sk-toggleable__label-arrow\">OneHotEncoder</label><div class=\"sk-toggleable__content\"><pre>OneHotEncoder(drop=&#x27;first&#x27;, handle_unknown=&#x27;ignore&#x27;, sparse=False)</pre></div></div></div></div></div></div></div></div><div class=\"sk-parallel-item\"><div class=\"sk-item\"><div class=\"sk-label-container\"><div class=\"sk-label sk-toggleable\"><input class=\"sk-toggleable__control sk-hidden--visually\" id=\"sk-estimator-id-18\" type=\"checkbox\" ><label for=\"sk-estimator-id-18\" class=\"sk-toggleable__label sk-toggleable__label-arrow\">remainder</label><div class=\"sk-toggleable__content\"><pre>[]</pre></div></div></div><div class=\"sk-serial\"><div class=\"sk-item\"><div class=\"sk-estimator sk-toggleable\"><input class=\"sk-toggleable__control sk-hidden--visually\" id=\"sk-estimator-id-19\" type=\"checkbox\" ><label for=\"sk-estimator-id-19\" class=\"sk-toggleable__label sk-toggleable__label-arrow\">passthrough</label><div class=\"sk-toggleable__content\"><pre>passthrough</pre></div></div></div></div></div></div></div></div><div class=\"sk-item\"><div class=\"sk-estimator sk-toggleable\"><input class=\"sk-toggleable__control sk-hidden--visually\" id=\"sk-estimator-id-20\" type=\"checkbox\" ><label for=\"sk-estimator-id-20\" class=\"sk-toggleable__label sk-toggleable__label-arrow\">LinearRegression</label><div class=\"sk-toggleable__content\"><pre>LinearRegression()</pre></div></div></div></div></div></div></div>"
      ],
      "text/plain": [
       "Pipeline(steps=[('columntransformer',\n",
       "                 ColumnTransformer(remainder='passthrough',\n",
       "                                   transformers=[('pipeline-1',\n",
       "                                                  Pipeline(steps=[('simpleimputer',\n",
       "                                                                   SimpleImputer()),\n",
       "                                                                  ('standardscaler',\n",
       "                                                                   StandardScaler())]),\n",
       "                                                  <sklearn.compose._column_transformer.make_column_selector object at 0x0000020AB94FCA90>),\n",
       "                                                 ('pipeline-2',\n",
       "                                                  Pipeline(steps=[('simpleimputer',\n",
       "                                                                   SimpleImputer(strategy='most_frequent')),\n",
       "                                                                  ('onehotencoder',\n",
       "                                                                   OneHotEncoder(drop='first',\n",
       "                                                                                 handle_unknown='ignore',\n",
       "                                                                                 sparse=False))]),\n",
       "                                                  <sklearn.compose._column_transformer.make_column_selector object at 0x0000020AB94FC8E0>)])),\n",
       "                ('linearregression', LinearRegression())])"
      ]
     },
     "execution_count": 30,
     "metadata": {},
     "output_type": "execute_result"
    }
   ],
   "source": [
    "# Train the model\n",
    "lr_model.fit(X_train, y_train)"
   ]
  },
  {
   "cell_type": "code",
   "execution_count": 31,
   "id": "a903c6bf",
   "metadata": {},
   "outputs": [],
   "source": [
    "# Make predictions on the training set\n",
    "y_train_pred = lr_model.predict(X_train)\n",
    "\n",
    "# Make predictions on the test set\n",
    "y_test_pred = lr_model.predict(X_test)"
   ]
  },
  {
   "cell_type": "code",
   "execution_count": 32,
   "id": "3d9a6620",
   "metadata": {
    "scrolled": true
   },
   "outputs": [
    {
     "name": "stdout",
     "output_type": "stream",
     "text": [
      "Training RMSE: 8.71495642617855\n",
      "Test RMSE: 28672155257.415455\n"
     ]
    }
   ],
   "source": [
    "# Evaluate the model\n",
    "train_rmse = mean_squared_error(y_train, y_train_pred, squared=False)\n",
    "test_rmse = mean_squared_error(y_test, y_test_pred, squared=False)\n",
    "\n",
    "print(f'Training RMSE: {train_rmse}')\n",
    "print(f'Test RMSE: {test_rmse}')"
   ]
  },
  {
   "cell_type": "markdown",
   "id": "333b16e4",
   "metadata": {},
   "source": [
    "## **Ridge Model**"
   ]
  },
  {
   "cell_type": "code",
   "execution_count": 33,
   "id": "018368ce",
   "metadata": {},
   "outputs": [
    {
     "name": "stdout",
     "output_type": "stream",
     "text": [
      "\n",
      "Ridge Model:\n",
      "Mean Squared Error: 99.6714570625092\n",
      "R-squared: 0.43219882295656\n"
     ]
    }
   ],
   "source": [
    "# Create a Ridge regression model\n",
    "ridge_model = Ridge(alpha= 3.4) \n",
    "\n",
    "# Create a pipeline\n",
    "ridge = make_pipeline(preprocessor, ridge_model)\n",
    "\n",
    "# Split the data\n",
    "X_train, X_test, y_train, y_test = train_test_split(X, y, test_size=0.2, random_state=42)\n",
    "\n",
    "# Fit the model\n",
    "ridge.fit(X_train, y_train)\n",
    "\n",
    "# Make predictions\n",
    "y_pred = ridge.predict(X_test)\n",
    "\n",
    "# Evaluate the model\n",
    "mse = mean_squared_error(y_test, y_pred)\n",
    "r2 = r2_score(y_test, y_pred)\n",
    "\n",
    "print(\"\\nRidge Model:\")\n",
    "print(\"Mean Squared Error:\", mse)\n",
    "print(\"R-squared:\", r2)"
   ]
  },
  {
   "cell_type": "code",
   "execution_count": 34,
   "id": "ae23cbfb",
   "metadata": {},
   "outputs": [
    {
     "name": "stdout",
     "output_type": "stream",
     "text": [
      "Mean Squared Error: 92.96954973203182\n",
      "R-squared: 0.47037776588396785\n"
     ]
    },
    {
     "data": {
      "image/png": "[encoded data removed]",
      "text/plain": [
       "<Figure size 640x480 with 1 Axes>"
      ]
     },
     "metadata": {},
     "output_type": "display_data"
    }
   ],
   "source": [
    "# Hyperparameter Tuning using Grid Search\n",
    "param_grid = {\n",
    "    'ridge__alpha': [0.1, 0.5, 1.0, 2.0, 3.0, 4.0, 5.0],\n",
    "    'ridge__fit_intercept': [True, False]\n",
    "}\n",
    "# Use GridSearchCV\n",
    "grid_search = GridSearchCV(ridge, param_grid, cv=5, scoring='neg_mean_squared_error', error_score='raise')\n",
    "grid_search.fit(X_train, y_train)\n",
    "\n",
    "# Access the best model from GridSearchCV\n",
    "best_r_model = grid_search.best_estimator_\n",
    "\n",
    "# Make predictions on the test set\n",
    "y_pred = best_r_model.predict(X_test)\n",
    "\n",
    "# Evaluate on Test Set\n",
    "# Mean Squared Error\n",
    "mse = mean_squared_error(y_test, y_pred)\n",
    "print(\"Mean Squared Error:\", mse)\n",
    "\n",
    "# R-squared\n",
    "r2 = r2_score(y_test, y_pred)\n",
    "print(\"R-squared:\", r2)\n",
    "\n",
    "# Residual Plot\n",
    "residuals = y_test - y_pred\n",
    "plt.scatter(y_pred, residuals)\n",
    "plt.title('Residual Plot')\n",
    "plt.xlabel('Predicted Values')\n",
    "plt.ylabel('Residuals')\n",
    "plt.axhline(y=0, color='r', linestyle='--')\n",
    "plt.show()"
   ]
  },
  {
   "cell_type": "markdown",
   "id": "04538413",
   "metadata": {},
   "source": [
    "## **Gradient Boosting**"
   ]
  },
  {
   "cell_type": "code",
   "execution_count": 35,
   "id": "5017107b",
   "metadata": {},
   "outputs": [],
   "source": [
    "# Create gradient boosting model\n",
    "gb_model = GradientBoostingRegressor(n_estimators=100, random_state= 42)\n",
    "\n",
    "gb_pipeline = make_pipeline(preprocessor, gb_model)\n",
    "\n",
    "# Train gradient boosting model\n",
    "gb_pipeline.fit(X_train, y_train)\n",
    "y_pred_gb = gb_pipeline.predict(X_test)"
   ]
  },
  {
   "cell_type": "code",
   "execution_count": 36,
   "id": "e5304706",
   "metadata": {
    "scrolled": true
   },
   "outputs": [
    {
     "name": "stdout",
     "output_type": "stream",
     "text": [
      "\n",
      "Gradient Boosting:\n",
      "Mean Squared Error: 156.64606338477654\n",
      "R-squared: 0.10762998966378012\n"
     ]
    }
   ],
   "source": [
    "# Evaluate gradient boosting model\n",
    "mse_gb = mean_squared_error(y_test, y_pred_gb)\n",
    "r2_gb = r2_score(y_test, y_pred_gb)\n",
    "print(\"\\nGradient Boosting:\")\n",
    "print(\"Mean Squared Error:\", mse_gb)\n",
    "print(\"R-squared:\", r2_gb)"
   ]
  },
  {
   "cell_type": "markdown",
   "id": "d227db09",
   "metadata": {},
   "source": [
    "## **KNN Model**"
   ]
  },
  {
   "cell_type": "code",
   "execution_count": 37,
   "id": "a16e942b",
   "metadata": {},
   "outputs": [
    {
     "name": "stdout",
     "output_type": "stream",
     "text": [
      "Mean Squared Error: 189.14253796381885\n",
      "R-squared: -0.07749358592687794\n"
     ]
    }
   ],
   "source": [
    "# Create the k-Nearest Neighbors model\n",
    "knn_model = KNeighborsRegressor(n_neighbors=5)  # You can adjust the number of neighbors (n_neighbors) as needed\n",
    "\n",
    "# Create the final pipeline with the preprocessor and the k-Nearest Neighbors model\n",
    "model = Pipeline(steps=[('preprocessor', preprocessor),\n",
    "                        ('knn', knn_model)])\n",
    "\n",
    "# Train the model\n",
    "model.fit(X_train, y_train)\n",
    "\n",
    "# Make predictions on the test set\n",
    "y_pred = model.predict(X_test)\n",
    "\n",
    "# Evaluate on Test Set\n",
    "# Mean Squared Error\n",
    "mse = mean_squared_error(y_test, y_pred)\n",
    "print(\"Mean Squared Error:\", mse)\n",
    "\n",
    "# R-squared\n",
    "r2 = r2_score(y_test, y_pred)\n",
    "print(\"R-squared:\", r2)"
   ]
  }
 ],
 "metadata": {
  "kernelspec": {
   "display_name": "Python (dojo-env)",
   "language": "python",
   "name": "dojo-env"
  },
  "language_info": {
   "codemirror_mode": {
    "name": "ipython",
    "version": 3
   },
   "file_extension": ".py",
   "mimetype": "text/x-python",
   "name": "python",
   "nbconvert_exporter": "python",
   "pygments_lexer": "ipython3",
   "version": "3.9.15"
  },
  "toc": {
   "base_numbering": 1,
   "nav_menu": {},
   "number_sections": false,
   "sideBar": true,
   "skip_h1_title": false,
   "title_cell": "Table of Contents",
   "title_sidebar": "Contents",
   "toc_cell": false,
   "toc_position": {
    "height": "calc(100% - 180px)",
    "left": "10px",
    "top": "150px",
    "width": "245.27px"
   },
   "toc_section_display": true,
   "toc_window_display": false
  }
 },
 "nbformat": 4,
 "nbformat_minor": 5
}
