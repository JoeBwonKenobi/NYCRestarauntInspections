{
 "cells": [
  {
   "cell_type": "markdown",
   "id": "5c7b6775",
   "metadata": {},
   "source": [
    "# **NYC Restaurant Inspections Data Processing**"
   ]
  },
  {
   "cell_type": "markdown",
   "id": "9999f70f",
   "metadata": {},
   "source": [
    "Joe Lardie\n",
    "\n",
    "Sep 2023"
   ]
  },
  {
   "cell_type": "markdown",
   "id": "ed7adaf5",
   "metadata": {},
   "source": [
    "# **Imports**"
   ]
  },
  {
   "cell_type": "code",
   "execution_count": 1,
   "id": "c03270b1",
   "metadata": {},
   "outputs": [],
   "source": [
    "#Numpy\n",
    "import numpy as np\n",
    "\n",
    "#Pandas\n",
    "import pandas as pd\n",
    "\n",
    "#Seaborn\n",
    "import seaborn as sns\n",
    "\n",
    "#matplotlib\n",
    "import matplotlib.pyplot as plt\n",
    "import plotly\n",
    "\n",
    "\n",
    "#Sklearn preprocessing\n",
    "from sklearn import set_config\n",
    "\n",
    "import warnings\n",
    "from sklearn.decomposition import PCA\n",
    "warnings.filterwarnings(\"ignore\")\n",
    "set_config(display = 'diagram')"
   ]
  },
  {
   "cell_type": "markdown",
   "id": "ee8a849a",
   "metadata": {},
   "source": [
    "# **Data Dictionary**\n",
    "**CAMIS**\tThis is an unique identifier for the entity (restaurant); 10-digit integer, static per restaurant permit\n",
    "\n",
    "**DBA**\tThis field represents the name (doing business as) of the entity (restaurant); Public business name, may change at discretion of restaurant owner\n",
    "\n",
    "**BORO**\tBorough in which the entity (restaurant) is located.;• 1 = MANHATTAN • 2 = BRONX • 3 = BROOKLYN • 4 = QUEENS • 5 = STATEN ISLAND • Missing; NOTE: There may be discrepancies between zip code and listed boro due to differences in an establishment's mailing address and physical location\n",
    "\n",
    "**BUILDING**  Building number for establishment (restaurant) location\n",
    "\n",
    "**STREET**\tStreet name for establishment (restaurant) location\n",
    "\n",
    "**ZIPCODE**\tZip code of establishment (restaurant) location\n",
    "\n",
    "**PHONE**\tPhone Number; Phone number provided by restaurant owner/manager\n",
    "\n",
    "**CUISINE DESCRIPTION**\tThis field describes the entity (restaurant) cuisine. ; Optional field provided by provided by restaurant owner/manager\n",
    "\n",
    "**INSPECTION DATE**\tThis field represents the date of inspection; NOTE: Inspection dates of 1/1/1900 mean an establishment has not yet had an inspection\n",
    "\n",
    "**ACTION**\tThis field represents the actions that is associated with each restaurant inspection. ; • Violations were cited in the following area(s). • No violations were recorded at the time of this inspection. • Establishment re-opened by DOHMH • Establishment re-closed by DOHMH • Establishment Closed by DOHMH. Violations were cited in the following area(s) and those requiring immediate action were addressed. • \"Missing\" = not yet inspected;\n",
    "\n",
    "**VIOLATION CODE**\tViolation code associated with an establishment (restaurant) inspection\n",
    "\n",
    "**VIOLATION DESCRIPTION**Violation description associated with an establishment (restaurant) inspection\n",
    "\n",
    "**CRITICAL FLAG**\tIndicator of critical violation; \"• Critical • Not Critical • Not Applicable\"; Critical violations are those most likely to contribute to food-borne illness\n",
    "\n",
    "**SCORE**Total score for a particular inspection; Scores are updated based on adjudication results\n",
    "\n",
    "**GRADE**\tGrade associated with the inspection; • N = Not Yet Graded• A = Grade A• B = Grade B• C = Grade C• Z = Grade Pending• P= Grade Pending issued on re-opening following an initial inspection that resulted in a closure\n",
    "\n",
    "**GRADE DATE**\tThe date when the current grade was issued to the entity (restaurant)\n",
    "\n",
    "**RECORD DATE**\tThe date when the extract was run to produce this data set\n",
    "\n",
    "**INSPECTION TYPE** A combination of the inspection program and the type of inspection performed; See Data Dictionary for full list of expected values\n"
   ]
  },
  {
   "cell_type": "markdown",
   "id": "51d3ab7a",
   "metadata": {},
   "source": [
    "# **Potential Project Objectives**\n",
    "\n",
    "Insight: Find out: Are certain violations more prominent in certain neighborhoods? By cuisine? Who gets worse grades--chain restaurants or independent establishments?\n",
    "\n",
    "Predictive Modeling:\n",
    "\n",
    "Can you build a predictive model to forecast which restaurants are more likely to fail inspections based on historical data? What factors contribute most to inspection failure?\n",
    "\n",
    "Temporal Trends:\n",
    "\n",
    "Are there any temporal trends in inspection results? Do certain months or seasons have a higher rate of violations or failures?\n",
    "\n",
    "Geospatial Analysis:\n",
    "\n",
    "Can you visualize and analyze the distribution of restaurant inspections across different neighborhoods or boroughs in NYC?\n",
    "Are there any geographical patterns in inspection outcomes or violations?\n",
    "\n",
    "Violation Analysis:\n",
    "\n",
    "What are the most common types of violations reported during inspections? Can you identify any patterns or clusters of violations?\n",
    "\n",
    "Are there any associations between specific types of violations and restaurant characteristics (e.g., cuisine type, restaurant size)?\n",
    "\n",
    "Impact of Demographics:\n",
    "\n",
    "Is there a correlation between neighborhood demographics (e.g., income levels, population density) and restaurant inspection results?\n",
    "\n",
    "Do restaurants in certain neighborhoods tend to perform better or worse in inspections?\n",
    "\n",
    "Influence of Restaurant Type:\n",
    "\n",
    "Does the type of cuisine or restaurant (e.g., fast food, fine dining, food truck) impact inspection outcomes?\n",
    "Are there significant differences in inspection results based on restaurant size or seating capacity?\n",
    "\n",
    "Seasonal Variations:\n",
    "\n",
    "Are there seasonal variations in the number of inspections, violations, or inspection outcomes?\n",
    "Do certain holidays or events impact inspection results?\n",
    "\n",
    "Compliance Trends:\n",
    "\n",
    "Can you identify any trends or improvements in restaurant compliance with food safety regulations over time?\n",
    "Are there any specific regulations or rules that are frequently violated?\n",
    "\n",
    "Customer Reviews vs. Inspection Results:\n",
    "\n",
    "Is there a correlation between online customer reviews/ratings and inspection outcomes for restaurants?\n",
    "Do restaurants with higher ratings tend to have fewer violations?\n",
    "\n",
    "Effectiveness of Public Health Campaigns:\n",
    "\n",
    "Have public health campaigns or initiatives had any measurable impact on restaurant inspection results?\n",
    "Can you assess the effectiveness of specific interventions aimed at improving food safety?\n",
    "\n",
    "Machine Learning for Anomaly Detection:\n",
    "\n",
    "Can you develop a machine learning model to automatically flag potential anomalies or unusual patterns in inspection results that may warrant further investigation?\n",
    "\n",
    "Time Series Analysis:\n",
    "\n",
    "Can you use time series analysis to forecast future inspection results or identify recurring patterns in violations over time?\n",
    "\n",
    "Predicting Inspection Scores:\n",
    "\n",
    "Can you build a model to predict the inspection scores (e.g., letter grades) that restaurants are likely to receive?\n",
    "\n",
    "Comparative Analysis:\n",
    "\n",
    "How do NYC's restaurant inspection results compare to those in other cities or regions? Are there any notable differences or similarities?\n",
    "\n",
    "Restaurant Chain Analysis:\n",
    "\n",
    "Do restaurant chains tend to perform better or worse in inspections compared to independent establishments? Are there differences in compliance between locations of the same chain?"
   ]
  },
  {
   "cell_type": "markdown",
   "id": "0a58869d",
   "metadata": {},
   "source": [
    "# **Loading Data**"
   ]
  },
  {
   "cell_type": "code",
   "execution_count": 2,
   "id": "080260b1",
   "metadata": {
    "scrolled": true
   },
   "outputs": [],
   "source": [
    "# Loading NYC Restaraunt Data\n",
    "rdf = pd.read_csv('https://data.cityofnewyork.us/api/views/43nn-pn8j/rows.csv?accessType=DOWNLOAD')"
   ]
  },
  {
   "cell_type": "code",
   "execution_count": 3,
   "id": "90467520",
   "metadata": {
    "scrolled": false
   },
   "outputs": [
    {
     "name": "stdout",
     "output_type": "stream",
     "text": [
      "<class 'pandas.core.frame.DataFrame'>\n",
      "RangeIndex: 209222 entries, 0 to 209221\n",
      "Data columns (total 27 columns):\n",
      " #   Column                 Non-Null Count   Dtype  \n",
      "---  ------                 --------------   -----  \n",
      " 0   CAMIS                  209222 non-null  int64  \n",
      " 1   DBA                    208622 non-null  object \n",
      " 2   BORO                   209222 non-null  object \n",
      " 3   BUILDING               208905 non-null  object \n",
      " 4   STREET                 209216 non-null  object \n",
      " 5   ZIPCODE                206539 non-null  float64\n",
      " 6   PHONE                  209214 non-null  object \n",
      " 7   CUISINE DESCRIPTION    206788 non-null  object \n",
      " 8   INSPECTION DATE        209222 non-null  object \n",
      " 9   ACTION                 206788 non-null  object \n",
      " 10  VIOLATION CODE         205639 non-null  object \n",
      " 11  VIOLATION DESCRIPTION  205639 non-null  object \n",
      " 12  CRITICAL FLAG          209222 non-null  object \n",
      " 13  SCORE                  199283 non-null  float64\n",
      " 14  GRADE                  102539 non-null  object \n",
      " 15  GRADE DATE             93926 non-null   object \n",
      " 16  RECORD DATE            209222 non-null  object \n",
      " 17  INSPECTION TYPE        206788 non-null  object \n",
      " 18  Latitude               208962 non-null  float64\n",
      " 19  Longitude              208962 non-null  float64\n",
      " 20  Community Board        206006 non-null  float64\n",
      " 21  Council District       206002 non-null  float64\n",
      " 22  Census Tract           206002 non-null  float64\n",
      " 23  BIN                    205015 non-null  float64\n",
      " 24  BBL                    208683 non-null  float64\n",
      " 25  NTA                    206006 non-null  object \n",
      " 26  Location Point1        0 non-null       float64\n",
      "dtypes: float64(10), int64(1), object(16)\n",
      "memory usage: 43.1+ MB\n"
     ]
    }
   ],
   "source": [
    "# Looking at the data\n",
    "rdf.info()"
   ]
  },
  {
   "cell_type": "markdown",
   "id": "e963f319",
   "metadata": {},
   "source": [
    "# **Data Cleaning**"
   ]
  },
  {
   "cell_type": "code",
   "execution_count": 4,
   "id": "18054a13",
   "metadata": {},
   "outputs": [],
   "source": [
    "# Dropping irrelevant of imcomplete columns\n",
    "rdf.drop(['Location Point1', 'PHONE', 'BBL', 'BIN', 'NTA', 'Census Tract', 'Community Board', 'RECORD DATE'], axis=1, inplace=True)"
   ]
  },
  {
   "cell_type": "code",
   "execution_count": 5,
   "id": "c8b88d60",
   "metadata": {
    "scrolled": true
   },
   "outputs": [
    {
     "name": "stdout",
     "output_type": "stream",
     "text": [
      "<class 'pandas.core.frame.DataFrame'>\n",
      "RangeIndex: 209222 entries, 0 to 209221\n",
      "Data columns (total 19 columns):\n",
      " #   Column                 Non-Null Count   Dtype  \n",
      "---  ------                 --------------   -----  \n",
      " 0   CAMIS                  209222 non-null  int64  \n",
      " 1   DBA                    208622 non-null  object \n",
      " 2   BORO                   209222 non-null  object \n",
      " 3   BUILDING               208905 non-null  object \n",
      " 4   STREET                 209216 non-null  object \n",
      " 5   ZIPCODE                206539 non-null  float64\n",
      " 6   CUISINE DESCRIPTION    206788 non-null  object \n",
      " 7   INSPECTION DATE        209222 non-null  object \n",
      " 8   ACTION                 206788 non-null  object \n",
      " 9   VIOLATION CODE         205639 non-null  object \n",
      " 10  VIOLATION DESCRIPTION  205639 non-null  object \n",
      " 11  CRITICAL FLAG          209222 non-null  object \n",
      " 12  SCORE                  199283 non-null  float64\n",
      " 13  GRADE                  102539 non-null  object \n",
      " 14  GRADE DATE             93926 non-null   object \n",
      " 15  INSPECTION TYPE        206788 non-null  object \n",
      " 16  Latitude               208962 non-null  float64\n",
      " 17  Longitude              208962 non-null  float64\n",
      " 18  Council District       206002 non-null  float64\n",
      "dtypes: float64(5), int64(1), object(13)\n",
      "memory usage: 30.3+ MB\n"
     ]
    }
   ],
   "source": [
    "# Looking at remaining columns\n",
    "rdf.info()"
   ]
  },
  {
   "cell_type": "code",
   "execution_count": 6,
   "id": "11f08155",
   "metadata": {},
   "outputs": [],
   "source": [
    "# Saving dataset to upload into other notebooks\n",
    "rdf.to_csv('rdf', index=False)"
   ]
  }
 ],
 "metadata": {
  "kernelspec": {
   "display_name": "Python (dojo-env)",
   "language": "python",
   "name": "dojo-env"
  },
  "language_info": {
   "codemirror_mode": {
    "name": "ipython",
    "version": 3
   },
   "file_extension": ".py",
   "mimetype": "text/x-python",
   "name": "python",
   "nbconvert_exporter": "python",
   "pygments_lexer": "ipython3",
   "version": "3.9.15"
  },
  "toc": {
   "base_numbering": 1,
   "nav_menu": {},
   "number_sections": false,
   "sideBar": true,
   "skip_h1_title": false,
   "title_cell": "Table of Contents",
   "title_sidebar": "Contents",
   "toc_cell": false,
   "toc_position": {},
   "toc_section_display": true,
   "toc_window_display": false
  }
 },
 "nbformat": 4,
 "nbformat_minor": 5
}
