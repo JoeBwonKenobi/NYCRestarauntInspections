{
 "cells": [
  {
   "cell_type": "code",
   "execution_count": null,
   "id": "63a4e200",
   "metadata": {},
   "outputs": [],
   "source": [
    "#Notes:\n",
    "#Only some inspection types result in gradable inspections\n",
    "#While scores are provided on initial inspection, grades are not unless the score is less than or equal to 13.\n",
    "#If a restaurant receives a score of > 13 on initial inspection,the current grade will still reflect the grade\n",
    "#received during the last inspection cycle until the next re-inspection is complete. \n",
    "#Download DOHMH NYC Restaurant Inspection Results data set and save as CSV file: NYC_Insp_Results.csv \n",
    "\n",
    "\n",
    "with RecentInspDate as (\n",
    "       select 'CAMIS'\n",
    "              , max([INSPECTION DATE]) as MostRecentInspDate\n",
    "              from NYC_Insp_Results\n",
    "       where ([INSPECTION TYPE] in (                                            \n",
    "                'Cycle Inspection / Re-inspection'\n",
    "              , 'Pre-permit (Operational) / Re-inspection')\n",
    "              OR ([INSPECTION TYPE] in (                                                    \n",
    "                'Cycle Inspection / Initial Inspection'                                  \n",
    "              , 'Pre-permit (Operational) / Initial Inspection') \n",
    "              AND SCORE <= 13) or ([INSPECTION TYPE] in (                                                    \n",
    "                'Pre-permit (Operational) / Reopening Inspection'\n",
    "                           ,'Cycle Inspection / Reopening Inspection') \n",
    ")) and GRADE in ('A', 'B', 'C', 'P', 'Z')  #values where a grade card or grade pending card is issued\n",
    "       group by CAMIS)"
   ]
  },
  {
   "cell_type": "code",
   "execution_count": null,
   "id": "9d849905",
   "metadata": {},
   "outputs": [],
   "source": [
    "#Select restaurant inspection data based on the most recent inspection date\n",
    "select distinct r.CAMIS\n",
    "       , DBA as Name\n",
    "       , r.MostRecentInspDate\n",
    "       , GRADE\n",
    "       , [INSPECTION TYPE]\n",
    "       , SCORE\n",
    "       from NYC_Insp_Results i\n",
    "       join RecentInspDate r\n",
    "              on r.CAMIS = i.CAMIS\n",
    "              and r.MostRecentInspDate = i.[INSPECTION DATE]\n",
    "       where [INSPECTION TYPE] in (                                            \n",
    "'Cycle Inspection / Re-inspection'\n",
    ", 'Pre-permit (Operational) / Re-inspection' #re-inspections\n",
    "              , 'Pre-permit (Operational) / Reopening Inspection'\n",
    ",'Cycle Inspection / Reopening Inspection') #re-opening inspections where grade pending is issued\n",
    "              OR ([INSPECTION TYPE] in (                                                    \n",
    "                'Cycle Inspection / Initial Inspection'                                  \n",
    "              , 'Pre-permit (Operational) / Initial Inspection') \n",
    "              AND SCORE <= 13) #initial inspections where A grade is issued  "
   ]
  }
 ],
 "metadata": {
  "kernelspec": {
   "display_name": "Python (dojo-env)",
   "language": "python",
   "name": "dojo-env"
  },
  "language_info": {
   "codemirror_mode": {
    "name": "ipython",
    "version": 3
   },
   "file_extension": ".py",
   "mimetype": "text/x-python",
   "name": "python",
   "nbconvert_exporter": "python",
   "pygments_lexer": "ipython3",
   "version": "3.9.15"
  },
  "toc": {
   "base_numbering": 1,
   "nav_menu": {},
   "number_sections": true,
   "sideBar": true,
   "skip_h1_title": false,
   "title_cell": "Table of Contents",
   "title_sidebar": "Contents",
   "toc_cell": false,
   "toc_position": {},
   "toc_section_display": true,
   "toc_window_display": false
  }
 },
 "nbformat": 4,
 "nbformat_minor": 5
}
