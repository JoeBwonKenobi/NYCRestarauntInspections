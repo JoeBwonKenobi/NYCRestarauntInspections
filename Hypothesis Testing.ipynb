{
 "cells": [
  {
   "cell_type": "markdown",
   "id": "49585a54",
   "metadata": {},
   "source": [
    "# **Hypothesis Testing**"
   ]
  },
  {
   "cell_type": "markdown",
   "id": "f740e049",
   "metadata": {},
   "source": [
    "Joseph Lardie\n",
    "\n",
    "September 2023"
   ]
  },
  {
   "cell_type": "markdown",
   "id": "e8c6c782",
   "metadata": {},
   "source": [
    "# **Imports**"
   ]
  },
  {
   "cell_type": "code",
   "execution_count": 1,
   "id": "eec33c3d",
   "metadata": {},
   "outputs": [],
   "source": [
    "# Numpy\n",
    "import numpy as np\n",
    "\n",
    "# Pandas\n",
    "import pandas as pd\n",
    "\n",
    "# Seaborn\n",
    "import seaborn as sns\n",
    "\n",
    "# matplotlib\n",
    "import matplotlib.pyplot as plt\n",
    "import plotly\n",
    "\n",
    "# Scipy\n",
    "from scipy import stats\n",
    "from scipy.stats import norm, pearsonr\n",
    "import statsmodels.api as sm\n",
    "\n",
    "# Warnings\n",
    "import warnings\n",
    "warnings.filterwarnings(\"ignore\")"
   ]
  },
  {
   "cell_type": "markdown",
   "id": "1c05c26d",
   "metadata": {},
   "source": [
    "## **Loading in datasets**"
   ]
  },
  {
   "cell_type": "code",
   "execution_count": 2,
   "id": "00355b65",
   "metadata": {},
   "outputs": [],
   "source": [
    "# Loading NYC Restaraunt Inspection Data\n",
    "rdf = pd.read_csv('rdf')"
   ]
  },
  {
   "cell_type": "code",
   "execution_count": 3,
   "id": "c0b74613",
   "metadata": {},
   "outputs": [],
   "source": [
    "# Loading NYC Restaraunt Yelp Review Data\n",
    "ydf = pd.read_csv('ydf')"
   ]
  },
  {
   "cell_type": "code",
   "execution_count": 4,
   "id": "c90e5cd1",
   "metadata": {},
   "outputs": [
    {
     "name": "stdout",
     "output_type": "stream",
     "text": [
      "<class 'pandas.core.frame.DataFrame'>\n",
      "RangeIndex: 210611 entries, 0 to 210610\n",
      "Data columns (total 19 columns):\n",
      " #   Column                 Non-Null Count   Dtype  \n",
      "---  ------                 --------------   -----  \n",
      " 0   CAMIS                  210611 non-null  int64  \n",
      " 1   DBA                    209970 non-null  object \n",
      " 2   BORO                   210611 non-null  object \n",
      " 3   BUILDING               210308 non-null  object \n",
      " 4   STREET                 210607 non-null  object \n",
      " 5   ZIPCODE                207890 non-null  float64\n",
      " 6   CUISINE DESCRIPTION    208186 non-null  object \n",
      " 7   INSPECTION DATE        210611 non-null  object \n",
      " 8   ACTION                 208186 non-null  object \n",
      " 9   VIOLATION CODE         207055 non-null  object \n",
      " 10  VIOLATION DESCRIPTION  207055 non-null  object \n",
      " 11  CRITICAL FLAG          210611 non-null  object \n",
      " 12  SCORE                  200542 non-null  float64\n",
      " 13  GRADE                  103135 non-null  object \n",
      " 14  GRADE DATE             94324 non-null   object \n",
      " 15  INSPECTION TYPE        208186 non-null  object \n",
      " 16  Latitude               210332 non-null  float64\n",
      " 17  Longitude              210332 non-null  float64\n",
      " 18  Council District       207348 non-null  float64\n",
      "dtypes: float64(5), int64(1), object(13)\n",
      "memory usage: 30.5+ MB\n"
     ]
    }
   ],
   "source": [
    "# Restaurant Inspection data\n",
    "rdf.info()"
   ]
  },
  {
   "cell_type": "code",
   "execution_count": 5,
   "id": "60b34b3d",
   "metadata": {
    "scrolled": true
   },
   "outputs": [
    {
     "name": "stdout",
     "output_type": "stream",
     "text": [
      "<class 'pandas.core.frame.DataFrame'>\n",
      "RangeIndex: 847 entries, 0 to 846\n",
      "Data columns (total 10 columns):\n",
      " #   Column        Non-Null Count  Dtype  \n",
      "---  ------        --------------  -----  \n",
      " 0   alias         847 non-null    object \n",
      " 1   name          847 non-null    object \n",
      " 2   image_url     847 non-null    object \n",
      " 3   url           847 non-null    object \n",
      " 4   review_count  847 non-null    int64  \n",
      " 5   categories    847 non-null    object \n",
      " 6   rating        847 non-null    float64\n",
      " 7   coordinates   847 non-null    object \n",
      " 8   transactions  847 non-null    object \n",
      " 9   location      847 non-null    object \n",
      "dtypes: float64(1), int64(1), object(8)\n",
      "memory usage: 66.3+ KB\n"
     ]
    }
   ],
   "source": [
    "# Yelp data\n",
    "ydf.info()"
   ]
  },
  {
   "cell_type": "markdown",
   "id": "7101e65a",
   "metadata": {},
   "source": [
    "## **Selecting Subset of Pizza Restaurants in Brooklyn**"
   ]
  },
  {
   "cell_type": "code",
   "execution_count": 6,
   "id": "af2d1ae7",
   "metadata": {},
   "outputs": [],
   "source": [
    "# Selecting subset of only restaurants from Brooklyn\n",
    "brooklyndf = rdf[rdf['BORO'].str.lower() == 'brooklyn']"
   ]
  },
  {
   "cell_type": "code",
   "execution_count": 7,
   "id": "0e9e2684",
   "metadata": {},
   "outputs": [],
   "source": [
    "# Selecting subset of only restaurants in Brooklyn that have pizza in the cuisine description\n",
    "pizza_brooklyn_subset = brooklyndf[(brooklyndf['CUISINE DESCRIPTION'].str.lower() == 'pizza')]"
   ]
  },
  {
   "cell_type": "code",
   "execution_count": 8,
   "id": "72eac95d",
   "metadata": {},
   "outputs": [],
   "source": [
    "# Filtering out rows with NaN in the 'GRADE' column\n",
    "pizza_brooklyn_subset = pizza_brooklyn_subset.dropna(subset=['GRADE'])"
   ]
  },
  {
   "cell_type": "code",
   "execution_count": 9,
   "id": "d4c45f37",
   "metadata": {
    "scrolled": false
   },
   "outputs": [
    {
     "name": "stdout",
     "output_type": "stream",
     "text": [
      "           CAMIS                                  DBA      BORO BUILDING  \\\n",
      "115     50011046               LA BELLA PIZZA EXPRESS  Brooklyn     2178   \n",
      "722     50095131                             DOMINO'S  Brooklyn     2196   \n",
      "829     41459621  GINO'S BRICK OVEN PIZZA & TRATTORIA  Brooklyn   548550   \n",
      "981     50067979                       TONY PEPPERONI  Brooklyn     7502   \n",
      "1087    50134916                           ROMA PIZZA  Brooklyn     1101   \n",
      "...          ...                                  ...       ...      ...   \n",
      "210290  41393052                            IGNAZIO'S  Brooklyn        4   \n",
      "210311  50105343                       PROSPECT PIZZA  Brooklyn      599   \n",
      "210325  50062985           SHIPWRECKED MINIATURE GOLF  Brooklyn      619   \n",
      "210459  50089510                         ROSA'S PIZZA  Brooklyn      374   \n",
      "210585  50001675       GINO'S CUCINA BRICK OVEN PIZZA  Brooklyn      723   \n",
      "\n",
      "                     STREET  ZIPCODE CUISINE DESCRIPTION INSPECTION DATE  \\\n",
      "115               86 STREET  11214.0               Pizza      01/24/2022   \n",
      "722           PITKIN AVENUE  11207.0               Pizza      04/03/2023   \n",
      "829         FLATBUSH AVENUE      NaN               Pizza      10/13/2022   \n",
      "981               18 AVENUE  11214.0               Pizza      07/19/2022   \n",
      "1087               AVENUE U  11223.0               Pizza      07/19/2023   \n",
      "...                     ...      ...                 ...             ...   \n",
      "210290         WATER STREET  11201.0               Pizza      05/08/2023   \n",
      "210311      FLATBUSH AVENUE  11225.0               Pizza      01/05/2022   \n",
      "210325         COURT STREET  11231.0               Pizza      08/20/2022   \n",
      "210459  METROPOLITAN AVENUE  11211.0               Pizza      11/06/2023   \n",
      "210585    WASHINGTON AVENUE  11238.0               Pizza      11/16/2022   \n",
      "\n",
      "                                                 ACTION VIOLATION CODE  \\\n",
      "115     Violations were cited in the following area(s).            02B   \n",
      "722     Violations were cited in the following area(s).            04M   \n",
      "829     Violations were cited in the following area(s).            02B   \n",
      "981     Violations were cited in the following area(s).            04M   \n",
      "1087    Violations were cited in the following area(s).            02B   \n",
      "...                                                 ...            ...   \n",
      "210290  Violations were cited in the following area(s).            10F   \n",
      "210311  Violations were cited in the following area(s).            04N   \n",
      "210325  Violations were cited in the following area(s).            10A   \n",
      "210459  Violations were cited in the following area(s).            10G   \n",
      "210585  Violations were cited in the following area(s).            10F   \n",
      "\n",
      "                                    VIOLATION DESCRIPTION CRITICAL FLAG  \\\n",
      "115            Hot food item not held at or above 140º F.      Critical   \n",
      "722     Live roaches in facility's food or non-food area.      Critical   \n",
      "829        Hot TCS food item not held at or above 140 °F.      Critical   \n",
      "981     Live roaches in facility's food or non-food area.      Critical   \n",
      "1087       Hot TCS food item not held at or above 140 °F.      Critical   \n",
      "...                                                   ...           ...   \n",
      "210290  Non-food contact surface or equipment made of ...  Not Critical   \n",
      "210311  Filth flies or food/refuse/sewage-associated (...      Critical   \n",
      "210325  Toilet facility not maintained or provided wit...  Not Critical   \n",
      "210459  Dishwashing and ware washing: Cleaning and san...  Not Critical   \n",
      "210585  Non-food contact surface or equipment made of ...  Not Critical   \n",
      "\n",
      "        SCORE GRADE  GRADE DATE  \\\n",
      "115      23.0     B  01/24/2022   \n",
      "722      11.0     A  04/03/2023   \n",
      "829       7.0     A  10/13/2022   \n",
      "981      42.0     C  07/19/2022   \n",
      "1087     12.0     A  07/19/2023   \n",
      "...       ...   ...         ...   \n",
      "210290   10.0     A  05/08/2023   \n",
      "210311   21.0     B  01/05/2022   \n",
      "210325    2.0     A  08/20/2022   \n",
      "210459   64.0     C  11/06/2023   \n",
      "210585   13.0     A  11/16/2022   \n",
      "\n",
      "                                      INSPECTION TYPE   Latitude  Longitude  \\\n",
      "115                  Cycle Inspection / Re-inspection  40.602190 -73.994235   \n",
      "722             Cycle Inspection / Initial Inspection  40.672515 -73.891563   \n",
      "829             Cycle Inspection / Initial Inspection   0.000000   0.000000   \n",
      "981                  Cycle Inspection / Re-inspection  40.613298 -73.996081   \n",
      "1087    Pre-permit (Operational) / Initial Inspection  40.598330 -73.961038   \n",
      "...                                               ...        ...        ...   \n",
      "210290          Cycle Inspection / Initial Inspection  40.703187 -73.994085   \n",
      "210311       Pre-permit (Operational) / Re-inspection  40.658718 -73.960505   \n",
      "210325          Cycle Inspection / Initial Inspection  40.670963 -74.001373   \n",
      "210459               Cycle Inspection / Re-inspection  40.714067 -73.955617   \n",
      "210585               Cycle Inspection / Re-inspection  40.675050 -73.963221   \n",
      "\n",
      "        Council District  \n",
      "115                 43.0  \n",
      "722                 42.0  \n",
      "829                  NaN  \n",
      "981                 43.0  \n",
      "1087                48.0  \n",
      "...                  ...  \n",
      "210290              33.0  \n",
      "210311              40.0  \n",
      "210325              38.0  \n",
      "210459              34.0  \n",
      "210585              35.0  \n",
      "\n",
      "[1594 rows x 19 columns]\n"
     ]
    }
   ],
   "source": [
    "# Taking a look at Brooklyn pizza restaurants in inspection data\n",
    "print(pizza_brooklyn_subset)"
   ]
  },
  {
   "cell_type": "markdown",
   "id": "245b80e3",
   "metadata": {},
   "source": [
    "## **Merging Yelp data with Inspections Data**"
   ]
  },
  {
   "cell_type": "code",
   "execution_count": 10,
   "id": "d3726a07",
   "metadata": {},
   "outputs": [],
   "source": [
    "# Making the names of the restaurants in both data sets compatable for the merge\n",
    "column_name = 'name'\n",
    "# Matching up the names for both datasets\n",
    "ydf['name'] = ydf['name'].apply(lambda x: str(x).upper())"
   ]
  },
  {
   "cell_type": "code",
   "execution_count": 11,
   "id": "97f9f056",
   "metadata": {
    "scrolled": true
   },
   "outputs": [
    {
     "name": "stdout",
     "output_type": "stream",
     "text": [
      "\n",
      "Merged DataFrame:\n",
      "        CAMIS                                  DBA      BORO BUILDING  \\\n",
      "0    41459621  GINO'S BRICK OVEN PIZZA & TRATTORIA  Brooklyn   548550   \n",
      "1    41459621  GINO'S BRICK OVEN PIZZA & TRATTORIA  Brooklyn   548550   \n",
      "2    41459621  GINO'S BRICK OVEN PIZZA & TRATTORIA  Brooklyn   548550   \n",
      "3    41459621  GINO'S BRICK OVEN PIZZA & TRATTORIA  Brooklyn   548550   \n",
      "4    50134916                           ROMA PIZZA  Brooklyn     1101   \n",
      "..        ...                                  ...       ...      ...   \n",
      "512  41393052                            IGNAZIO'S  Brooklyn        4   \n",
      "513  41393052                            IGNAZIO'S  Brooklyn        4   \n",
      "514  41393052                            IGNAZIO'S  Brooklyn        4   \n",
      "515  41393052                            IGNAZIO'S  Brooklyn        4   \n",
      "516  50000967                              WHEATED  Brooklyn      905   \n",
      "\n",
      "              STREET  ZIPCODE CUISINE DESCRIPTION INSPECTION DATE  \\\n",
      "0    FLATBUSH AVENUE      NaN               Pizza      10/13/2022   \n",
      "1    FLATBUSH AVENUE      NaN               Pizza      09/03/2021   \n",
      "2    FLATBUSH AVENUE      NaN               Pizza      09/03/2021   \n",
      "3    FLATBUSH AVENUE      NaN               Pizza      09/03/2021   \n",
      "4           AVENUE U  11223.0               Pizza      07/19/2023   \n",
      "..               ...      ...                 ...             ...   \n",
      "512     WATER STREET  11201.0               Pizza      04/14/2022   \n",
      "513     WATER STREET  11201.0               Pizza      05/08/2023   \n",
      "514     WATER STREET  11201.0               Pizza      04/14/2022   \n",
      "515     WATER STREET  11201.0               Pizza      05/08/2023   \n",
      "516    CHURCH AVENUE  11218.0               Pizza      02/23/2023   \n",
      "\n",
      "                                              ACTION VIOLATION CODE  ...  \\\n",
      "0    Violations were cited in the following area(s).            02B  ...   \n",
      "1    Violations were cited in the following area(s).            08C  ...   \n",
      "2    Violations were cited in the following area(s).            10F  ...   \n",
      "3    Violations were cited in the following area(s).            02B  ...   \n",
      "4    Violations were cited in the following area(s).            02B  ...   \n",
      "..                                               ...            ...  ...   \n",
      "512  Violations were cited in the following area(s).            10B  ...   \n",
      "513  Violations were cited in the following area(s).            02G  ...   \n",
      "514  Violations were cited in the following area(s).            06C  ...   \n",
      "515  Violations were cited in the following area(s).            10F  ...   \n",
      "516  Violations were cited in the following area(s).            06B  ...   \n",
      "\n",
      "                                    name  \\\n",
      "0    GINO'S BRICK OVEN PIZZA & TRATTORIA   \n",
      "1    GINO'S BRICK OVEN PIZZA & TRATTORIA   \n",
      "2    GINO'S BRICK OVEN PIZZA & TRATTORIA   \n",
      "3    GINO'S BRICK OVEN PIZZA & TRATTORIA   \n",
      "4                             ROMA PIZZA   \n",
      "..                                   ...   \n",
      "512                            IGNAZIO'S   \n",
      "513                            IGNAZIO'S   \n",
      "514                            IGNAZIO'S   \n",
      "515                            IGNAZIO'S   \n",
      "516                              WHEATED   \n",
      "\n",
      "                                             image_url  \\\n",
      "0    https://s3-media1.fl.yelpcdn.com/bphoto/ovQ-Ps...   \n",
      "1    https://s3-media1.fl.yelpcdn.com/bphoto/ovQ-Ps...   \n",
      "2    https://s3-media1.fl.yelpcdn.com/bphoto/ovQ-Ps...   \n",
      "3    https://s3-media1.fl.yelpcdn.com/bphoto/ovQ-Ps...   \n",
      "4    https://s3-media1.fl.yelpcdn.com/bphoto/OQeT14...   \n",
      "..                                                 ...   \n",
      "512  https://s3-media3.fl.yelpcdn.com/bphoto/cpV2ZL...   \n",
      "513  https://s3-media3.fl.yelpcdn.com/bphoto/cpV2ZL...   \n",
      "514  https://s3-media3.fl.yelpcdn.com/bphoto/cpV2ZL...   \n",
      "515  https://s3-media3.fl.yelpcdn.com/bphoto/cpV2ZL...   \n",
      "516  https://s3-media1.fl.yelpcdn.com/bphoto/nGlPNp...   \n",
      "\n",
      "                                                   url review_count  \\\n",
      "0    https://www.yelp.com/biz/ginos-brick-oven-pizz...          277   \n",
      "1    https://www.yelp.com/biz/ginos-brick-oven-pizz...          277   \n",
      "2    https://www.yelp.com/biz/ginos-brick-oven-pizz...          277   \n",
      "3    https://www.yelp.com/biz/ginos-brick-oven-pizz...          277   \n",
      "4    https://www.yelp.com/biz/roma-pizza-new-york-4...          390   \n",
      "..                                                 ...          ...   \n",
      "512  https://www.yelp.com/biz/ignazios-brooklyn?adj...          639   \n",
      "513  https://www.yelp.com/biz/ignazios-brooklyn?adj...          639   \n",
      "514  https://www.yelp.com/biz/ignazios-brooklyn?adj...          639   \n",
      "515  https://www.yelp.com/biz/ignazios-brooklyn?adj...          639   \n",
      "516  https://www.yelp.com/biz/wheated-brooklyn?adju...          398   \n",
      "\n",
      "                                            categories rating  \\\n",
      "0    [{'alias': 'italian', 'title': 'Italian'}, {'a...    4.0   \n",
      "1    [{'alias': 'italian', 'title': 'Italian'}, {'a...    4.0   \n",
      "2    [{'alias': 'italian', 'title': 'Italian'}, {'a...    4.0   \n",
      "3    [{'alias': 'italian', 'title': 'Italian'}, {'a...    4.0   \n",
      "4    [{'alias': 'pizza', 'title': 'Pizza'}, {'alias...    3.5   \n",
      "..                                                 ...    ...   \n",
      "512             [{'alias': 'pizza', 'title': 'Pizza'}]    3.5   \n",
      "513             [{'alias': 'pizza', 'title': 'Pizza'}]    3.5   \n",
      "514             [{'alias': 'pizza', 'title': 'Pizza'}]    3.5   \n",
      "515             [{'alias': 'pizza', 'title': 'Pizza'}]    3.5   \n",
      "516  [{'alias': 'pizza', 'title': 'Pizza'}, {'alias...    4.5   \n",
      "\n",
      "                                           coordinates  \\\n",
      "0    {'latitude': 40.6605221493743, 'longitude': -7...   \n",
      "1    {'latitude': 40.6605221493743, 'longitude': -7...   \n",
      "2    {'latitude': 40.6605221493743, 'longitude': -7...   \n",
      "3    {'latitude': 40.6605221493743, 'longitude': -7...   \n",
      "4       {'latitude': 40.77843, 'longitude': -73.94863}   \n",
      "..                                                 ...   \n",
      "512   {'latitude': 40.703137, 'longitude': -73.993608}   \n",
      "513   {'latitude': 40.703137, 'longitude': -73.993608}   \n",
      "514   {'latitude': 40.703137, 'longitude': -73.993608}   \n",
      "515   {'latitude': 40.703137, 'longitude': -73.993608}   \n",
      "516  {'latitude': 40.6465968960541, 'longitude': -7...   \n",
      "\n",
      "               transactions  \\\n",
      "0    ['delivery', 'pickup']   \n",
      "1    ['delivery', 'pickup']   \n",
      "2    ['delivery', 'pickup']   \n",
      "3    ['delivery', 'pickup']   \n",
      "4    ['pickup', 'delivery']   \n",
      "..                      ...   \n",
      "512  ['delivery', 'pickup']   \n",
      "513  ['delivery', 'pickup']   \n",
      "514  ['delivery', 'pickup']   \n",
      "515  ['delivery', 'pickup']   \n",
      "516            ['delivery']   \n",
      "\n",
      "                                              location _merge  \n",
      "0    {'address1': '548 Flatbush Ave', 'address2': '...   both  \n",
      "1    {'address1': '548 Flatbush Ave', 'address2': '...   both  \n",
      "2    {'address1': '548 Flatbush Ave', 'address2': '...   both  \n",
      "3    {'address1': '548 Flatbush Ave', 'address2': '...   both  \n",
      "4    {'address1': '1701 1st Ave', 'address2': '', '...   both  \n",
      "..                                                 ...    ...  \n",
      "512  {'address1': '4 Water St', 'address2': '', 'ad...   both  \n",
      "513  {'address1': '4 Water St', 'address2': '', 'ad...   both  \n",
      "514  {'address1': '4 Water St', 'address2': '', 'ad...   both  \n",
      "515  {'address1': '4 Water St', 'address2': '', 'ad...   both  \n",
      "516  {'address1': '905 Church Ave', 'address2': '',...   both  \n",
      "\n",
      "[503 rows x 30 columns]\n"
     ]
    }
   ],
   "source": [
    "# Merging the two data sets on the names of the restaurants \n",
    "merged_df = pd.merge(pizza_brooklyn_subset, ydf, left_on='DBA', right_on='name', how='inner', indicator=True)\n",
    "\n",
    "# Dropping any Duplicate rows\n",
    "merged_df.drop_duplicates(inplace=True)\n",
    "\n",
    "# Displaying the merged dataframe\n",
    "print(\"\\nMerged DataFrame:\")\n",
    "print(merged_df)"
   ]
  },
  {
   "cell_type": "code",
   "execution_count": 12,
   "id": "342cd159",
   "metadata": {
    "scrolled": false
   },
   "outputs": [
    {
     "data": {
      "text/html": [
       "<div>\n",
       "<style scoped>\n",
       "    .dataframe tbody tr th:only-of-type {\n",
       "        vertical-align: middle;\n",
       "    }\n",
       "\n",
       "    .dataframe tbody tr th {\n",
       "        vertical-align: top;\n",
       "    }\n",
       "\n",
       "    .dataframe thead th {\n",
       "        text-align: right;\n",
       "    }\n",
       "</style>\n",
       "<table border=\"1\" class=\"dataframe\">\n",
       "  <thead>\n",
       "    <tr style=\"text-align: right;\">\n",
       "      <th></th>\n",
       "      <th>CAMIS</th>\n",
       "      <th>DBA</th>\n",
       "      <th>BORO</th>\n",
       "      <th>BUILDING</th>\n",
       "      <th>STREET</th>\n",
       "      <th>ZIPCODE</th>\n",
       "      <th>CUISINE DESCRIPTION</th>\n",
       "      <th>INSPECTION DATE</th>\n",
       "      <th>ACTION</th>\n",
       "      <th>VIOLATION CODE</th>\n",
       "      <th>...</th>\n",
       "      <th>name</th>\n",
       "      <th>image_url</th>\n",
       "      <th>url</th>\n",
       "      <th>review_count</th>\n",
       "      <th>categories</th>\n",
       "      <th>rating</th>\n",
       "      <th>coordinates</th>\n",
       "      <th>transactions</th>\n",
       "      <th>location</th>\n",
       "      <th>_merge</th>\n",
       "    </tr>\n",
       "  </thead>\n",
       "  <tbody>\n",
       "    <tr>\n",
       "      <th>0</th>\n",
       "      <td>41459621</td>\n",
       "      <td>GINO'S BRICK OVEN PIZZA &amp; TRATTORIA</td>\n",
       "      <td>Brooklyn</td>\n",
       "      <td>548550</td>\n",
       "      <td>FLATBUSH AVENUE</td>\n",
       "      <td>NaN</td>\n",
       "      <td>Pizza</td>\n",
       "      <td>10/13/2022</td>\n",
       "      <td>Violations were cited in the following area(s).</td>\n",
       "      <td>02B</td>\n",
       "      <td>...</td>\n",
       "      <td>GINO'S BRICK OVEN PIZZA &amp; TRATTORIA</td>\n",
       "      <td>https://s3-media1.fl.yelpcdn.com/bphoto/ovQ-Ps...</td>\n",
       "      <td>https://www.yelp.com/biz/ginos-brick-oven-pizz...</td>\n",
       "      <td>277</td>\n",
       "      <td>[{'alias': 'italian', 'title': 'Italian'}, {'a...</td>\n",
       "      <td>4.0</td>\n",
       "      <td>{'latitude': 40.6605221493743, 'longitude': -7...</td>\n",
       "      <td>['delivery', 'pickup']</td>\n",
       "      <td>{'address1': '548 Flatbush Ave', 'address2': '...</td>\n",
       "      <td>both</td>\n",
       "    </tr>\n",
       "    <tr>\n",
       "      <th>1</th>\n",
       "      <td>41459621</td>\n",
       "      <td>GINO'S BRICK OVEN PIZZA &amp; TRATTORIA</td>\n",
       "      <td>Brooklyn</td>\n",
       "      <td>548550</td>\n",
       "      <td>FLATBUSH AVENUE</td>\n",
       "      <td>NaN</td>\n",
       "      <td>Pizza</td>\n",
       "      <td>09/03/2021</td>\n",
       "      <td>Violations were cited in the following area(s).</td>\n",
       "      <td>08C</td>\n",
       "      <td>...</td>\n",
       "      <td>GINO'S BRICK OVEN PIZZA &amp; TRATTORIA</td>\n",
       "      <td>https://s3-media1.fl.yelpcdn.com/bphoto/ovQ-Ps...</td>\n",
       "      <td>https://www.yelp.com/biz/ginos-brick-oven-pizz...</td>\n",
       "      <td>277</td>\n",
       "      <td>[{'alias': 'italian', 'title': 'Italian'}, {'a...</td>\n",
       "      <td>4.0</td>\n",
       "      <td>{'latitude': 40.6605221493743, 'longitude': -7...</td>\n",
       "      <td>['delivery', 'pickup']</td>\n",
       "      <td>{'address1': '548 Flatbush Ave', 'address2': '...</td>\n",
       "      <td>both</td>\n",
       "    </tr>\n",
       "    <tr>\n",
       "      <th>2</th>\n",
       "      <td>41459621</td>\n",
       "      <td>GINO'S BRICK OVEN PIZZA &amp; TRATTORIA</td>\n",
       "      <td>Brooklyn</td>\n",
       "      <td>548550</td>\n",
       "      <td>FLATBUSH AVENUE</td>\n",
       "      <td>NaN</td>\n",
       "      <td>Pizza</td>\n",
       "      <td>09/03/2021</td>\n",
       "      <td>Violations were cited in the following area(s).</td>\n",
       "      <td>10F</td>\n",
       "      <td>...</td>\n",
       "      <td>GINO'S BRICK OVEN PIZZA &amp; TRATTORIA</td>\n",
       "      <td>https://s3-media1.fl.yelpcdn.com/bphoto/ovQ-Ps...</td>\n",
       "      <td>https://www.yelp.com/biz/ginos-brick-oven-pizz...</td>\n",
       "      <td>277</td>\n",
       "      <td>[{'alias': 'italian', 'title': 'Italian'}, {'a...</td>\n",
       "      <td>4.0</td>\n",
       "      <td>{'latitude': 40.6605221493743, 'longitude': -7...</td>\n",
       "      <td>['delivery', 'pickup']</td>\n",
       "      <td>{'address1': '548 Flatbush Ave', 'address2': '...</td>\n",
       "      <td>both</td>\n",
       "    </tr>\n",
       "    <tr>\n",
       "      <th>3</th>\n",
       "      <td>41459621</td>\n",
       "      <td>GINO'S BRICK OVEN PIZZA &amp; TRATTORIA</td>\n",
       "      <td>Brooklyn</td>\n",
       "      <td>548550</td>\n",
       "      <td>FLATBUSH AVENUE</td>\n",
       "      <td>NaN</td>\n",
       "      <td>Pizza</td>\n",
       "      <td>09/03/2021</td>\n",
       "      <td>Violations were cited in the following area(s).</td>\n",
       "      <td>02B</td>\n",
       "      <td>...</td>\n",
       "      <td>GINO'S BRICK OVEN PIZZA &amp; TRATTORIA</td>\n",
       "      <td>https://s3-media1.fl.yelpcdn.com/bphoto/ovQ-Ps...</td>\n",
       "      <td>https://www.yelp.com/biz/ginos-brick-oven-pizz...</td>\n",
       "      <td>277</td>\n",
       "      <td>[{'alias': 'italian', 'title': 'Italian'}, {'a...</td>\n",
       "      <td>4.0</td>\n",
       "      <td>{'latitude': 40.6605221493743, 'longitude': -7...</td>\n",
       "      <td>['delivery', 'pickup']</td>\n",
       "      <td>{'address1': '548 Flatbush Ave', 'address2': '...</td>\n",
       "      <td>both</td>\n",
       "    </tr>\n",
       "    <tr>\n",
       "      <th>4</th>\n",
       "      <td>50134916</td>\n",
       "      <td>ROMA PIZZA</td>\n",
       "      <td>Brooklyn</td>\n",
       "      <td>1101</td>\n",
       "      <td>AVENUE U</td>\n",
       "      <td>11223.0</td>\n",
       "      <td>Pizza</td>\n",
       "      <td>07/19/2023</td>\n",
       "      <td>Violations were cited in the following area(s).</td>\n",
       "      <td>02B</td>\n",
       "      <td>...</td>\n",
       "      <td>ROMA PIZZA</td>\n",
       "      <td>https://s3-media1.fl.yelpcdn.com/bphoto/OQeT14...</td>\n",
       "      <td>https://www.yelp.com/biz/roma-pizza-new-york-4...</td>\n",
       "      <td>390</td>\n",
       "      <td>[{'alias': 'pizza', 'title': 'Pizza'}, {'alias...</td>\n",
       "      <td>3.5</td>\n",
       "      <td>{'latitude': 40.77843, 'longitude': -73.94863}</td>\n",
       "      <td>['pickup', 'delivery']</td>\n",
       "      <td>{'address1': '1701 1st Ave', 'address2': '', '...</td>\n",
       "      <td>both</td>\n",
       "    </tr>\n",
       "  </tbody>\n",
       "</table>\n",
       "<p>5 rows × 30 columns</p>\n",
       "</div>"
      ],
      "text/plain": [
       "      CAMIS                                  DBA      BORO BUILDING  \\\n",
       "0  41459621  GINO'S BRICK OVEN PIZZA & TRATTORIA  Brooklyn   548550   \n",
       "1  41459621  GINO'S BRICK OVEN PIZZA & TRATTORIA  Brooklyn   548550   \n",
       "2  41459621  GINO'S BRICK OVEN PIZZA & TRATTORIA  Brooklyn   548550   \n",
       "3  41459621  GINO'S BRICK OVEN PIZZA & TRATTORIA  Brooklyn   548550   \n",
       "4  50134916                           ROMA PIZZA  Brooklyn     1101   \n",
       "\n",
       "            STREET  ZIPCODE CUISINE DESCRIPTION INSPECTION DATE  \\\n",
       "0  FLATBUSH AVENUE      NaN               Pizza      10/13/2022   \n",
       "1  FLATBUSH AVENUE      NaN               Pizza      09/03/2021   \n",
       "2  FLATBUSH AVENUE      NaN               Pizza      09/03/2021   \n",
       "3  FLATBUSH AVENUE      NaN               Pizza      09/03/2021   \n",
       "4         AVENUE U  11223.0               Pizza      07/19/2023   \n",
       "\n",
       "                                            ACTION VIOLATION CODE  ...  \\\n",
       "0  Violations were cited in the following area(s).            02B  ...   \n",
       "1  Violations were cited in the following area(s).            08C  ...   \n",
       "2  Violations were cited in the following area(s).            10F  ...   \n",
       "3  Violations were cited in the following area(s).            02B  ...   \n",
       "4  Violations were cited in the following area(s).            02B  ...   \n",
       "\n",
       "                                  name  \\\n",
       "0  GINO'S BRICK OVEN PIZZA & TRATTORIA   \n",
       "1  GINO'S BRICK OVEN PIZZA & TRATTORIA   \n",
       "2  GINO'S BRICK OVEN PIZZA & TRATTORIA   \n",
       "3  GINO'S BRICK OVEN PIZZA & TRATTORIA   \n",
       "4                           ROMA PIZZA   \n",
       "\n",
       "                                           image_url  \\\n",
       "0  https://s3-media1.fl.yelpcdn.com/bphoto/ovQ-Ps...   \n",
       "1  https://s3-media1.fl.yelpcdn.com/bphoto/ovQ-Ps...   \n",
       "2  https://s3-media1.fl.yelpcdn.com/bphoto/ovQ-Ps...   \n",
       "3  https://s3-media1.fl.yelpcdn.com/bphoto/ovQ-Ps...   \n",
       "4  https://s3-media1.fl.yelpcdn.com/bphoto/OQeT14...   \n",
       "\n",
       "                                                 url review_count  \\\n",
       "0  https://www.yelp.com/biz/ginos-brick-oven-pizz...          277   \n",
       "1  https://www.yelp.com/biz/ginos-brick-oven-pizz...          277   \n",
       "2  https://www.yelp.com/biz/ginos-brick-oven-pizz...          277   \n",
       "3  https://www.yelp.com/biz/ginos-brick-oven-pizz...          277   \n",
       "4  https://www.yelp.com/biz/roma-pizza-new-york-4...          390   \n",
       "\n",
       "                                          categories rating  \\\n",
       "0  [{'alias': 'italian', 'title': 'Italian'}, {'a...    4.0   \n",
       "1  [{'alias': 'italian', 'title': 'Italian'}, {'a...    4.0   \n",
       "2  [{'alias': 'italian', 'title': 'Italian'}, {'a...    4.0   \n",
       "3  [{'alias': 'italian', 'title': 'Italian'}, {'a...    4.0   \n",
       "4  [{'alias': 'pizza', 'title': 'Pizza'}, {'alias...    3.5   \n",
       "\n",
       "                                         coordinates            transactions  \\\n",
       "0  {'latitude': 40.6605221493743, 'longitude': -7...  ['delivery', 'pickup']   \n",
       "1  {'latitude': 40.6605221493743, 'longitude': -7...  ['delivery', 'pickup']   \n",
       "2  {'latitude': 40.6605221493743, 'longitude': -7...  ['delivery', 'pickup']   \n",
       "3  {'latitude': 40.6605221493743, 'longitude': -7...  ['delivery', 'pickup']   \n",
       "4     {'latitude': 40.77843, 'longitude': -73.94863}  ['pickup', 'delivery']   \n",
       "\n",
       "                                            location _merge  \n",
       "0  {'address1': '548 Flatbush Ave', 'address2': '...   both  \n",
       "1  {'address1': '548 Flatbush Ave', 'address2': '...   both  \n",
       "2  {'address1': '548 Flatbush Ave', 'address2': '...   both  \n",
       "3  {'address1': '548 Flatbush Ave', 'address2': '...   both  \n",
       "4  {'address1': '1701 1st Ave', 'address2': '', '...   both  \n",
       "\n",
       "[5 rows x 30 columns]"
      ]
     },
     "execution_count": 12,
     "metadata": {},
     "output_type": "execute_result"
    }
   ],
   "source": [
    "# looking at the data\n",
    "merged_df.head()"
   ]
  },
  {
   "cell_type": "code",
   "execution_count": 13,
   "id": "5fdc19c7",
   "metadata": {
    "scrolled": true
   },
   "outputs": [
    {
     "name": "stdout",
     "output_type": "stream",
     "text": [
      "<class 'pandas.core.frame.DataFrame'>\n",
      "Int64Index: 503 entries, 0 to 516\n",
      "Data columns (total 30 columns):\n",
      " #   Column                 Non-Null Count  Dtype   \n",
      "---  ------                 --------------  -----   \n",
      " 0   CAMIS                  503 non-null    int64   \n",
      " 1   DBA                    503 non-null    object  \n",
      " 2   BORO                   503 non-null    object  \n",
      " 3   BUILDING               503 non-null    object  \n",
      " 4   STREET                 503 non-null    object  \n",
      " 5   ZIPCODE                499 non-null    float64 \n",
      " 6   CUISINE DESCRIPTION    503 non-null    object  \n",
      " 7   INSPECTION DATE        503 non-null    object  \n",
      " 8   ACTION                 503 non-null    object  \n",
      " 9   VIOLATION CODE         501 non-null    object  \n",
      " 10  VIOLATION DESCRIPTION  501 non-null    object  \n",
      " 11  CRITICAL FLAG          503 non-null    object  \n",
      " 12  SCORE                  503 non-null    float64 \n",
      " 13  GRADE                  503 non-null    object  \n",
      " 14  GRADE DATE             496 non-null    object  \n",
      " 15  INSPECTION TYPE        503 non-null    object  \n",
      " 16  Latitude               503 non-null    float64 \n",
      " 17  Longitude              503 non-null    float64 \n",
      " 18  Council District       499 non-null    float64 \n",
      " 19  alias                  503 non-null    object  \n",
      " 20  name                   503 non-null    object  \n",
      " 21  image_url              503 non-null    object  \n",
      " 22  url                    503 non-null    object  \n",
      " 23  review_count           503 non-null    int64   \n",
      " 24  categories             503 non-null    object  \n",
      " 25  rating                 503 non-null    float64 \n",
      " 26  coordinates            503 non-null    object  \n",
      " 27  transactions           503 non-null    object  \n",
      " 28  location               503 non-null    object  \n",
      " 29  _merge                 503 non-null    category\n",
      "dtypes: category(1), float64(6), int64(2), object(21)\n",
      "memory usage: 118.5+ KB\n"
     ]
    }
   ],
   "source": [
    "# Looking at the merged dataframe\n",
    "merged_df.info()"
   ]
  },
  {
   "cell_type": "code",
   "execution_count": 14,
   "id": "1661b979",
   "metadata": {},
   "outputs": [
    {
     "name": "stdout",
     "output_type": "stream",
     "text": [
      "        CAMIS                 DBA      BORO BUILDING        STREET  ZIPCODE  \\\n",
      "206  50124791  FRONT STREET PIZZA  Brooklyn       80  FRONT STREET  11201.0   \n",
      "207  50124791  FRONT STREET PIZZA  Brooklyn       80  FRONT STREET  11201.0   \n",
      "208  50124791  FRONT STREET PIZZA  Brooklyn       80  FRONT STREET  11201.0   \n",
      "209  50124791  FRONT STREET PIZZA  Brooklyn       80  FRONT STREET  11201.0   \n",
      "\n",
      "    CUISINE DESCRIPTION INSPECTION DATE  \\\n",
      "206               Pizza      03/20/2023   \n",
      "207               Pizza      03/20/2023   \n",
      "208               Pizza      03/20/2023   \n",
      "209               Pizza      03/20/2023   \n",
      "\n",
      "                                              ACTION VIOLATION CODE  ...  \\\n",
      "206  Violations were cited in the following area(s).            10F  ...   \n",
      "207  Violations were cited in the following area(s).            02B  ...   \n",
      "208  Violations were cited in the following area(s).            02H  ...   \n",
      "209  Violations were cited in the following area(s).            09C  ...   \n",
      "\n",
      "                   name                                          image_url  \\\n",
      "206  FRONT STREET PIZZA  https://s3-media2.fl.yelpcdn.com/bphoto/wRdm4f...   \n",
      "207  FRONT STREET PIZZA  https://s3-media2.fl.yelpcdn.com/bphoto/wRdm4f...   \n",
      "208  FRONT STREET PIZZA  https://s3-media2.fl.yelpcdn.com/bphoto/wRdm4f...   \n",
      "209  FRONT STREET PIZZA  https://s3-media2.fl.yelpcdn.com/bphoto/wRdm4f...   \n",
      "\n",
      "                                                   url review_count  \\\n",
      "206  https://www.yelp.com/biz/front-street-pizza-br...          472   \n",
      "207  https://www.yelp.com/biz/front-street-pizza-br...          472   \n",
      "208  https://www.yelp.com/biz/front-street-pizza-br...          472   \n",
      "209  https://www.yelp.com/biz/front-street-pizza-br...          472   \n",
      "\n",
      "                                            categories rating  \\\n",
      "206  [{'alias': 'pizza', 'title': 'Pizza'}, {'alias...    4.0   \n",
      "207  [{'alias': 'pizza', 'title': 'Pizza'}, {'alias...    4.0   \n",
      "208  [{'alias': 'pizza', 'title': 'Pizza'}, {'alias...    4.0   \n",
      "209  [{'alias': 'pizza', 'title': 'Pizza'}, {'alias...    4.0   \n",
      "\n",
      "                                        coordinates            transactions  \\\n",
      "206  {'latitude': 40.70244, 'longitude': -73.98943}  ['delivery', 'pickup']   \n",
      "207  {'latitude': 40.70244, 'longitude': -73.98943}  ['delivery', 'pickup']   \n",
      "208  {'latitude': 40.70244, 'longitude': -73.98943}  ['delivery', 'pickup']   \n",
      "209  {'latitude': 40.70244, 'longitude': -73.98943}  ['delivery', 'pickup']   \n",
      "\n",
      "                                              location _merge  \n",
      "206  {'address1': '80 Front St', 'address2': '', 'a...   both  \n",
      "207  {'address1': '80 Front St', 'address2': '', 'a...   both  \n",
      "208  {'address1': '80 Front St', 'address2': '', 'a...   both  \n",
      "209  {'address1': '80 Front St', 'address2': '', 'a...   both  \n",
      "\n",
      "[4 rows x 30 columns]\n"
     ]
    }
   ],
   "source": [
    "# Use boolean indexing to filter rows where the 'name_column' matches the target name\n",
    "specific_restaurant = merged_df[merged_df['name'] == 'FRONT STREET PIZZA']\n",
    "\n",
    "# Print or further process the specific restaurant data\n",
    "print(specific_restaurant)"
   ]
  },
  {
   "cell_type": "markdown",
   "id": "6a5bab7c",
   "metadata": {},
   "source": [
    "# **Data Cleaning**"
   ]
  },
  {
   "cell_type": "code",
   "execution_count": 15,
   "id": "fa3ab0a6",
   "metadata": {},
   "outputs": [],
   "source": [
    "# Creating a new column 'unique_id' by combining 'name' and 'CAMIS'\n",
    "merged_df['unique_id'] = merged_df['name'] + '_' + merged_df['CAMIS'].astype(str)\n",
    "\n",
    "# Sorting the DataFrame based on the new 'unique_id' column\n",
    "merged_df = merged_df.sort_values(by='unique_id')\n",
    "\n",
    "# If you want to keep only the last occurrence of each unique identifier, you can use the following:\n",
    "merged_df = merged_df.sort_values(by='INSPECTION DATE').drop_duplicates(subset=['unique_id'], keep='last')"
   ]
  },
  {
   "cell_type": "code",
   "execution_count": 16,
   "id": "2ac87b55",
   "metadata": {},
   "outputs": [],
   "source": [
    "# Dropping irrelevant columns\n",
    "merged_df.drop(['_merge', 'GRADE', 'BUILDING', 'ZIPCODE', 'Council District', 'Longitude', 'Latitude', 'coordinates', 'url','CRITICAL FLAG', 'alias', 'categories'], axis=1, inplace=True)"
   ]
  },
  {
   "cell_type": "code",
   "execution_count": 17,
   "id": "3ca567b3",
   "metadata": {
    "scrolled": true
   },
   "outputs": [
    {
     "data": {
      "text/html": [
       "<div>\n",
       "<style scoped>\n",
       "    .dataframe tbody tr th:only-of-type {\n",
       "        vertical-align: middle;\n",
       "    }\n",
       "\n",
       "    .dataframe tbody tr th {\n",
       "        vertical-align: top;\n",
       "    }\n",
       "\n",
       "    .dataframe thead th {\n",
       "        text-align: right;\n",
       "    }\n",
       "</style>\n",
       "<table border=\"1\" class=\"dataframe\">\n",
       "  <thead>\n",
       "    <tr style=\"text-align: right;\">\n",
       "      <th></th>\n",
       "      <th>Total</th>\n",
       "      <th>Percent</th>\n",
       "    </tr>\n",
       "  </thead>\n",
       "  <tbody>\n",
       "    <tr>\n",
       "      <th>GRADE DATE</th>\n",
       "      <td>2</td>\n",
       "      <td>2.44%</td>\n",
       "    </tr>\n",
       "    <tr>\n",
       "      <th>CAMIS</th>\n",
       "      <td>0</td>\n",
       "      <td>0.0%</td>\n",
       "    </tr>\n",
       "    <tr>\n",
       "      <th>location</th>\n",
       "      <td>0</td>\n",
       "      <td>0.0%</td>\n",
       "    </tr>\n",
       "    <tr>\n",
       "      <th>transactions</th>\n",
       "      <td>0</td>\n",
       "      <td>0.0%</td>\n",
       "    </tr>\n",
       "    <tr>\n",
       "      <th>rating</th>\n",
       "      <td>0</td>\n",
       "      <td>0.0%</td>\n",
       "    </tr>\n",
       "  </tbody>\n",
       "</table>\n",
       "</div>"
      ],
      "text/plain": [
       "              Total Percent\n",
       "GRADE DATE        2   2.44%\n",
       "CAMIS             0    0.0%\n",
       "location          0    0.0%\n",
       "transactions      0    0.0%\n",
       "rating            0    0.0%"
      ]
     },
     "execution_count": 17,
     "metadata": {},
     "output_type": "execute_result"
    }
   ],
   "source": [
    "# checking missing data in data \n",
    "def check_missing_data(rdf):\n",
    "    total = merged_df.isnull().sum().sort_values(ascending = False)\n",
    "    percent = (merged_df.isnull().sum()/merged_df.isnull().count()*100).sort_values(ascending = False)\n",
    "    percent = percent.round(2).astype(str) + '%'\n",
    "    missing_data  = pd.concat([total, percent], axis=1, keys=['Total', 'Percent'])\n",
    "    return missing_data\n",
    "missing_data_result = check_missing_data(merged_df)\n",
    "missing_data_result.head()"
   ]
  },
  {
   "cell_type": "code",
   "execution_count": 18,
   "id": "a7ef5a7a",
   "metadata": {},
   "outputs": [],
   "source": [
    "# Function to eliminate rows with missing Grade dates\n",
    "def eliminate_missing_grade_date_rows(merged_df):\n",
    "    \"\"\"\n",
    "    Eliminate rows with missing data in the \"GRADE DATE\" column.\n",
    "\n",
    "    Returns:\n",
    "    - Cleaned DataFrame without rows with missing \"GRADE DATE\"\n",
    "    \"\"\"\n",
    "    # Drop rows with missing values in the \"GRADE DATE\" column\n",
    "    cleaned_dataframe = merged_df.dropna(subset=[\"GRADE DATE\"])\n",
    "\n",
    "    return cleaned_dataframe\n",
    "\n",
    "merged_df = eliminate_missing_grade_date_rows(merged_df)"
   ]
  },
  {
   "cell_type": "code",
   "execution_count": 19,
   "id": "9112dd55",
   "metadata": {},
   "outputs": [
    {
     "data": {
      "text/plain": [
       "Cycle Inspection / Initial Inspection              36\n",
       "Cycle Inspection / Re-inspection                   25\n",
       "Pre-permit (Operational) / Initial Inspection      12\n",
       "Pre-permit (Operational) / Re-inspection            3\n",
       "Cycle Inspection / Reopening Inspection             3\n",
       "Pre-permit (Operational) / Reopening Inspection     1\n",
       "Name: INSPECTION TYPE, dtype: int64"
      ]
     },
     "execution_count": 19,
     "metadata": {},
     "output_type": "execute_result"
    }
   ],
   "source": [
    "# looking at the types of Inspections\n",
    "merged_df['INSPECTION TYPE'].value_counts()"
   ]
  },
  {
   "cell_type": "code",
   "execution_count": 20,
   "id": "e90ed0cf",
   "metadata": {},
   "outputs": [],
   "source": [
    "# Filtering out only the initial inspections and re-inspections\n",
    "def filter_inspection_type(merged_df):\n",
    "    \"\"\"\n",
    "    Filter rows based on the values in the \"INSPECTION TYPE\" column.\n",
    "\n",
    "    Returns:\n",
    "    - DataFrame containing only rows with specified inspection types\n",
    "    \"\"\"\n",
    "    inspection_types_to_keep = ['Cycle Inspection / Initial Inspection', 'Cycle Inspection / Re-inspection']\n",
    "    filtered_rdf = merged_df.loc[merged_df['INSPECTION TYPE'].isin(inspection_types_to_keep)]\n",
    "\n",
    "    return filtered_rdf\n",
    "\n",
    "merged_df = filter_inspection_type(merged_df)"
   ]
  },
  {
   "cell_type": "code",
   "execution_count": 21,
   "id": "8fb8da33",
   "metadata": {},
   "outputs": [],
   "source": [
    "#create a dataframe with the most recent inspection data\n",
    "merged_df = merged_df.sort_values(by='INSPECTION DATE').drop_duplicates(subset=['CAMIS'], keep='last')"
   ]
  },
  {
   "cell_type": "code",
   "execution_count": 22,
   "id": "19e7ec13",
   "metadata": {},
   "outputs": [
    {
     "name": "stdout",
     "output_type": "stream",
     "text": [
      "<class 'pandas.core.frame.DataFrame'>\n",
      "Int64Index: 61 entries, 266 to 437\n",
      "Data columns (total 19 columns):\n",
      " #   Column                 Non-Null Count  Dtype  \n",
      "---  ------                 --------------  -----  \n",
      " 0   CAMIS                  61 non-null     int64  \n",
      " 1   DBA                    61 non-null     object \n",
      " 2   BORO                   61 non-null     object \n",
      " 3   STREET                 61 non-null     object \n",
      " 4   CUISINE DESCRIPTION    61 non-null     object \n",
      " 5   INSPECTION DATE        61 non-null     object \n",
      " 6   ACTION                 61 non-null     object \n",
      " 7   VIOLATION CODE         61 non-null     object \n",
      " 8   VIOLATION DESCRIPTION  61 non-null     object \n",
      " 9   SCORE                  61 non-null     float64\n",
      " 10  GRADE DATE             61 non-null     object \n",
      " 11  INSPECTION TYPE        61 non-null     object \n",
      " 12  name                   61 non-null     object \n",
      " 13  image_url              61 non-null     object \n",
      " 14  review_count           61 non-null     int64  \n",
      " 15  rating                 61 non-null     float64\n",
      " 16  transactions           61 non-null     object \n",
      " 17  location               61 non-null     object \n",
      " 18  unique_id              61 non-null     object \n",
      "dtypes: float64(2), int64(2), object(15)\n",
      "memory usage: 9.5+ KB\n"
     ]
    }
   ],
   "source": [
    "# Viewing the cleaaned dataframe\n",
    "merged_df.info()"
   ]
  },
  {
   "cell_type": "code",
   "execution_count": 23,
   "id": "9f795aa1",
   "metadata": {
    "scrolled": true
   },
   "outputs": [
    {
     "data": {
      "text/html": [
       "<div>\n",
       "<style scoped>\n",
       "    .dataframe tbody tr th:only-of-type {\n",
       "        vertical-align: middle;\n",
       "    }\n",
       "\n",
       "    .dataframe tbody tr th {\n",
       "        vertical-align: top;\n",
       "    }\n",
       "\n",
       "    .dataframe thead th {\n",
       "        text-align: right;\n",
       "    }\n",
       "</style>\n",
       "<table border=\"1\" class=\"dataframe\">\n",
       "  <thead>\n",
       "    <tr style=\"text-align: right;\">\n",
       "      <th></th>\n",
       "      <th>CAMIS</th>\n",
       "      <th>SCORE</th>\n",
       "      <th>review_count</th>\n",
       "      <th>rating</th>\n",
       "    </tr>\n",
       "  </thead>\n",
       "  <tbody>\n",
       "    <tr>\n",
       "      <th>count</th>\n",
       "      <td>6.100000e+01</td>\n",
       "      <td>61.000000</td>\n",
       "      <td>61.000000</td>\n",
       "      <td>61.000000</td>\n",
       "    </tr>\n",
       "    <tr>\n",
       "      <th>mean</th>\n",
       "      <td>4.579030e+07</td>\n",
       "      <td>12.540984</td>\n",
       "      <td>325.786885</td>\n",
       "      <td>3.713115</td>\n",
       "    </tr>\n",
       "    <tr>\n",
       "      <th>std</th>\n",
       "      <td>4.535248e+06</td>\n",
       "      <td>9.078498</td>\n",
       "      <td>521.671516</td>\n",
       "      <td>0.535872</td>\n",
       "    </tr>\n",
       "    <tr>\n",
       "      <th>min</th>\n",
       "      <td>4.038630e+07</td>\n",
       "      <td>2.000000</td>\n",
       "      <td>22.000000</td>\n",
       "      <td>1.500000</td>\n",
       "    </tr>\n",
       "    <tr>\n",
       "      <th>25%</th>\n",
       "      <td>4.127338e+07</td>\n",
       "      <td>8.000000</td>\n",
       "      <td>86.000000</td>\n",
       "      <td>3.500000</td>\n",
       "    </tr>\n",
       "    <tr>\n",
       "      <th>50%</th>\n",
       "      <td>5.000100e+07</td>\n",
       "      <td>12.000000</td>\n",
       "      <td>202.000000</td>\n",
       "      <td>3.500000</td>\n",
       "    </tr>\n",
       "    <tr>\n",
       "      <th>75%</th>\n",
       "      <td>5.007050e+07</td>\n",
       "      <td>13.000000</td>\n",
       "      <td>291.000000</td>\n",
       "      <td>4.000000</td>\n",
       "    </tr>\n",
       "    <tr>\n",
       "      <th>max</th>\n",
       "      <td>5.012784e+07</td>\n",
       "      <td>64.000000</td>\n",
       "      <td>3322.000000</td>\n",
       "      <td>4.500000</td>\n",
       "    </tr>\n",
       "  </tbody>\n",
       "</table>\n",
       "</div>"
      ],
      "text/plain": [
       "              CAMIS      SCORE  review_count     rating\n",
       "count  6.100000e+01  61.000000     61.000000  61.000000\n",
       "mean   4.579030e+07  12.540984    325.786885   3.713115\n",
       "std    4.535248e+06   9.078498    521.671516   0.535872\n",
       "min    4.038630e+07   2.000000     22.000000   1.500000\n",
       "25%    4.127338e+07   8.000000     86.000000   3.500000\n",
       "50%    5.000100e+07  12.000000    202.000000   3.500000\n",
       "75%    5.007050e+07  13.000000    291.000000   4.000000\n",
       "max    5.012784e+07  64.000000   3322.000000   4.500000"
      ]
     },
     "execution_count": 23,
     "metadata": {},
     "output_type": "execute_result"
    }
   ],
   "source": [
    "merged_df.describe()"
   ]
  },
  {
   "cell_type": "code",
   "execution_count": 24,
   "id": "ead21aea",
   "metadata": {
    "scrolled": true
   },
   "outputs": [
    {
     "data": {
      "text/plain": [
       "50"
      ]
     },
     "execution_count": 24,
     "metadata": {},
     "output_type": "execute_result"
    }
   ],
   "source": [
    "#count number of unique names\n",
    "len(merged_df['name'].unique())"
   ]
  },
  {
   "cell_type": "code",
   "execution_count": 25,
   "id": "1254e7e7",
   "metadata": {},
   "outputs": [
    {
     "data": {
      "text/plain": [
       "61"
      ]
     },
     "execution_count": 25,
     "metadata": {},
     "output_type": "execute_result"
    }
   ],
   "source": [
    "#count number of unique names\n",
    "len(merged_df['CAMIS'].unique())"
   ]
  },
  {
   "cell_type": "code",
   "execution_count": 26,
   "id": "f2f7b522",
   "metadata": {},
   "outputs": [
    {
     "data": {
      "text/plain": [
       "JOE'S PIZZA_50084972                  1\n",
       "FAZIO'S_50056980                      1\n",
       "MIKE'S PIZZA_40745618                 1\n",
       "ARTICHOKE BASILLE'S PIZZA_50057010    1\n",
       "COZZI PIZZA_41404362                  1\n",
       "                                     ..\n",
       "LENNY'S PIZZA_40553657                1\n",
       "MY LITTLE PIZZERIA_40593848           1\n",
       "ENOTECA ON COURT_41296556             1\n",
       "KRISPY PIZZA_40592791                 1\n",
       "ROBERTA'S_41307383                    1\n",
       "Name: unique_id, Length: 61, dtype: int64"
      ]
     },
     "execution_count": 26,
     "metadata": {},
     "output_type": "execute_result"
    }
   ],
   "source": [
    "merged_df['unique_id'].value_counts()"
   ]
  },
  {
   "cell_type": "markdown",
   "id": "4c709ae4",
   "metadata": {},
   "source": [
    "# **Hypothesis Testing**"
   ]
  },
  {
   "cell_type": "markdown",
   "id": "6c654995",
   "metadata": {},
   "source": [
    "## **Hypothesis Test 1:Try to find a correlation between scores on inspections and the review count on YELP**"
   ]
  },
  {
   "cell_type": "markdown",
   "id": "5850570c",
   "metadata": {},
   "source": [
    "- The null hypothesis for this question would be that the restaurant inspection score does not significantly affect the number of reviews on Yelp for pizza restaurants in Brooklyn NY"
   ]
  },
  {
   "cell_type": "markdown",
   "id": "b623cd84",
   "metadata": {},
   "source": [
    "- The alternative hypothesis for this question would be that the restaurant inspection score does significantly affect the number of reviews on Yelp for the pizza restaurants in Brooklyn NY."
   ]
  },
  {
   "cell_type": "code",
   "execution_count": 41,
   "id": "36d1a2b4",
   "metadata": {
    "scrolled": true
   },
   "outputs": [
    {
     "name": "stdout",
     "output_type": "stream",
     "text": [
      "Correlation: 0.16\n",
      "P-value: 0.2120\n",
      "There is no significant correlation.\n"
     ]
    }
   ],
   "source": [
    "# Performing Pearsonr correlation test\n",
    "correlation, p_value = pearsonr(merged_df['review_count'], merged_df['SCORE'])\n",
    "\n",
    "# Print results\n",
    "print(f'Correlation: {correlation:.2f}')\n",
    "print(f'P-value: {p_value:.4f}')\n",
    "\n",
    "# Check for significance based on the p-value\n",
    "if p_value < 0.05:\n",
    "    print('The correlation is statistically significant.')\n",
    "else:\n",
    "    print('There is no significant correlation.')"
   ]
  },
  {
   "cell_type": "code",
   "execution_count": 42,
   "id": "de308ce3",
   "metadata": {},
   "outputs": [
    {
     "data": {
      "image/png": "[encoded data removed]",
      "text/plain": [
       "<Figure size 800x600 with 2 Axes>"
      ]
     },
     "metadata": {},
     "output_type": "display_data"
    }
   ],
   "source": [
    "numeric_columns = ['SCORE', 'review_count']\n",
    "\n",
    "mdf_numeric = merged_df[numeric_columns].apply(pd.to_numeric, errors='coerce').dropna()\n",
    "\n",
    "c_matrix = mdf_numeric.corr()\n",
    "\n",
    "plt.figure(figsize=(8, 6))\n",
    "sns.heatmap(c_matrix, annot=True, cmap='coolwarm', fmt=\".2f\")\n",
    "plt.title('Correlation Map')\n",
    "plt.show()"
   ]
  },
  {
   "cell_type": "code",
   "execution_count": 29,
   "id": "aaa31178",
   "metadata": {
    "scrolled": true
   },
   "outputs": [
    {
     "data": {
      "image/png": "[encoded data removed]",
      "text/plain": [
       "<Figure size 800x800 with 2 Axes>"
      ]
     },
     "metadata": {},
     "output_type": "display_data"
    }
   ],
   "source": [
    "# Compute the correlation matrix\n",
    "correlation_matrix = merged_df.corr()\n",
    "\n",
    "# Plot the correlation heatmap using seaborn\n",
    "plt.figure(figsize=(8, 8))\n",
    "sns.heatmap(correlation_matrix, annot=True, cmap='coolwarm', fmt=\".2f\", linewidths=.5)\n",
    "plt.title('Correlation Map')\n",
    "plt.show()"
   ]
  },
  {
   "cell_type": "code",
   "execution_count": 30,
   "id": "b59950ec",
   "metadata": {},
   "outputs": [
    {
     "data": {
      "image/png": "[encoded data removed]",
      "text/plain": [
       "<Figure size 1500x1000 with 9 Axes>"
      ]
     },
     "metadata": {},
     "output_type": "display_data"
    }
   ],
   "source": [
    "#creates a scatter plot matrix for recent_df\n",
    "pd.plotting.scatter_matrix(merged_df[['rating','review_count', 'SCORE']], \n",
    "                           figsize=(15, 10));"
   ]
  },
  {
   "cell_type": "code",
   "execution_count": 31,
   "id": "64a69a9a",
   "metadata": {
    "scrolled": false
   },
   "outputs": [
    {
     "data": {
      "image/png": "[encoded data removed]",
      "text/plain": [
       "<Figure size 640x480 with 1 Axes>"
      ]
     },
     "metadata": {},
     "output_type": "display_data"
    }
   ],
   "source": [
    "# Visualizing the correlation between Inspection scores and Yelp Ratings\n",
    "sns.scatterplot(x=merged_df['SCORE'], y=merged_df['rating'])\n",
    "plt.title('Scatter Plot of Inspection Scores vs. Yelp Ratings')\n",
    "plt.xlabel('Inspection Scores')\n",
    "plt.ylabel('Yelp Ratings')\n",
    "plt.show()"
   ]
  },
  {
   "cell_type": "markdown",
   "id": "0f01b6c1",
   "metadata": {},
   "source": [
    "## **Hypothesis Test 2:Try to find correlation between the inspection grades and the ratings on Yelp data**"
   ]
  },
  {
   "cell_type": "markdown",
   "id": "f45de1d6",
   "metadata": {},
   "source": [
    "## **Consider instead trying to find correlation between amount of reviews and ratings on Yelp data**"
   ]
  },
  {
   "cell_type": "code",
   "execution_count": 32,
   "id": "ff6f127f",
   "metadata": {},
   "outputs": [],
   "source": [
    "# Remove rows with 'N', 'Z', and 'P' in the 'GRADE' column\n",
    "# These letters signify: N = Not Yet Graded, Z = Grade Pending,\n",
    "# P= Grade Pending issued on re-opening following an initial inspection that resulted in a closure\n",
    "#merged_df = merged_df[~merged_df['GRADE'].isin(['N', 'Z', 'P'])]"
   ]
  },
  {
   "cell_type": "code",
   "execution_count": 33,
   "id": "e7776517",
   "metadata": {
    "scrolled": false
   },
   "outputs": [
    {
     "data": {
      "text/plain": [
       "3.5    28\n",
       "4.0    20\n",
       "4.5     8\n",
       "3.0     3\n",
       "2.0     1\n",
       "1.5     1\n",
       "Name: rating, dtype: int64"
      ]
     },
     "execution_count": 33,
     "metadata": {},
     "output_type": "execute_result"
    }
   ],
   "source": [
    "merged_df['rating'].value_counts()"
   ]
  },
  {
   "cell_type": "code",
   "execution_count": 34,
   "id": "f41554c0",
   "metadata": {
    "scrolled": true
   },
   "outputs": [
    {
     "name": "stdout",
     "output_type": "stream",
     "text": [
      "<class 'pandas.core.frame.DataFrame'>\n",
      "Int64Index: 61 entries, 266 to 437\n",
      "Data columns (total 19 columns):\n",
      " #   Column                 Non-Null Count  Dtype  \n",
      "---  ------                 --------------  -----  \n",
      " 0   CAMIS                  61 non-null     int64  \n",
      " 1   DBA                    61 non-null     object \n",
      " 2   BORO                   61 non-null     object \n",
      " 3   STREET                 61 non-null     object \n",
      " 4   CUISINE DESCRIPTION    61 non-null     object \n",
      " 5   INSPECTION DATE        61 non-null     object \n",
      " 6   ACTION                 61 non-null     object \n",
      " 7   VIOLATION CODE         61 non-null     object \n",
      " 8   VIOLATION DESCRIPTION  61 non-null     object \n",
      " 9   SCORE                  61 non-null     float64\n",
      " 10  GRADE DATE             61 non-null     object \n",
      " 11  INSPECTION TYPE        61 non-null     object \n",
      " 12  name                   61 non-null     object \n",
      " 13  image_url              61 non-null     object \n",
      " 14  review_count           61 non-null     int64  \n",
      " 15  rating                 61 non-null     float64\n",
      " 16  transactions           61 non-null     object \n",
      " 17  location               61 non-null     object \n",
      " 18  unique_id              61 non-null     object \n",
      "dtypes: float64(2), int64(2), object(15)\n",
      "memory usage: 9.5+ KB\n"
     ]
    }
   ],
   "source": [
    "merged_df.info()"
   ]
  },
  {
   "cell_type": "code",
   "execution_count": 35,
   "id": "1ace50d7",
   "metadata": {
    "scrolled": true
   },
   "outputs": [
    {
     "name": "stdout",
     "output_type": "stream",
     "text": [
      "Number of non-null values in 'rating': 61\n"
     ]
    }
   ],
   "source": [
    "print(\"Number of non-null values in 'rating':\", merged_df['rating'].count())"
   ]
  },
  {
   "cell_type": "code",
   "execution_count": 36,
   "id": "c2ca40fe",
   "metadata": {
    "scrolled": true
   },
   "outputs": [
    {
     "name": "stdout",
     "output_type": "stream",
     "text": [
      "266     517\n",
      "16      140\n",
      "374     303\n",
      "210      40\n",
      "516     398\n",
      "       ... \n",
      "19      183\n",
      "133     147\n",
      "30       22\n",
      "471     113\n",
      "437    3322\n",
      "Name: review_count, Length: 61, dtype: int64\n"
     ]
    }
   ],
   "source": [
    "# review_count_counts = merged_df['review_count'].value_counts().sort_values(ascending=False)\n",
    "print(merged_df['review_count'])"
   ]
  },
  {
   "cell_type": "code",
   "execution_count": 37,
   "id": "64c99914",
   "metadata": {},
   "outputs": [
    {
     "name": "stdout",
     "output_type": "stream",
     "text": [
      "Outliers:\n",
      "        CAMIS                        DBA      BORO            STREET  \\\n",
      "98   50056825                 BEST PIZZA  Brooklyn          AVENUE O   \n",
      "94   41411423                 BEST PIZZA  Brooklyn  HAVEMEYER STREET   \n",
      "515  41393052                  IGNAZIO'S  Brooklyn      WATER STREET   \n",
      "281  50037645                JOE'S PIZZA  Brooklyn    BEDFORD AVENUE   \n",
      "363  50057010  ARTICHOKE BASILLE'S PIZZA  Brooklyn          4 AVENUE   \n",
      "84   41250435          VINNIE'S PIZZERIA  Brooklyn    BEDFORD AVENUE   \n",
      "437  41307383                  ROBERTA'S  Brooklyn     BOGART STREET   \n",
      "\n",
      "    CUISINE DESCRIPTION INSPECTION DATE  \\\n",
      "98                Pizza      02/28/2022   \n",
      "94                Pizza      03/16/2023   \n",
      "515               Pizza      05/08/2023   \n",
      "281               Pizza      05/08/2023   \n",
      "363               Pizza      09/06/2023   \n",
      "84                Pizza      12/06/2023   \n",
      "437               Pizza      12/28/2022   \n",
      "\n",
      "                                              ACTION VIOLATION CODE  \\\n",
      "98   Violations were cited in the following area(s).            04L   \n",
      "94   Violations were cited in the following area(s).            08A   \n",
      "515  Violations were cited in the following area(s).            10F   \n",
      "281  Violations were cited in the following area(s).            06D   \n",
      "363  Violations were cited in the following area(s).            08A   \n",
      "84   Violations were cited in the following area(s).            10F   \n",
      "437  Violations were cited in the following area(s).            04N   \n",
      "\n",
      "                                 VIOLATION DESCRIPTION  SCORE  GRADE DATE  \\\n",
      "98   Evidence of mice or live mice present in facil...   11.0  02/28/2022   \n",
      "94   Establishment is not free of harborage or cond...   13.0  03/16/2023   \n",
      "515  Non-food contact surface or equipment made of ...   10.0  05/08/2023   \n",
      "281  Food contact surface not properly washed, rins...   13.0  05/08/2023   \n",
      "363  Establishment is not free of harborage or cond...   27.0  09/06/2023   \n",
      "84   Non-food contact surface or equipment made of ...   13.0  12/06/2023   \n",
      "437  Filth flies or food/refuse/sewage associated w...   16.0  12/28/2022   \n",
      "\n",
      "                           INSPECTION TYPE                       name  \\\n",
      "98        Cycle Inspection / Re-inspection                 BEST PIZZA   \n",
      "94        Cycle Inspection / Re-inspection                 BEST PIZZA   \n",
      "515  Cycle Inspection / Initial Inspection                  IGNAZIO'S   \n",
      "281  Cycle Inspection / Initial Inspection                JOE'S PIZZA   \n",
      "363       Cycle Inspection / Re-inspection  ARTICHOKE BASILLE'S PIZZA   \n",
      "84   Cycle Inspection / Initial Inspection          VINNIE'S PIZZERIA   \n",
      "437       Cycle Inspection / Re-inspection                  ROBERTA'S   \n",
      "\n",
      "                                             image_url  review_count  rating  \\\n",
      "98   https://s3-media1.fl.yelpcdn.com/bphoto/2S2xAi...           729     3.5   \n",
      "94   https://s3-media1.fl.yelpcdn.com/bphoto/2S2xAi...           729     3.5   \n",
      "515  https://s3-media3.fl.yelpcdn.com/bphoto/cpV2ZL...           639     3.5   \n",
      "281  https://s3-media4.fl.yelpcdn.com/bphoto/FluVgK...          2071     4.0   \n",
      "363  https://s3-media3.fl.yelpcdn.com/bphoto/qclxfo...          1702     3.5   \n",
      "84   https://s3-media1.fl.yelpcdn.com/bphoto/-6rgJe...           759     4.0   \n",
      "437  https://s3-media2.fl.yelpcdn.com/bphoto/Cx9X4Q...          3322     4.0   \n",
      "\n",
      "               transactions  \\\n",
      "98   ['delivery', 'pickup']   \n",
      "94   ['delivery', 'pickup']   \n",
      "515  ['delivery', 'pickup']   \n",
      "281  ['pickup', 'delivery']   \n",
      "363  ['pickup', 'delivery']   \n",
      "84   ['delivery', 'pickup']   \n",
      "437  ['pickup', 'delivery']   \n",
      "\n",
      "                                              location  \\\n",
      "98   {'address1': '33 Havemeyer St', 'address2': ''...   \n",
      "94   {'address1': '33 Havemeyer St', 'address2': ''...   \n",
      "515  {'address1': '4 Water St', 'address2': '', 'ad...   \n",
      "281  {'address1': '1435 Broadway', 'address2': '', ...   \n",
      "363  {'address1': '114 10th Ave', 'address2': '', '...   \n",
      "84   {'address1': '148 Bedford Ave', 'address2': ''...   \n",
      "437  {'address1': '261 Moore St', 'address2': '', '...   \n",
      "\n",
      "                              unique_id  \n",
      "98                  BEST PIZZA_50056825  \n",
      "94                  BEST PIZZA_41411423  \n",
      "515                  IGNAZIO'S_41393052  \n",
      "281                JOE'S PIZZA_50037645  \n",
      "363  ARTICHOKE BASILLE'S PIZZA_50057010  \n",
      "84           VINNIE'S PIZZERIA_41250435  \n",
      "437                  ROBERTA'S_41307383  \n"
     ]
    }
   ],
   "source": [
    "review_count = merged_df['review_count']\n",
    "rating = merged_df['rating']\n",
    "\n",
    "# Calculate IQR\n",
    "Q1 = review_count.quantile(0.25)\n",
    "Q3 = review_count.quantile(0.75)\n",
    "IQR = Q3 - Q1\n",
    "\n",
    "# Identify outliers\n",
    "outliers = (review_count < Q1 - 1.5 * IQR) | (review_count > Q3 + 1.5 * IQR)\n",
    "\n",
    "# Print outliers\n",
    "print(\"Outliers:\")\n",
    "print(merged_df[outliers])"
   ]
  },
  {
   "cell_type": "code",
   "execution_count": 38,
   "id": "88c905ef",
   "metadata": {},
   "outputs": [
    {
     "data": {
      "image/png": "[encoded data removed]",
      "text/plain": [
       "<Figure size 1200x600 with 1 Axes>"
      ]
     },
     "metadata": {},
     "output_type": "display_data"
    }
   ],
   "source": [
    "plt.figure(figsize=(12, 6))\n",
    "sns.scatterplot(x='review_count', y='rating', data=merged_df)\n",
    "plt.title('Scatter Plot of Count vs. Rating')\n",
    "plt.xlabel('Review count')\n",
    "plt.ylabel('Rating')\n",
    "plt.show()"
   ]
  },
  {
   "cell_type": "code",
   "execution_count": 39,
   "id": "f4c791cd",
   "metadata": {},
   "outputs": [
    {
     "name": "stdout",
     "output_type": "stream",
     "text": [
      "Original length: 61\n",
      "New length after dropping NaN values: 61\n",
      "Correlation: 0.07\n",
      "P-value: 0.5791\n",
      "There is no significant correlation.\n"
     ]
    }
   ],
   "source": [
    "# Drop rows with NaN values if needed\n",
    "original_length = len(merged_df)\n",
    "merged_df = merged_df.dropna(subset=['review_count', 'rating'])\n",
    "new_length = len(merged_df)\n",
    "\n",
    "print(f'Original length: {original_length}')\n",
    "print(f'New length after dropping NaN values: {new_length}')\n",
    "\n",
    "\n",
    "# Convert 'rating' column to numeric\n",
    "merged_df['rating'] = pd.to_numeric(merged_df['rating'], errors='coerce')\n",
    "\n",
    "# Replace infinite values with NaN and drop rows with NaN values in the 'rating' column\n",
    "merged_df.replace([np.inf, -np.inf], np.nan, inplace=True)\n",
    "merged_df.dropna(subset=['rating'], inplace=True)\n",
    "\n",
    "# Perform Pearson correlation test\n",
    "if len(merged_df['review_count']) < 2 or len(merged_df['rating']) < 2:\n",
    "    print(\"Not enough data points to perform the correlation test.\")\n",
    "else:\n",
    "    # Perform Pearson correlation test\n",
    "    correlation, p_value = pearsonr(merged_df['review_count'], merged_df['rating'])\n",
    "\n",
    "    # Print results\n",
    "    print(f'Correlation: {correlation:.2f}')\n",
    "    print(f'P-value: {p_value:.4f}')\n",
    "\n",
    "    # Check for significance based on the p-value\n",
    "    if p_value < 0.05:\n",
    "        print('The correlation is statistically significant.')\n",
    "    else:\n",
    "        print('There is no significant correlation.')"
   ]
  },
  {
   "cell_type": "markdown",
   "id": "26d32f79",
   "metadata": {},
   "source": [
    "## **Feature Engineering**"
   ]
  },
  {
   "cell_type": "markdown",
   "id": "93ad2fc7",
   "metadata": {},
   "source": [
    "- Find out if there is a significant correlation between certain violations for certain restaurant types of specific areas/boros.\n",
    "\n",
    "- Most common violations for each restaurant type and each set of chains if applicable for each boro.\n",
    "\n",
    "- Do corporate restaurants or privately owned places get better scores/grades? What are the most common violations that cost the most points on the inspections.\n",
    "\n",
    "- Construct predictive models to predict when initial and re-inspections are going to happen\n",
    "\n",
    "- Construct predictive models to predict which restaurants will pass/fail inspections.\n",
    "\n",
    "- Find out if there is correlation between a higher score/grade causing a restaurant to recive an overall better score on yelp. Look at the comparison between the results for coporate and privately owned places."
   ]
  }
 ],
 "metadata": {
  "kernelspec": {
   "display_name": "Python (dojo-env)",
   "language": "python",
   "name": "dojo-env"
  },
  "language_info": {
   "codemirror_mode": {
    "name": "ipython",
    "version": 3
   },
   "file_extension": ".py",
   "mimetype": "text/x-python",
   "name": "python",
   "nbconvert_exporter": "python",
   "pygments_lexer": "ipython3",
   "version": "3.9.15"
  },
  "toc": {
   "base_numbering": 1,
   "nav_menu": {},
   "number_sections": false,
   "sideBar": true,
   "skip_h1_title": false,
   "title_cell": "Table of Contents",
   "title_sidebar": "Contents",
   "toc_cell": false,
   "toc_position": {
    "height": "calc(100% - 180px)",
    "left": "10px",
    "top": "150px",
    "width": "248.352px"
   },
   "toc_section_display": true,
   "toc_window_display": false
  }
 },
 "nbformat": 4,
 "nbformat_minor": 5
}
