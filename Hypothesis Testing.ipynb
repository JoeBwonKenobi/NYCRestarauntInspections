{
 "cells": [
  {
   "cell_type": "markdown",
   "id": "49585a54",
   "metadata": {},
   "source": [
    "# **Hypothesis Testing**"
   ]
  },
  {
   "cell_type": "markdown",
   "id": "f740e049",
   "metadata": {},
   "source": [
    "Joseph Lardie\n",
    "\n",
    "September 2023"
   ]
  },
  {
   "cell_type": "markdown",
   "id": "e8c6c782",
   "metadata": {},
   "source": [
    "# **Imports**"
   ]
  },
  {
   "cell_type": "code",
   "execution_count": 1,
   "id": "eec33c3d",
   "metadata": {},
   "outputs": [],
   "source": [
    "# Numpy\n",
    "import numpy as np\n",
    "\n",
    "# Pandas\n",
    "import pandas as pd\n",
    "\n",
    "# Seaborn\n",
    "import seaborn as sns\n",
    "\n",
    "# matplotlib\n",
    "import matplotlib.pyplot as plt\n",
    "import plotly\n",
    "\n",
    "\n",
    "# Sklearn preprocessing\n",
    "from sklearn import preprocessing,set_config\n",
    "from sklearn.preprocessing import OrdinalEncoder, OneHotEncoder,StandardScaler,LabelEncoder\n",
    "\n",
    "# Scipy\n",
    "from scipy import stats\n",
    "from scipy.stats import norm, pearsonr\n",
    "import statsmodels.api as sm\n",
    "\n",
    "\n",
    "# Sklearn Models\n",
    "from sklearn.model_selection import train_test_split, GridSearchCV\n",
    "from sklearn.impute import SimpleImputer\n",
    "from sklearn import preprocessing, set_config\n",
    "from sklearn.preprocessing import StandardScaler\n",
    "from sklearn.pipeline import Pipeline, make_pipeline\n",
    "from sklearn.impute import SimpleImputer\n",
    "from sklearn.compose import ColumnTransformer,make_column_selector,make_column_transformer\n",
    "from sklearn.linear_model import LogisticRegression\n",
    "from sklearn.decomposition import PCA\n",
    "\n",
    "# Warnings\n",
    "import warnings\n",
    "warnings.filterwarnings(\"ignore\")\n",
    "set_config(display = 'diagram')"
   ]
  },
  {
   "cell_type": "markdown",
   "id": "1c05c26d",
   "metadata": {},
   "source": [
    "## **Loading in datasets**"
   ]
  },
  {
   "cell_type": "code",
   "execution_count": 2,
   "id": "00355b65",
   "metadata": {},
   "outputs": [],
   "source": [
    "# Loading NYC Restaraunt Data\n",
    "rdf = pd.read_csv('rdf')"
   ]
  },
  {
   "cell_type": "code",
   "execution_count": 3,
   "id": "c0b74613",
   "metadata": {},
   "outputs": [],
   "source": [
    "# Loading NYC Restaraunt Data\n",
    "ydf = pd.read_csv('ydf')"
   ]
  },
  {
   "cell_type": "code",
   "execution_count": 4,
   "id": "c90e5cd1",
   "metadata": {},
   "outputs": [
    {
     "name": "stdout",
     "output_type": "stream",
     "text": [
      "<class 'pandas.core.frame.DataFrame'>\n",
      "RangeIndex: 208616 entries, 0 to 208615\n",
      "Data columns (total 19 columns):\n",
      " #   Column                 Non-Null Count   Dtype  \n",
      "---  ------                 --------------   -----  \n",
      " 0   CAMIS                  208616 non-null  int64  \n",
      " 1   DBA                    208042 non-null  object \n",
      " 2   BORO                   208616 non-null  object \n",
      " 3   BUILDING               208270 non-null  object \n",
      " 4   STREET                 208609 non-null  object \n",
      " 5   ZIPCODE                205933 non-null  float64\n",
      " 6   CUISINE DESCRIPTION    206203 non-null  object \n",
      " 7   INSPECTION DATE        208616 non-null  object \n",
      " 8   ACTION                 206203 non-null  object \n",
      " 9   VIOLATION CODE         205056 non-null  object \n",
      " 10  VIOLATION DESCRIPTION  205056 non-null  object \n",
      " 11  CRITICAL FLAG          208616 non-null  object \n",
      " 12  SCORE                  198750 non-null  float64\n",
      " 13  GRADE                  102151 non-null  object \n",
      " 14  GRADE DATE             93552 non-null   object \n",
      " 15  INSPECTION TYPE        206203 non-null  object \n",
      " 16  Latitude               208353 non-null  float64\n",
      " 17  Longitude              208353 non-null  float64\n",
      " 18  Council District       205365 non-null  float64\n",
      "dtypes: float64(5), int64(1), object(13)\n",
      "memory usage: 30.2+ MB\n"
     ]
    }
   ],
   "source": [
    "# Restaurant Inspection data\n",
    "rdf.info()"
   ]
  },
  {
   "cell_type": "code",
   "execution_count": 5,
   "id": "60b34b3d",
   "metadata": {
    "scrolled": true
   },
   "outputs": [
    {
     "name": "stdout",
     "output_type": "stream",
     "text": [
      "<class 'pandas.core.frame.DataFrame'>\n",
      "RangeIndex: 847 entries, 0 to 846\n",
      "Data columns (total 10 columns):\n",
      " #   Column        Non-Null Count  Dtype  \n",
      "---  ------        --------------  -----  \n",
      " 0   alias         847 non-null    object \n",
      " 1   name          847 non-null    object \n",
      " 2   image_url     847 non-null    object \n",
      " 3   url           847 non-null    object \n",
      " 4   review_count  847 non-null    int64  \n",
      " 5   categories    847 non-null    object \n",
      " 6   rating        847 non-null    float64\n",
      " 7   coordinates   847 non-null    object \n",
      " 8   transactions  847 non-null    object \n",
      " 9   location      847 non-null    object \n",
      "dtypes: float64(1), int64(1), object(8)\n",
      "memory usage: 66.3+ KB\n"
     ]
    }
   ],
   "source": [
    "# Yelp Reviews data\n",
    "ydf.info()"
   ]
  },
  {
   "cell_type": "markdown",
   "id": "6a5bab7c",
   "metadata": {},
   "source": [
    "## **Data Cleaning**"
   ]
  },
  {
   "cell_type": "code",
   "execution_count": 6,
   "id": "af2d1ae7",
   "metadata": {},
   "outputs": [],
   "source": [
    "# Selecting subset of only restaurants from Brooklyn\n",
    "brooklyndf = rdf[rdf['BORO'].str.lower() == 'brooklyn']"
   ]
  },
  {
   "cell_type": "code",
   "execution_count": 7,
   "id": "0e9e2684",
   "metadata": {},
   "outputs": [],
   "source": [
    "# Selecting subset of only restaurants in Brooklyn that have pizza in the cuisine description\n",
    "pizza_brooklyn_subset = brooklyndf[(brooklyndf['CUISINE DESCRIPTION'].str.lower() == 'pizza')]"
   ]
  },
  {
   "cell_type": "code",
   "execution_count": 8,
   "id": "72eac95d",
   "metadata": {},
   "outputs": [],
   "source": [
    "# Filtering out rows with NaN in the 'GRADE' column\n",
    "pizza_brooklyn_subset = pizza_brooklyn_subset.dropna(subset=['GRADE'])"
   ]
  },
  {
   "cell_type": "code",
   "execution_count": 9,
   "id": "d4c45f37",
   "metadata": {
    "scrolled": true
   },
   "outputs": [
    {
     "name": "stdout",
     "output_type": "stream",
     "text": [
      "           CAMIS                       DBA      BORO BUILDING  \\\n",
      "241     50127840          PAPA JOHNS PIZZA  Brooklyn      189   \n",
      "289     41688186                  TABLE 87  Brooklyn      620   \n",
      "410     50089510              ROSA'S PIZZA  Brooklyn      374   \n",
      "513     50131083                PARASHADES  Brooklyn      241   \n",
      "770     50018601  BELLA PIZZA & RESTAURANT  Brooklyn      208   \n",
      "...          ...                       ...       ...      ...   \n",
      "207617  50099949          NICKY'S PIZZERIA  Brooklyn     1750   \n",
      "207824  50097889                  DOMINO'S  Brooklyn     1972   \n",
      "207828  40892913              JOJO'S PIZZA  Brooklyn     9502   \n",
      "208342  50037525    BRADO THIN CRUST PIZZA  Brooklyn      155   \n",
      "208412  41534086    LA PIZZA & CONVENIENCE  Brooklyn      887   \n",
      "\n",
      "                     STREET  ZIPCODE CUISINE DESCRIPTION INSPECTION DATE  \\\n",
      "241                AVENUE U  11223.0               Pizza      09/29/2022   \n",
      "289         ATLANTIC AVENUE  11217.0               Pizza      01/25/2017   \n",
      "410     METROPOLITAN AVENUE  11211.0               Pizza      03/02/2022   \n",
      "513         FLATBUSH AVENUE  11217.0               Pizza      01/25/2023   \n",
      "770       LIVINGSTON STREET  11201.0               Pizza      09/08/2021   \n",
      "...                     ...      ...                 ...             ...   \n",
      "207617          BATH AVENUE  11214.0               Pizza      11/29/2022   \n",
      "207824      FLATBUSH AVENUE  11234.0               Pizza      06/06/2022   \n",
      "207828        CHURCH AVENUE  11212.0               Pizza      03/21/2022   \n",
      "208342      ATLANTIC AVENUE  11201.0               Pizza      12/13/2022   \n",
      "208412     MANHATTAN AVENUE  11222.0               Pizza      12/18/2018   \n",
      "\n",
      "                                                   ACTION VIOLATION CODE  \\\n",
      "241                     Establishment re-opened by DOHMH.            NaN   \n",
      "289     No violations were recorded at the time of thi...            NaN   \n",
      "410       Violations were cited in the following area(s).            02B   \n",
      "513       Violations were cited in the following area(s).            02B   \n",
      "770       Violations were cited in the following area(s).            09C   \n",
      "...                                                   ...            ...   \n",
      "207617    Violations were cited in the following area(s).            06A   \n",
      "207824    Violations were cited in the following area(s).            10F   \n",
      "207828    Violations were cited in the following area(s).            08C   \n",
      "208342    Violations were cited in the following area(s).            02G   \n",
      "208412    Violations were cited in the following area(s).            10F   \n",
      "\n",
      "                                    VIOLATION DESCRIPTION   CRITICAL FLAG  \\\n",
      "241                                                   NaN  Not Applicable   \n",
      "289                                                   NaN  Not Applicable   \n",
      "410            Hot food item not held at or above 140º F.        Critical   \n",
      "513        Hot TCS food item not held at or above 140 °F.        Critical   \n",
      "770         Food contact surface not properly maintained.    Not Critical   \n",
      "...                                                   ...             ...   \n",
      "207617  Personal cleanliness is inadequate. Outer garm...        Critical   \n",
      "207824  Non-food contact surface improperly constructe...    Not Critical   \n",
      "207828  Pesticide use not in accordance with label or ...    Not Critical   \n",
      "208342  Cold TCS food item held above 41 °F; smoked or...        Critical   \n",
      "208412  Non-food contact surface improperly constructe...    Not Critical   \n",
      "\n",
      "        SCORE GRADE  GRADE DATE  \\\n",
      "241       0.0     P  09/29/2022   \n",
      "289       0.0     A  01/25/2017   \n",
      "410      12.0     A  03/02/2022   \n",
      "513      12.0     A  01/25/2023   \n",
      "770      13.0     A  09/08/2021   \n",
      "...       ...   ...         ...   \n",
      "207617   37.0     C  11/29/2022   \n",
      "207824    5.0     A  06/06/2022   \n",
      "207828   12.0     A  03/21/2022   \n",
      "208342   13.0     A  12/13/2022   \n",
      "208412   13.0     A  12/18/2018   \n",
      "\n",
      "                                        INSPECTION TYPE   Latitude  Longitude  \\\n",
      "241     Pre-permit (Operational) / Reopening Inspection  40.596553 -73.977102   \n",
      "289               Cycle Inspection / Initial Inspection  40.683447 -73.975691   \n",
      "410                    Cycle Inspection / Re-inspection  40.714067 -73.955617   \n",
      "513       Pre-permit (Operational) / Initial Inspection  40.681056 -73.975270   \n",
      "770               Cycle Inspection / Initial Inspection  40.689698 -73.985951   \n",
      "...                                                 ...        ...        ...   \n",
      "207617                 Cycle Inspection / Re-inspection  40.604257 -74.006806   \n",
      "207824            Cycle Inspection / Initial Inspection  40.621627 -73.935837   \n",
      "207828            Cycle Inspection / Initial Inspection  40.655213 -73.916181   \n",
      "208342            Cycle Inspection / Initial Inspection  40.690413 -73.994981   \n",
      "208412                 Cycle Inspection / Re-inspection  40.729909 -73.954141   \n",
      "\n",
      "        Council District  \n",
      "241                 43.0  \n",
      "289                 35.0  \n",
      "410                 34.0  \n",
      "513                 35.0  \n",
      "770                 33.0  \n",
      "...                  ...  \n",
      "207617              47.0  \n",
      "207824              45.0  \n",
      "207828              42.0  \n",
      "208342              33.0  \n",
      "208412              33.0  \n",
      "\n",
      "[1575 rows x 19 columns]\n"
     ]
    }
   ],
   "source": [
    "# Taking a look at Brooklyn pizza restaurants in inspection data\n",
    "print(pizza_brooklyn_subset)"
   ]
  },
  {
   "cell_type": "code",
   "execution_count": 10,
   "id": "d3726a07",
   "metadata": {},
   "outputs": [],
   "source": [
    "# Making the names of the restaurants in both data sets compatable for the merge\n",
    "column_name = 'name'\n",
    "ydf['name'] = ydf['name'].apply(lambda x: str(x).upper())"
   ]
  },
  {
   "cell_type": "code",
   "execution_count": 11,
   "id": "97f9f056",
   "metadata": {
    "scrolled": false
   },
   "outputs": [
    {
     "name": "stdout",
     "output_type": "stream",
     "text": [
      "\n",
      "Merged DataFrame:\n",
      "        CAMIS               DBA      BORO BUILDING             STREET  \\\n",
      "0    50127840  PAPA JOHNS PIZZA  Brooklyn      189           AVENUE U   \n",
      "1    50127840  PAPA JOHNS PIZZA  Brooklyn      189           AVENUE U   \n",
      "2    50127840  PAPA JOHNS PIZZA  Brooklyn      189           AVENUE U   \n",
      "3    50127840  PAPA JOHNS PIZZA  Brooklyn      189           AVENUE U   \n",
      "4    50127840  PAPA JOHNS PIZZA  Brooklyn      189           AVENUE U   \n",
      "..        ...               ...       ...      ...                ...   \n",
      "503  50056980           FAZIO'S  Brooklyn      709  KNICKERBOCKER AVE   \n",
      "504  50079182      PIZZA SECRET  Brooklyn       72           5 AVENUE   \n",
      "505  50079182      PIZZA SECRET  Brooklyn       72           5 AVENUE   \n",
      "506  50127169      NORM'S PIZZA  Brooklyn      388           7 AVENUE   \n",
      "507  50000967           WHEATED  Brooklyn      905      CHURCH AVENUE   \n",
      "\n",
      "     ZIPCODE CUISINE DESCRIPTION INSPECTION DATE  \\\n",
      "0    11223.0               Pizza      09/29/2022   \n",
      "1    11223.0               Pizza      09/29/2022   \n",
      "2    11223.0               Pizza      09/29/2022   \n",
      "3    11223.0               Pizza      12/19/2022   \n",
      "4    11223.0               Pizza      12/19/2022   \n",
      "..       ...                 ...             ...   \n",
      "503  11221.0               Pizza      08/05/2021   \n",
      "504  11217.0               Pizza      02/18/2022   \n",
      "505  11217.0               Pizza      02/18/2022   \n",
      "506  11215.0               Pizza      08/01/2023   \n",
      "507  11218.0               Pizza      02/23/2023   \n",
      "\n",
      "                                              ACTION VIOLATION CODE  ...  \\\n",
      "0                  Establishment re-opened by DOHMH.            NaN  ...   \n",
      "1                  Establishment re-opened by DOHMH.            NaN  ...   \n",
      "2                  Establishment re-opened by DOHMH.            NaN  ...   \n",
      "3    Violations were cited in the following area(s).            10F  ...   \n",
      "4    Violations were cited in the following area(s).            10F  ...   \n",
      "..                                               ...            ...  ...   \n",
      "503  Violations were cited in the following area(s).            10F  ...   \n",
      "504  Violations were cited in the following area(s).            06D  ...   \n",
      "505  Violations were cited in the following area(s).            02B  ...   \n",
      "506  Violations were cited in the following area(s).            04A  ...   \n",
      "507  Violations were cited in the following area(s).            06B  ...   \n",
      "\n",
      "                 name                                          image_url  \\\n",
      "0    PAPA JOHNS PIZZA  https://s3-media2.fl.yelpcdn.com/bphoto/T_OC_H...   \n",
      "1    PAPA JOHNS PIZZA  https://s3-media2.fl.yelpcdn.com/bphoto/T_OC_H...   \n",
      "2    PAPA JOHNS PIZZA  https://s3-media1.fl.yelpcdn.com/bphoto/6sXA1h...   \n",
      "3    PAPA JOHNS PIZZA  https://s3-media2.fl.yelpcdn.com/bphoto/T_OC_H...   \n",
      "4    PAPA JOHNS PIZZA  https://s3-media2.fl.yelpcdn.com/bphoto/T_OC_H...   \n",
      "..                ...                                                ...   \n",
      "503           FAZIO'S  https://s3-media1.fl.yelpcdn.com/bphoto/B4ZK4a...   \n",
      "504      PIZZA SECRET  https://s3-media3.fl.yelpcdn.com/bphoto/TlfSUQ...   \n",
      "505      PIZZA SECRET  https://s3-media3.fl.yelpcdn.com/bphoto/TlfSUQ...   \n",
      "506      NORM'S PIZZA  https://s3-media1.fl.yelpcdn.com/bphoto/Fub8ni...   \n",
      "507           WHEATED  https://s3-media1.fl.yelpcdn.com/bphoto/nGlPNp...   \n",
      "\n",
      "                                                   url review_count  \\\n",
      "0    https://www.yelp.com/biz/papa-johns-pizza-broo...           66   \n",
      "1    https://www.yelp.com/biz/papa-johns-pizza-broo...           66   \n",
      "2    https://www.yelp.com/biz/papa-johns-pizza-broo...          113   \n",
      "3    https://www.yelp.com/biz/papa-johns-pizza-broo...           66   \n",
      "4    https://www.yelp.com/biz/papa-johns-pizza-broo...           66   \n",
      "..                                                 ...          ...   \n",
      "503  https://www.yelp.com/biz/fazios-brooklyn?adjus...          215   \n",
      "504  https://www.yelp.com/biz/pizza-secret-brooklyn...          272   \n",
      "505  https://www.yelp.com/biz/pizza-secret-brooklyn...          272   \n",
      "506  https://www.yelp.com/biz/norms-pizza-brooklyn?...          114   \n",
      "507  https://www.yelp.com/biz/wheated-brooklyn?adju...          398   \n",
      "\n",
      "                                            categories rating  \\\n",
      "0    [{'alias': 'pizza', 'title': 'Pizza'}, {'alias...    2.0   \n",
      "1    [{'alias': 'pizza', 'title': 'Pizza'}, {'alias...    2.0   \n",
      "2    [{'alias': 'pizza', 'title': 'Pizza'}, {'alias...    1.5   \n",
      "3    [{'alias': 'pizza', 'title': 'Pizza'}, {'alias...    2.0   \n",
      "4    [{'alias': 'pizza', 'title': 'Pizza'}, {'alias...    2.0   \n",
      "..                                                 ...    ...   \n",
      "503  [{'alias': 'pizza', 'title': 'Pizza'}, {'alias...    4.5   \n",
      "504  [{'alias': 'italian', 'title': 'Italian'}, {'a...    4.0   \n",
      "505  [{'alias': 'italian', 'title': 'Italian'}, {'a...    4.0   \n",
      "506             [{'alias': 'pizza', 'title': 'Pizza'}]    4.0   \n",
      "507  [{'alias': 'pizza', 'title': 'Pizza'}, {'alias...    4.5   \n",
      "\n",
      "                                           coordinates  \\\n",
      "0    {'latitude': 40.71109370496466, 'longitude': -...   \n",
      "1    {'latitude': 40.71109370496466, 'longitude': -...   \n",
      "2    {'latitude': 40.6959311, 'longitude': -73.9331...   \n",
      "3    {'latitude': 40.71109370496466, 'longitude': -...   \n",
      "4    {'latitude': 40.71109370496466, 'longitude': -...   \n",
      "..                                                 ...   \n",
      "503     {'latitude': 40.69442, 'longitude': -73.91039}   \n",
      "504      {'latitude': 40.6808, 'longitude': -73.97764}   \n",
      "505      {'latitude': 40.6808, 'longitude': -73.97764}   \n",
      "506  {'latitude': 40.6926244183216, 'longitude': -7...   \n",
      "507  {'latitude': 40.6465968960541, 'longitude': -7...   \n",
      "\n",
      "               transactions  \\\n",
      "0    ['delivery', 'pickup']   \n",
      "1    ['delivery', 'pickup']   \n",
      "2    ['pickup', 'delivery']   \n",
      "3    ['delivery', 'pickup']   \n",
      "4    ['delivery', 'pickup']   \n",
      "..                      ...   \n",
      "503  ['delivery', 'pickup']   \n",
      "504  ['delivery', 'pickup']   \n",
      "505  ['delivery', 'pickup']   \n",
      "506  ['delivery', 'pickup']   \n",
      "507            ['delivery']   \n",
      "\n",
      "                                              location _merge  \n",
      "0    {'address1': '604 Grand St', 'address2': None,...   both  \n",
      "1    {'address1': '604 Grand St', 'address2': None,...   both  \n",
      "2    {'address1': '1011 Broadway', 'address2': '', ...   both  \n",
      "3    {'address1': '604 Grand St', 'address2': None,...   both  \n",
      "4    {'address1': '604 Grand St', 'address2': None,...   both  \n",
      "..                                                 ...    ...  \n",
      "503  {'address1': '709 Knickerbocker Ave', 'address...   both  \n",
      "504  {'address1': '72 5th Ave', 'address2': '', 'ad...   both  \n",
      "505  {'address1': '72 5th Ave', 'address2': '', 'ad...   both  \n",
      "506  {'address1': '345 Adams St', 'address2': '', '...   both  \n",
      "507  {'address1': '905 Church Ave', 'address2': '',...   both  \n",
      "\n",
      "[508 rows x 30 columns]\n"
     ]
    }
   ],
   "source": [
    "# Mergeing the two data sets on the names of the restaurants \n",
    "merged_df = pd.merge(pizza_brooklyn_subset, ydf, left_on='DBA', right_on='name', how='inner', indicator=True)\n",
    "\n",
    "# Displaying the merged dataframe\n",
    "print(\"\\nMerged DataFrame:\")\n",
    "print(merged_df)"
   ]
  },
  {
   "cell_type": "code",
   "execution_count": 12,
   "id": "54a74563",
   "metadata": {},
   "outputs": [
    {
     "data": {
      "text/plain": [
       "12.0    90\n",
       "13.0    80\n",
       "27.0    41\n",
       "64.0    40\n",
       "10.0    38\n",
       "9.0     31\n",
       "18.0    30\n",
       "7.0     20\n",
       "0.0     17\n",
       "11.0    17\n",
       "6.0     14\n",
       "2.0     14\n",
       "3.0     12\n",
       "5.0     10\n",
       "24.0     8\n",
       "16.0     8\n",
       "8.0      7\n",
       "4.0      7\n",
       "21.0     6\n",
       "37.0     5\n",
       "23.0     4\n",
       "20.0     3\n",
       "19.0     3\n",
       "22.0     3\n",
       "Name: SCORE, dtype: int64"
      ]
     },
     "execution_count": 12,
     "metadata": {},
     "output_type": "execute_result"
    }
   ],
   "source": [
    "merged_df['SCORE'].value_counts()"
   ]
  },
  {
   "cell_type": "code",
   "execution_count": 13,
   "id": "a51c959e",
   "metadata": {
    "scrolled": true
   },
   "outputs": [
    {
     "data": {
      "text/plain": [
       "A    331\n",
       "B    102\n",
       "Z     52\n",
       "C     11\n",
       "P      8\n",
       "N      4\n",
       "Name: GRADE, dtype: int64"
      ]
     },
     "execution_count": 13,
     "metadata": {},
     "output_type": "execute_result"
    }
   ],
   "source": [
    "merged_df['GRADE'].value_counts()"
   ]
  },
  {
   "cell_type": "code",
   "execution_count": 14,
   "id": "ff6f127f",
   "metadata": {},
   "outputs": [],
   "source": [
    "# Remove rows with 'N', 'Z', and 'P' in the 'GRADE' column\n",
    "# These letters signify: N = Not Yet Graded, Z = Grade Pending,\n",
    "# P= Grade Pending issued on re-opening following an initial inspection that resulted in a closure\n",
    "#merged_df = merged_df[~merged_df['GRADE'].isin(['N', 'Z', 'P'])]"
   ]
  },
  {
   "cell_type": "markdown",
   "id": "4c709ae4",
   "metadata": {},
   "source": [
    "## **Hypothesis Testing**"
   ]
  },
  {
   "cell_type": "markdown",
   "id": "6c654995",
   "metadata": {},
   "source": [
    "# **Hypothesis Test 1:Try to find a correlation between scores on inspections and the ratings on YELP**"
   ]
  },
  {
   "cell_type": "markdown",
   "id": "5850570c",
   "metadata": {},
   "source": [
    "- The null hypothesis for this question would be that the restaurant inspection score/grade does not significantly affect the rating/reviews on Yelp for pizza restaurants in Brooklyn NY"
   ]
  },
  {
   "cell_type": "markdown",
   "id": "b623cd84",
   "metadata": {},
   "source": [
    "- The alternative hypothesis for this question would be that the restaurant inspection score/grade does significantly affect the rating/ reviews on Yelp for the pizza restaurants in Brooklyn NY."
   ]
  },
  {
   "cell_type": "code",
   "execution_count": 15,
   "id": "36d1a2b4",
   "metadata": {},
   "outputs": [
    {
     "name": "stdout",
     "output_type": "stream",
     "text": [
      "Correlation: 0.15\n",
      "P-value: 0.0007\n",
      "The correlation is statistically significant.\n"
     ]
    }
   ],
   "source": [
    "# Perform Pearson correlation test\n",
    "correlation, p_value = pearsonr(merged_df['SCORE'], merged_df['rating'])\n",
    "\n",
    "# Print results\n",
    "print(f'Correlation: {correlation:.2f}')\n",
    "print(f'P-value: {p_value:.4f}')\n",
    "\n",
    "# Check for significance based on the p-value\n",
    "if p_value < 0.05:\n",
    "    print('The correlation is statistically significant.')\n",
    "else:\n",
    "    print('There is no significant correlation.')"
   ]
  },
  {
   "cell_type": "code",
   "execution_count": 16,
   "id": "64a69a9a",
   "metadata": {
    "scrolled": true
   },
   "outputs": [
    {
     "data": {
      "image/png": "[encoded data removed]",
      "text/plain": [
       "<Figure size 640x480 with 1 Axes>"
      ]
     },
     "metadata": {},
     "output_type": "display_data"
    }
   ],
   "source": [
    "# Visualizing the correlation between \n",
    "sns.scatterplot(x=merged_df['SCORE'], y=merged_df['rating'])\n",
    "plt.title('Scatter Plot of Inspection Scores vs. Yelp Ratings')\n",
    "plt.xlabel('Inspection Scores')\n",
    "plt.ylabel('Yelp Ratings')\n",
    "plt.show()"
   ]
  },
  {
   "cell_type": "markdown",
   "id": "0f01b6c1",
   "metadata": {},
   "source": [
    "## **Hypothesis Test 2:Try to find correlation between the inspections grades and the ratings on Yelp data**"
   ]
  },
  {
   "cell_type": "code",
   "execution_count": 17,
   "id": "7f690275",
   "metadata": {
    "scrolled": true
   },
   "outputs": [],
   "source": [
    "# save list of columns needed for each group\n",
    "#needed_col = ['GRADE', 'rating']\n",
    "\n",
    "#merged_df[needed_col]"
   ]
  },
  {
   "cell_type": "code",
   "execution_count": 18,
   "id": "e7776517",
   "metadata": {
    "scrolled": true
   },
   "outputs": [
    {
     "data": {
      "text/plain": [
       "4.0    212\n",
       "3.5    186\n",
       "4.5     48\n",
       "3.0     40\n",
       "2.0     13\n",
       "5.0      5\n",
       "1.5      4\n",
       "Name: rating, dtype: int64"
      ]
     },
     "execution_count": 18,
     "metadata": {},
     "output_type": "execute_result"
    }
   ],
   "source": [
    "merged_df['rating'].value_counts()"
   ]
  },
  {
   "cell_type": "code",
   "execution_count": 19,
   "id": "9539e12c",
   "metadata": {
    "scrolled": true
   },
   "outputs": [
    {
     "data": {
      "text/plain": [
       "A    331\n",
       "B    102\n",
       "Z     52\n",
       "C     11\n",
       "P      8\n",
       "N      4\n",
       "Name: GRADE, dtype: int64"
      ]
     },
     "execution_count": 19,
     "metadata": {},
     "output_type": "execute_result"
    }
   ],
   "source": [
    "merged_df['GRADE'].value_counts()"
   ]
  },
  {
   "cell_type": "code",
   "execution_count": 22,
   "id": "1ace50d7",
   "metadata": {
    "scrolled": true
   },
   "outputs": [
    {
     "name": "stdout",
     "output_type": "stream",
     "text": [
      "Number of non-null values in 'GRADE': 0\n",
      "Number of non-null values in 'rating': 0\n"
     ]
    }
   ],
   "source": [
    "print(\"Number of non-null values in 'GRADE':\", merged_df['GRADE'].count())\n",
    "print(\"Number of non-null values in 'rating':\", merged_df['rating'].count())\n"
   ]
  },
  {
   "cell_type": "code",
   "execution_count": 25,
   "id": "2434e6b4",
   "metadata": {},
   "outputs": [
    {
     "data": {
      "image/png": "[encoded data removed]",
      "text/plain": [
       "<Figure size 1200x600 with 1 Axes>"
      ]
     },
     "metadata": {},
     "output_type": "display_data"
    }
   ],
   "source": [
    "plt.figure(figsize=(12, 6))\n",
    "sns.scatterplot(x='GRADE', y='rating', data=merged_df, alpha=0.5)\n",
    "plt.title('Scatter Plot of Grade vs. Rating')\n",
    "plt.xlabel('Grade')\n",
    "plt.ylabel('Rating')\n",
    "plt.show()"
   ]
  },
  {
   "cell_type": "code",
   "execution_count": 21,
   "id": "f4c791cd",
   "metadata": {},
   "outputs": [
    {
     "name": "stdout",
     "output_type": "stream",
     "text": [
      "Not enough data points to perform the correlation test.\n"
     ]
    }
   ],
   "source": [
    "# Drop rows with NaN values if needed\n",
    "merged_df = merged_df.dropna(subset=['GRADE'])\n",
    "\n",
    "# Converting the Grade to numeric type\n",
    "merged_df['GRADE'] = pd.to_numeric(merged_df['GRADE'], errors='coerce')\n",
    "\n",
    "# Drop rows with infinite and NaN values in the 'rating' column\n",
    "merged_df = merged_df.replace([np.inf, -np.inf], np.nan).dropna(subset=['rating'])\n",
    "\n",
    "# Perform Pearson correlation test\n",
    "if len(merged_df['GRADE']) < 2 or len(merged_df['rating']) < 2:\n",
    "    print(\"Not enough data points to perform the correlation test.\")\n",
    "else:\n",
    "    # Perform Pearson correlation test\n",
    "    correlation, p_value = pearsonr(merged_df['GRADE'], merged_df['rating'])\n",
    "\n",
    "    # Print results\n",
    "    print(f'Correlation: {correlation:.2f}')\n",
    "    print(f'P-value: {p_value:.4f}')\n",
    "\n",
    "    # Check for significance based on the p-value\n",
    "    if p_value < 0.05:\n",
    "        print('The correlation is statistically significant.')\n",
    "    else:\n",
    "        print('There is no significant correlation.')\n"
   ]
  },
  {
   "cell_type": "code",
   "execution_count": null,
   "id": "ad25c115",
   "metadata": {},
   "outputs": [],
   "source": []
  },
  {
   "cell_type": "code",
   "execution_count": null,
   "id": "03cbe811",
   "metadata": {},
   "outputs": [],
   "source": []
  },
  {
   "cell_type": "code",
   "execution_count": null,
   "id": "9e88e506",
   "metadata": {},
   "outputs": [],
   "source": []
  },
  {
   "cell_type": "markdown",
   "id": "26d32f79",
   "metadata": {},
   "source": [
    "## **Feature Engineering**"
   ]
  },
  {
   "cell_type": "markdown",
   "id": "93ad2fc7",
   "metadata": {},
   "source": [
    "- Find out if there is a significant correlation between certain violations for certain restaurant types of specific areas/boros.\n",
    "\n",
    "- Most common violations for each restaurant type and each set of chains if applicable for each boro.\n",
    "\n",
    "- Do corporate restaurants or privately owned places get better scores/grades? What are the most common violations that cost the most points on the inspections.\n",
    "\n",
    "- Construct predictive models to predict when initial and re-inspections are going to happen\n",
    "\n",
    "- Construct predictive models to predict which restaurants will pass/fail inspections.\n",
    "\n",
    "- Find out if there is correlation between a higher score/grade causing a restaurant to recive an overall better score on yelp. Look at the comparison between the results for coporate and privately owned places."
   ]
  },
  {
   "cell_type": "code",
   "execution_count": null,
   "id": "91d257ea",
   "metadata": {},
   "outputs": [],
   "source": []
  },
  {
   "cell_type": "code",
   "execution_count": null,
   "id": "0af59f6d",
   "metadata": {},
   "outputs": [],
   "source": []
  },
  {
   "cell_type": "code",
   "execution_count": null,
   "id": "358726ff",
   "metadata": {},
   "outputs": [],
   "source": []
  },
  {
   "cell_type": "code",
   "execution_count": null,
   "id": "ff775f89",
   "metadata": {},
   "outputs": [],
   "source": []
  },
  {
   "cell_type": "code",
   "execution_count": null,
   "id": "b329da43",
   "metadata": {},
   "outputs": [],
   "source": []
  },
  {
   "cell_type": "code",
   "execution_count": null,
   "id": "aaeb7d93",
   "metadata": {},
   "outputs": [],
   "source": []
  },
  {
   "cell_type": "markdown",
   "id": "19c979ab",
   "metadata": {},
   "source": [
    "## **Test weather there is a coorelation between average price per meal and inspection scores**"
   ]
  },
  {
   "cell_type": "code",
   "execution_count": null,
   "id": "1c0e8297",
   "metadata": {},
   "outputs": [],
   "source": []
  },
  {
   "cell_type": "code",
   "execution_count": null,
   "id": "106af841",
   "metadata": {},
   "outputs": [],
   "source": []
  },
  {
   "cell_type": "code",
   "execution_count": null,
   "id": "4dd2aa7a",
   "metadata": {},
   "outputs": [],
   "source": []
  }
 ],
 "metadata": {
  "kernelspec": {
   "display_name": "Python (dojo-env)",
   "language": "python",
   "name": "dojo-env"
  },
  "language_info": {
   "codemirror_mode": {
    "name": "ipython",
    "version": 3
   },
   "file_extension": ".py",
   "mimetype": "text/x-python",
   "name": "python",
   "nbconvert_exporter": "python",
   "pygments_lexer": "ipython3",
   "version": "3.9.15"
  },
  "toc": {
   "base_numbering": 1,
   "nav_menu": {},
   "number_sections": false,
   "sideBar": true,
   "skip_h1_title": false,
   "title_cell": "Table of Contents",
   "title_sidebar": "Contents",
   "toc_cell": false,
   "toc_position": {},
   "toc_section_display": true,
   "toc_window_display": false
  }
 },
 "nbformat": 4,
 "nbformat_minor": 5
}
