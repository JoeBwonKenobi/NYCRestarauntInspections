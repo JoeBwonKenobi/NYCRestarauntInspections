{
 "cells": [
  {
   "cell_type": "markdown",
   "id": "49585a54",
   "metadata": {},
   "source": [
    "# **Hypothesis Testing**"
   ]
  },
  {
   "cell_type": "markdown",
   "id": "f740e049",
   "metadata": {},
   "source": [
    "Joseph Lardie\n",
    "\n",
    "September 2023"
   ]
  },
  {
   "cell_type": "markdown",
   "id": "e8c6c782",
   "metadata": {},
   "source": [
    "# **Imports**"
   ]
  },
  {
   "cell_type": "code",
   "execution_count": null,
   "id": "eec33c3d",
   "metadata": {},
   "outputs": [],
   "source": [
    "#Numpy\n",
    "import numpy as np\n",
    "\n",
    "#Pandas\n",
    "import pandas as pd\n",
    "\n",
    "#Seaborn\n",
    "import seaborn as sns\n",
    "\n",
    "#matplotlib\n",
    "import matplotlib.pyplot as plt\n",
    "import plotly\n",
    "\n",
    "\n",
    "#Sklearn preprocessing\n",
    "from sklearn import preprocessing,set_config\n",
    "from sklearn.preprocessing import OrdinalEncoder, OneHotEncoder,StandardScaler,LabelEncoder\n",
    "\n",
    "#Scipy\n",
    "from scipy import stats\n",
    "from scipy.stats import norm\n",
    "import statsmodels.api as sm\n",
    "\n",
    "\n",
    "#Sklearn Models\n",
    "from sklearn.model_selection import train_test_split, GridSearchCV\n",
    "from sklearn.impute import SimpleImputer\n",
    "from sklearn import preprocessing, set_config\n",
    "from sklearn.preprocessing import StandardScaler\n",
    "from sklearn.pipeline import Pipeline, make_pipeline\n",
    "from sklearn.impute import SimpleImputer\n",
    "from sklearn.compose import ColumnTransformer,make_column_selector,make_column_transformer\n",
    "from sklearn.linear_model import LogisticRegression\n",
    "import warnings\n",
    "from sklearn.decomposition import PCA\n",
    "\n",
    "warnings.filterwarnings(\"ignore\")\n",
    "set_config(display = 'diagram')"
   ]
  },
  {
   "cell_type": "markdown",
   "id": "b7580379",
   "metadata": {},
   "source": [
    "# **Predicting Which restaurants will get violation**"
   ]
  },
  {
   "cell_type": "markdown",
   "id": "6c654995",
   "metadata": {},
   "source": [
    "# **Try to find a correlation between scores/grades and the ratings/reviews on YELP**"
   ]
  },
  {
   "cell_type": "markdown",
   "id": "26d32f79",
   "metadata": {},
   "source": [
    "Feature Engineering:\n",
    "\n",
    "If you want to include these rows in your analysis but don't want to predict future inspections, you can create a new binary feature (e.g., 'future_inspection') that indicates whether the inspection is in the future or not. This feature can help your machine learning model distinguish between past and future inspections."
   ]
  },
  {
   "cell_type": "code",
   "execution_count": null,
   "id": "4be5b29d",
   "metadata": {},
   "outputs": [],
   "source": []
  },
  {
   "cell_type": "code",
   "execution_count": null,
   "id": "0257338a",
   "metadata": {},
   "outputs": [],
   "source": []
  },
  {
   "cell_type": "code",
   "execution_count": null,
   "id": "c0dc65d1",
   "metadata": {},
   "outputs": [],
   "source": []
  },
  {
   "cell_type": "code",
   "execution_count": null,
   "id": "f41928da",
   "metadata": {},
   "outputs": [],
   "source": []
  },
  {
   "cell_type": "code",
   "execution_count": null,
   "id": "ef4865c4",
   "metadata": {},
   "outputs": [],
   "source": []
  },
  {
   "cell_type": "code",
   "execution_count": null,
   "id": "1c0e8297",
   "metadata": {},
   "outputs": [],
   "source": []
  },
  {
   "cell_type": "code",
   "execution_count": null,
   "id": "106af841",
   "metadata": {},
   "outputs": [],
   "source": []
  },
  {
   "cell_type": "code",
   "execution_count": null,
   "id": "95d6f0a5",
   "metadata": {},
   "outputs": [],
   "source": []
  },
  {
   "cell_type": "code",
   "execution_count": null,
   "id": "ee318875",
   "metadata": {},
   "outputs": [],
   "source": []
  }
 ],
 "metadata": {
  "kernelspec": {
   "display_name": "Python (dojo-env)",
   "language": "python",
   "name": "dojo-env"
  },
  "language_info": {
   "codemirror_mode": {
    "name": "ipython",
    "version": 3
   },
   "file_extension": ".py",
   "mimetype": "text/x-python",
   "name": "python",
   "nbconvert_exporter": "python",
   "pygments_lexer": "ipython3",
   "version": "3.9.15"
  },
  "toc": {
   "base_numbering": 1,
   "nav_menu": {},
   "number_sections": false,
   "sideBar": true,
   "skip_h1_title": false,
   "title_cell": "Table of Contents",
   "title_sidebar": "Contents",
   "toc_cell": false,
   "toc_position": {},
   "toc_section_display": true,
   "toc_window_display": false
  }
 },
 "nbformat": 4,
 "nbformat_minor": 5
}
