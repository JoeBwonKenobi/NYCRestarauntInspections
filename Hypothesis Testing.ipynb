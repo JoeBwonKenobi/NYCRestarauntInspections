{
 "cells": [
  {
   "cell_type": "markdown",
   "id": "49585a54",
   "metadata": {},
   "source": [
    "# **Hypothesis Testing**"
   ]
  },
  {
   "cell_type": "markdown",
   "id": "f740e049",
   "metadata": {},
   "source": [
    "Joseph Lardie\n",
    "\n",
    "September 2023"
   ]
  },
  {
   "cell_type": "markdown",
   "id": "e8c6c782",
   "metadata": {},
   "source": [
    "# **Imports**"
   ]
  },
  {
   "cell_type": "code",
   "execution_count": 1,
   "id": "eec33c3d",
   "metadata": {},
   "outputs": [],
   "source": [
    "# Numpy\n",
    "import numpy as np\n",
    "\n",
    "# Pandas\n",
    "import pandas as pd\n",
    "\n",
    "# Seaborn\n",
    "import seaborn as sns\n",
    "\n",
    "# matplotlib\n",
    "import matplotlib.pyplot as plt\n",
    "import plotly\n",
    "\n",
    "# Scipy\n",
    "from scipy import stats\n",
    "from scipy.stats import norm, pearsonr\n",
    "import statsmodels.api as sm\n",
    "\n",
    "# Warnings\n",
    "import warnings\n",
    "warnings.filterwarnings(\"ignore\")"
   ]
  },
  {
   "cell_type": "markdown",
   "id": "1c05c26d",
   "metadata": {},
   "source": [
    "## **Loading in datasets**"
   ]
  },
  {
   "cell_type": "code",
   "execution_count": 2,
   "id": "00355b65",
   "metadata": {},
   "outputs": [],
   "source": [
    "# Loading NYC Restaraunt Inspection Data\n",
    "rdf = pd.read_csv('rdf')"
   ]
  },
  {
   "cell_type": "code",
   "execution_count": 3,
   "id": "c0b74613",
   "metadata": {},
   "outputs": [],
   "source": [
    "# Loading NYC Restaraunt Yelp Review Data\n",
    "ydf = pd.read_csv('ydf')"
   ]
  },
  {
   "cell_type": "code",
   "execution_count": 4,
   "id": "c90e5cd1",
   "metadata": {},
   "outputs": [
    {
     "name": "stdout",
     "output_type": "stream",
     "text": [
      "<class 'pandas.core.frame.DataFrame'>\n",
      "RangeIndex: 209789 entries, 0 to 209788\n",
      "Data columns (total 19 columns):\n",
      " #   Column                 Non-Null Count   Dtype  \n",
      "---  ------                 --------------   -----  \n",
      " 0   CAMIS                  209789 non-null  int64  \n",
      " 1   DBA                    209165 non-null  object \n",
      " 2   BORO                   209789 non-null  object \n",
      " 3   BUILDING               209481 non-null  object \n",
      " 4   STREET                 209783 non-null  object \n",
      " 5   ZIPCODE                207093 non-null  float64\n",
      " 6   CUISINE DESCRIPTION    207365 non-null  object \n",
      " 7   INSPECTION DATE        209789 non-null  object \n",
      " 8   ACTION                 207365 non-null  object \n",
      " 9   VIOLATION CODE         206208 non-null  object \n",
      " 10  VIOLATION DESCRIPTION  206208 non-null  object \n",
      " 11  CRITICAL FLAG          209789 non-null  object \n",
      " 12  SCORE                  199793 non-null  float64\n",
      " 13  GRADE                  102961 non-null  object \n",
      " 14  GRADE DATE             94208 non-null   object \n",
      " 15  INSPECTION TYPE        207365 non-null  object \n",
      " 16  Latitude               209512 non-null  float64\n",
      " 17  Longitude              209512 non-null  float64\n",
      " 18  Council District       206549 non-null  float64\n",
      "dtypes: float64(5), int64(1), object(13)\n",
      "memory usage: 30.4+ MB\n"
     ]
    }
   ],
   "source": [
    "# Restaurant Inspection data\n",
    "rdf.info()"
   ]
  },
  {
   "cell_type": "code",
   "execution_count": 5,
   "id": "60b34b3d",
   "metadata": {
    "scrolled": true
   },
   "outputs": [
    {
     "name": "stdout",
     "output_type": "stream",
     "text": [
      "<class 'pandas.core.frame.DataFrame'>\n",
      "RangeIndex: 847 entries, 0 to 846\n",
      "Data columns (total 10 columns):\n",
      " #   Column        Non-Null Count  Dtype  \n",
      "---  ------        --------------  -----  \n",
      " 0   alias         847 non-null    object \n",
      " 1   name          847 non-null    object \n",
      " 2   image_url     847 non-null    object \n",
      " 3   url           847 non-null    object \n",
      " 4   review_count  847 non-null    int64  \n",
      " 5   categories    847 non-null    object \n",
      " 6   rating        847 non-null    float64\n",
      " 7   coordinates   847 non-null    object \n",
      " 8   transactions  847 non-null    object \n",
      " 9   location      847 non-null    object \n",
      "dtypes: float64(1), int64(1), object(8)\n",
      "memory usage: 66.3+ KB\n"
     ]
    }
   ],
   "source": [
    "# Yelp data\n",
    "ydf.info()"
   ]
  },
  {
   "cell_type": "markdown",
   "id": "7101e65a",
   "metadata": {},
   "source": [
    "## **Selecting Subset of Pizza Restaurants in Brooklyn**"
   ]
  },
  {
   "cell_type": "code",
   "execution_count": 6,
   "id": "af2d1ae7",
   "metadata": {},
   "outputs": [],
   "source": [
    "# Selecting subset of only restaurants from Brooklyn\n",
    "brooklyndf = rdf[rdf['BORO'].str.lower() == 'brooklyn']"
   ]
  },
  {
   "cell_type": "code",
   "execution_count": 7,
   "id": "0e9e2684",
   "metadata": {},
   "outputs": [],
   "source": [
    "# Selecting subset of only restaurants in Brooklyn that have pizza in the cuisine description\n",
    "pizza_brooklyn_subset = brooklyndf[(brooklyndf['CUISINE DESCRIPTION'].str.lower() == 'pizza')]"
   ]
  },
  {
   "cell_type": "code",
   "execution_count": 8,
   "id": "72eac95d",
   "metadata": {},
   "outputs": [],
   "source": [
    "# Filtering out rows with NaN in the 'GRADE' column\n",
    "pizza_brooklyn_subset = pizza_brooklyn_subset.dropna(subset=['GRADE'])"
   ]
  },
  {
   "cell_type": "code",
   "execution_count": 9,
   "id": "d4c45f37",
   "metadata": {
    "scrolled": false
   },
   "outputs": [
    {
     "name": "stdout",
     "output_type": "stream",
     "text": [
      "           CAMIS                     DBA      BORO BUILDING  \\\n",
      "181     40616509               MONTY Q'S  Brooklyn      158   \n",
      "211     41675367            J-M PIZZA II  Brooklyn     1323   \n",
      "578     41296556        ENOTECA ON COURT  Brooklyn      347   \n",
      "668     50047483          LOVE AND DOUGH  Brooklyn       68   \n",
      "1002    50073372  PINO'S PIZZA AND GRILL  Brooklyn     2025   \n",
      "...          ...                     ...       ...      ...   \n",
      "208269  40396492      ROYAL KING'S PIZZA  Brooklyn     5211   \n",
      "208503  41674167            FRANKS PIZZA  Brooklyn     8025   \n",
      "209492  50033400        PALACE ON FULTON  Brooklyn     1882   \n",
      "209504  50140484           MUNDO'S PIZZA  Brooklyn       25   \n",
      "209771  50041320  A & L PIZZA RESTAURANT  Brooklyn     6024   \n",
      "\n",
      "                   STREET  ZIPCODE CUISINE DESCRIPTION INSPECTION DATE  \\\n",
      "181       MONTAGUE STREET  11201.0               Pizza      07/19/2022   \n",
      "211              AVENUE U  11229.0               Pizza      01/06/2022   \n",
      "578          COURT STREET  11231.0               Pizza      07/23/2021   \n",
      "668            JAY STREET  11201.0               Pizza      03/21/2022   \n",
      "1002          BATH AVENUE  11214.0               Pizza      10/20/2022   \n",
      "...                   ...      ...                 ...             ...   \n",
      "208269           5 AVENUE  11220.0               Pizza      01/10/2022   \n",
      "208503   FLATLANDS AVENUE  11236.0               Pizza      02/13/2023   \n",
      "209492      FULTON STREET  11233.0               Pizza      08/16/2022   \n",
      "209504  NORTH    5 STREET  11249.0               Pizza      11/20/2023   \n",
      "209771          18 AVENUE  11204.0               Pizza      01/25/2022   \n",
      "\n",
      "                                                 ACTION VIOLATION CODE  \\\n",
      "181     Violations were cited in the following area(s).            04M   \n",
      "211     Violations were cited in the following area(s).            02B   \n",
      "578     Violations were cited in the following area(s).            10J   \n",
      "668     Violations were cited in the following area(s).            10J   \n",
      "1002    Violations were cited in the following area(s).            09B   \n",
      "...                                                 ...            ...   \n",
      "208269  Violations were cited in the following area(s).            04K   \n",
      "208503  Violations were cited in the following area(s).            10F   \n",
      "209492                Establishment re-opened by DOHMH.            10F   \n",
      "209504  Violations were cited in the following area(s).            10G   \n",
      "209771  Violations were cited in the following area(s).            04M   \n",
      "\n",
      "                                    VIOLATION DESCRIPTION CRITICAL FLAG  \\\n",
      "181     Live roaches in facility's food or non-food area.      Critical   \n",
      "211            Hot food item not held at or above 140º F.      Critical   \n",
      "578                             Hand wash sign not posted  Not Critical   \n",
      "668                             Hand wash sign not posted  Not Critical   \n",
      "1002                          Thawing procedure improper.  Not Critical   \n",
      "...                                                   ...           ...   \n",
      "208269  Evidence of rats or live rats present in facil...      Critical   \n",
      "208503  Non-food contact surface or equipment made of ...  Not Critical   \n",
      "209492  Non-food contact surface or equipment made of ...  Not Critical   \n",
      "209504  Dishwashing and ware washing: Cleaning and san...  Not Critical   \n",
      "209771  Live roaches present in facility's food and/or...      Critical   \n",
      "\n",
      "        SCORE GRADE  GRADE DATE  \\\n",
      "181      10.0     A  07/19/2022   \n",
      "211      11.0     A  01/06/2022   \n",
      "578       7.0     A  07/23/2021   \n",
      "668       9.0     A  03/21/2022   \n",
      "1002     13.0     A  10/20/2022   \n",
      "...       ...   ...         ...   \n",
      "208269   12.0     A  01/10/2022   \n",
      "208503    3.0     A  02/13/2023   \n",
      "209492    2.0     Z  08/16/2022   \n",
      "209504   28.0     N         NaN   \n",
      "209771   10.0     A  01/25/2022   \n",
      "\n",
      "                                      INSPECTION TYPE   Latitude  Longitude  \\\n",
      "181             Cycle Inspection / Initial Inspection  40.694415 -73.992986   \n",
      "211                  Cycle Inspection / Re-inspection  40.598661 -73.957977   \n",
      "578             Cycle Inspection / Initial Inspection  40.682225 -73.995951   \n",
      "668                  Cycle Inspection / Re-inspection  40.702755 -73.986681   \n",
      "1002            Cycle Inspection / Initial Inspection  40.600886 -74.000731   \n",
      "...                                               ...        ...        ...   \n",
      "208269          Cycle Inspection / Initial Inspection  40.643850 -74.011603   \n",
      "208503               Cycle Inspection / Re-inspection  40.635668 -73.913039   \n",
      "209492        Cycle Inspection / Reopening Inspection  40.679000 -73.924263   \n",
      "209504  Pre-permit (Operational) / Initial Inspection  40.719348 -73.963088   \n",
      "209771               Cycle Inspection / Re-inspection  40.621831 -73.987453   \n",
      "\n",
      "        Council District  \n",
      "181                 33.0  \n",
      "211                 48.0  \n",
      "578                 39.0  \n",
      "668                 33.0  \n",
      "1002                43.0  \n",
      "...                  ...  \n",
      "208269              38.0  \n",
      "208503              46.0  \n",
      "209492              41.0  \n",
      "209504              33.0  \n",
      "209771              44.0  \n",
      "\n",
      "[1600 rows x 19 columns]\n"
     ]
    }
   ],
   "source": [
    "# Taking a look at Brooklyn pizza restaurants in inspection data\n",
    "print(pizza_brooklyn_subset)"
   ]
  },
  {
   "cell_type": "markdown",
   "id": "245b80e3",
   "metadata": {},
   "source": [
    "## **Merging Yelp data with Inspections Data**"
   ]
  },
  {
   "cell_type": "code",
   "execution_count": 10,
   "id": "d3726a07",
   "metadata": {},
   "outputs": [],
   "source": [
    "# Making the names of the restaurants in both data sets compatable for the merge\n",
    "column_name = 'name'\n",
    "# Matching up the names for both datasets\n",
    "ydf['name'] = ydf['name'].apply(lambda x: str(x).upper())"
   ]
  },
  {
   "cell_type": "code",
   "execution_count": 11,
   "id": "97f9f056",
   "metadata": {
    "scrolled": true
   },
   "outputs": [
    {
     "name": "stdout",
     "output_type": "stream",
     "text": [
      "\n",
      "Merged DataFrame:\n",
      "        CAMIS                          DBA      BORO BUILDING  \\\n",
      "0    40616509                    MONTY Q'S  Brooklyn      158   \n",
      "1    40616509                    MONTY Q'S  Brooklyn      158   \n",
      "2    40616509                    MONTY Q'S  Brooklyn      158   \n",
      "3    40616509                    MONTY Q'S  Brooklyn      158   \n",
      "4    40616509                    MONTY Q'S  Brooklyn      158   \n",
      "..        ...                          ...       ...      ...   \n",
      "510  40745618                 MIKE'S PIZZA  Brooklyn      905   \n",
      "512  40745618                 MIKE'S PIZZA  Brooklyn      905   \n",
      "513  50088788  L'ARTE DELLA PIZZA BROOKLYN  Brooklyn      172   \n",
      "514  50088788  L'ARTE DELLA PIZZA BROOKLYN  Brooklyn      172   \n",
      "515  50000967                      WHEATED  Brooklyn      905   \n",
      "\n",
      "              STREET  ZIPCODE CUISINE DESCRIPTION INSPECTION DATE  \\\n",
      "0    MONTAGUE STREET  11201.0               Pizza      07/19/2022   \n",
      "1    MONTAGUE STREET  11201.0               Pizza      07/19/2022   \n",
      "2    MONTAGUE STREET  11201.0               Pizza      10/30/2023   \n",
      "3    MONTAGUE STREET  11201.0               Pizza      10/30/2023   \n",
      "4    MONTAGUE STREET  11201.0               Pizza      07/26/2021   \n",
      "..               ...      ...                 ...             ...   \n",
      "510    MYRTLE AVENUE  11206.0               Pizza      09/01/2022   \n",
      "512    MYRTLE AVENUE  11206.0               Pizza      09/01/2022   \n",
      "513         5 AVENUE  11217.0               Pizza      11/18/2022   \n",
      "514         5 AVENUE  11217.0               Pizza      11/18/2022   \n",
      "515    CHURCH AVENUE  11218.0               Pizza      02/23/2023   \n",
      "\n",
      "                                              ACTION VIOLATION CODE  ...  \\\n",
      "0    Violations were cited in the following area(s).            04M  ...   \n",
      "1    Violations were cited in the following area(s).            08A  ...   \n",
      "2    Violations were cited in the following area(s).            10F  ...   \n",
      "3    Violations were cited in the following area(s).            08A  ...   \n",
      "4    Violations were cited in the following area(s).            02B  ...   \n",
      "..                                               ...            ...  ...   \n",
      "510  Violations were cited in the following area(s).            08A  ...   \n",
      "512  Violations were cited in the following area(s).            08A  ...   \n",
      "513  Violations were cited in the following area(s).            02B  ...   \n",
      "514  Violations were cited in the following area(s).            06C  ...   \n",
      "515  Violations were cited in the following area(s).            06B  ...   \n",
      "\n",
      "                            name  \\\n",
      "0                      MONTY Q'S   \n",
      "1                      MONTY Q'S   \n",
      "2                      MONTY Q'S   \n",
      "3                      MONTY Q'S   \n",
      "4                      MONTY Q'S   \n",
      "..                           ...   \n",
      "510                 MIKE'S PIZZA   \n",
      "512                 MIKE'S PIZZA   \n",
      "513  L'ARTE DELLA PIZZA BROOKLYN   \n",
      "514  L'ARTE DELLA PIZZA BROOKLYN   \n",
      "515                      WHEATED   \n",
      "\n",
      "                                             image_url  \\\n",
      "0    https://s3-media2.fl.yelpcdn.com/bphoto/Bse0Uf...   \n",
      "1    https://s3-media2.fl.yelpcdn.com/bphoto/Bse0Uf...   \n",
      "2    https://s3-media2.fl.yelpcdn.com/bphoto/Bse0Uf...   \n",
      "3    https://s3-media2.fl.yelpcdn.com/bphoto/Bse0Uf...   \n",
      "4    https://s3-media2.fl.yelpcdn.com/bphoto/Bse0Uf...   \n",
      "..                                                 ...   \n",
      "510  https://s3-media1.fl.yelpcdn.com/bphoto/fmyfeb...   \n",
      "512  https://s3-media3.fl.yelpcdn.com/bphoto/UyFGfF...   \n",
      "513  https://s3-media3.fl.yelpcdn.com/bphoto/0HWxlI...   \n",
      "514  https://s3-media3.fl.yelpcdn.com/bphoto/0HWxlI...   \n",
      "515  https://s3-media1.fl.yelpcdn.com/bphoto/nGlPNp...   \n",
      "\n",
      "                                                   url review_count  \\\n",
      "0    https://www.yelp.com/biz/monty-qs-brooklyn-2?a...          250   \n",
      "1    https://www.yelp.com/biz/monty-qs-brooklyn-2?a...          250   \n",
      "2    https://www.yelp.com/biz/monty-qs-brooklyn-2?a...          250   \n",
      "3    https://www.yelp.com/biz/monty-qs-brooklyn-2?a...          250   \n",
      "4    https://www.yelp.com/biz/monty-qs-brooklyn-2?a...          250   \n",
      "..                                                 ...          ...   \n",
      "510  https://www.yelp.com/biz/mikes-pizza-new-york?...          119   \n",
      "512  https://www.yelp.com/biz/mikes-pizza-brooklyn?...           87   \n",
      "513  https://www.yelp.com/biz/l-arte-della-pizza-br...           69   \n",
      "514  https://www.yelp.com/biz/l-arte-della-pizza-br...           69   \n",
      "515  https://www.yelp.com/biz/wheated-brooklyn?adju...          398   \n",
      "\n",
      "                                            categories rating  \\\n",
      "0    [{'alias': 'pizza', 'title': 'Pizza'}, {'alias...    3.0   \n",
      "1    [{'alias': 'pizza', 'title': 'Pizza'}, {'alias...    3.0   \n",
      "2    [{'alias': 'pizza', 'title': 'Pizza'}, {'alias...    3.0   \n",
      "3    [{'alias': 'pizza', 'title': 'Pizza'}, {'alias...    3.0   \n",
      "4    [{'alias': 'pizza', 'title': 'Pizza'}, {'alias...    3.0   \n",
      "..                                                 ...    ...   \n",
      "510             [{'alias': 'pizza', 'title': 'Pizza'}]    3.5   \n",
      "512             [{'alias': 'pizza', 'title': 'Pizza'}]    3.5   \n",
      "513  [{'alias': 'pizza', 'title': 'Pizza'}, {'alias...    4.0   \n",
      "514  [{'alias': 'pizza', 'title': 'Pizza'}, {'alias...    4.0   \n",
      "515  [{'alias': 'pizza', 'title': 'Pizza'}, {'alias...    4.5   \n",
      "\n",
      "                                           coordinates  \\\n",
      "0        {'latitude': 40.6942, 'longitude': -73.99299}   \n",
      "1        {'latitude': 40.6942, 'longitude': -73.99299}   \n",
      "2        {'latitude': 40.6942, 'longitude': -73.99299}   \n",
      "3        {'latitude': 40.6942, 'longitude': -73.99299}   \n",
      "4        {'latitude': 40.6942, 'longitude': -73.99299}   \n",
      "..                                                 ...   \n",
      "510  {'latitude': 40.73854944095284, 'longitude': -...   \n",
      "512  {'latitude': 40.655368, 'longitude': -73.9565781}   \n",
      "513   {'latitude': 40.677655, 'longitude': -73.979979}   \n",
      "514   {'latitude': 40.677655, 'longitude': -73.979979}   \n",
      "515  {'latitude': 40.6465968960541, 'longitude': -7...   \n",
      "\n",
      "               transactions  \\\n",
      "0    ['delivery', 'pickup']   \n",
      "1    ['delivery', 'pickup']   \n",
      "2    ['delivery', 'pickup']   \n",
      "3    ['delivery', 'pickup']   \n",
      "4    ['delivery', 'pickup']   \n",
      "..                      ...   \n",
      "510  ['delivery', 'pickup']   \n",
      "512  ['delivery', 'pickup']   \n",
      "513  ['delivery', 'pickup']   \n",
      "514  ['delivery', 'pickup']   \n",
      "515            ['delivery']   \n",
      "\n",
      "                                              location _merge  \n",
      "0    {'address1': '158 Montague St', 'address2': ''...   both  \n",
      "1    {'address1': '158 Montague St', 'address2': ''...   both  \n",
      "2    {'address1': '158 Montague St', 'address2': ''...   both  \n",
      "3    {'address1': '158 Montague St', 'address2': ''...   both  \n",
      "4    {'address1': '158 Montague St', 'address2': ''...   both  \n",
      "..                                                 ...    ...  \n",
      "510  {'address1': '415 2nd Ave', 'address2': '', 'a...   both  \n",
      "512  {'address1': '2026 Bedford Ave', 'address2': '...   both  \n",
      "513  {'address1': '172 5th Ave', 'address2': '', 'a...   both  \n",
      "514  {'address1': '172 5th Ave', 'address2': '', 'a...   both  \n",
      "515  {'address1': '905 Church Ave', 'address2': '',...   both  \n",
      "\n",
      "[502 rows x 30 columns]\n"
     ]
    }
   ],
   "source": [
    "# Merging the two data sets on the names of the restaurants \n",
    "merged_df = pd.merge(pizza_brooklyn_subset, ydf, left_on='DBA', right_on='name', how='inner', indicator=True)\n",
    "\n",
    "# Dropping any Duplicate rows\n",
    "merged_df.drop_duplicates(inplace=True)\n",
    "\n",
    "# Displaying the merged dataframe\n",
    "print(\"\\nMerged DataFrame:\")\n",
    "print(merged_df)"
   ]
  },
  {
   "cell_type": "code",
   "execution_count": 12,
   "id": "342cd159",
   "metadata": {
    "scrolled": false
   },
   "outputs": [
    {
     "data": {
      "text/html": [
       "<div>\n",
       "<style scoped>\n",
       "    .dataframe tbody tr th:only-of-type {\n",
       "        vertical-align: middle;\n",
       "    }\n",
       "\n",
       "    .dataframe tbody tr th {\n",
       "        vertical-align: top;\n",
       "    }\n",
       "\n",
       "    .dataframe thead th {\n",
       "        text-align: right;\n",
       "    }\n",
       "</style>\n",
       "<table border=\"1\" class=\"dataframe\">\n",
       "  <thead>\n",
       "    <tr style=\"text-align: right;\">\n",
       "      <th></th>\n",
       "      <th>CAMIS</th>\n",
       "      <th>DBA</th>\n",
       "      <th>BORO</th>\n",
       "      <th>BUILDING</th>\n",
       "      <th>STREET</th>\n",
       "      <th>ZIPCODE</th>\n",
       "      <th>CUISINE DESCRIPTION</th>\n",
       "      <th>INSPECTION DATE</th>\n",
       "      <th>ACTION</th>\n",
       "      <th>VIOLATION CODE</th>\n",
       "      <th>...</th>\n",
       "      <th>name</th>\n",
       "      <th>image_url</th>\n",
       "      <th>url</th>\n",
       "      <th>review_count</th>\n",
       "      <th>categories</th>\n",
       "      <th>rating</th>\n",
       "      <th>coordinates</th>\n",
       "      <th>transactions</th>\n",
       "      <th>location</th>\n",
       "      <th>_merge</th>\n",
       "    </tr>\n",
       "  </thead>\n",
       "  <tbody>\n",
       "    <tr>\n",
       "      <th>0</th>\n",
       "      <td>40616509</td>\n",
       "      <td>MONTY Q'S</td>\n",
       "      <td>Brooklyn</td>\n",
       "      <td>158</td>\n",
       "      <td>MONTAGUE STREET</td>\n",
       "      <td>11201.0</td>\n",
       "      <td>Pizza</td>\n",
       "      <td>07/19/2022</td>\n",
       "      <td>Violations were cited in the following area(s).</td>\n",
       "      <td>04M</td>\n",
       "      <td>...</td>\n",
       "      <td>MONTY Q'S</td>\n",
       "      <td>https://s3-media2.fl.yelpcdn.com/bphoto/Bse0Uf...</td>\n",
       "      <td>https://www.yelp.com/biz/monty-qs-brooklyn-2?a...</td>\n",
       "      <td>250</td>\n",
       "      <td>[{'alias': 'pizza', 'title': 'Pizza'}, {'alias...</td>\n",
       "      <td>3.0</td>\n",
       "      <td>{'latitude': 40.6942, 'longitude': -73.99299}</td>\n",
       "      <td>['delivery', 'pickup']</td>\n",
       "      <td>{'address1': '158 Montague St', 'address2': ''...</td>\n",
       "      <td>both</td>\n",
       "    </tr>\n",
       "    <tr>\n",
       "      <th>1</th>\n",
       "      <td>40616509</td>\n",
       "      <td>MONTY Q'S</td>\n",
       "      <td>Brooklyn</td>\n",
       "      <td>158</td>\n",
       "      <td>MONTAGUE STREET</td>\n",
       "      <td>11201.0</td>\n",
       "      <td>Pizza</td>\n",
       "      <td>07/19/2022</td>\n",
       "      <td>Violations were cited in the following area(s).</td>\n",
       "      <td>08A</td>\n",
       "      <td>...</td>\n",
       "      <td>MONTY Q'S</td>\n",
       "      <td>https://s3-media2.fl.yelpcdn.com/bphoto/Bse0Uf...</td>\n",
       "      <td>https://www.yelp.com/biz/monty-qs-brooklyn-2?a...</td>\n",
       "      <td>250</td>\n",
       "      <td>[{'alias': 'pizza', 'title': 'Pizza'}, {'alias...</td>\n",
       "      <td>3.0</td>\n",
       "      <td>{'latitude': 40.6942, 'longitude': -73.99299}</td>\n",
       "      <td>['delivery', 'pickup']</td>\n",
       "      <td>{'address1': '158 Montague St', 'address2': ''...</td>\n",
       "      <td>both</td>\n",
       "    </tr>\n",
       "    <tr>\n",
       "      <th>2</th>\n",
       "      <td>40616509</td>\n",
       "      <td>MONTY Q'S</td>\n",
       "      <td>Brooklyn</td>\n",
       "      <td>158</td>\n",
       "      <td>MONTAGUE STREET</td>\n",
       "      <td>11201.0</td>\n",
       "      <td>Pizza</td>\n",
       "      <td>10/30/2023</td>\n",
       "      <td>Violations were cited in the following area(s).</td>\n",
       "      <td>10F</td>\n",
       "      <td>...</td>\n",
       "      <td>MONTY Q'S</td>\n",
       "      <td>https://s3-media2.fl.yelpcdn.com/bphoto/Bse0Uf...</td>\n",
       "      <td>https://www.yelp.com/biz/monty-qs-brooklyn-2?a...</td>\n",
       "      <td>250</td>\n",
       "      <td>[{'alias': 'pizza', 'title': 'Pizza'}, {'alias...</td>\n",
       "      <td>3.0</td>\n",
       "      <td>{'latitude': 40.6942, 'longitude': -73.99299}</td>\n",
       "      <td>['delivery', 'pickup']</td>\n",
       "      <td>{'address1': '158 Montague St', 'address2': ''...</td>\n",
       "      <td>both</td>\n",
       "    </tr>\n",
       "    <tr>\n",
       "      <th>3</th>\n",
       "      <td>40616509</td>\n",
       "      <td>MONTY Q'S</td>\n",
       "      <td>Brooklyn</td>\n",
       "      <td>158</td>\n",
       "      <td>MONTAGUE STREET</td>\n",
       "      <td>11201.0</td>\n",
       "      <td>Pizza</td>\n",
       "      <td>10/30/2023</td>\n",
       "      <td>Violations were cited in the following area(s).</td>\n",
       "      <td>08A</td>\n",
       "      <td>...</td>\n",
       "      <td>MONTY Q'S</td>\n",
       "      <td>https://s3-media2.fl.yelpcdn.com/bphoto/Bse0Uf...</td>\n",
       "      <td>https://www.yelp.com/biz/monty-qs-brooklyn-2?a...</td>\n",
       "      <td>250</td>\n",
       "      <td>[{'alias': 'pizza', 'title': 'Pizza'}, {'alias...</td>\n",
       "      <td>3.0</td>\n",
       "      <td>{'latitude': 40.6942, 'longitude': -73.99299}</td>\n",
       "      <td>['delivery', 'pickup']</td>\n",
       "      <td>{'address1': '158 Montague St', 'address2': ''...</td>\n",
       "      <td>both</td>\n",
       "    </tr>\n",
       "    <tr>\n",
       "      <th>4</th>\n",
       "      <td>40616509</td>\n",
       "      <td>MONTY Q'S</td>\n",
       "      <td>Brooklyn</td>\n",
       "      <td>158</td>\n",
       "      <td>MONTAGUE STREET</td>\n",
       "      <td>11201.0</td>\n",
       "      <td>Pizza</td>\n",
       "      <td>07/26/2021</td>\n",
       "      <td>Violations were cited in the following area(s).</td>\n",
       "      <td>02B</td>\n",
       "      <td>...</td>\n",
       "      <td>MONTY Q'S</td>\n",
       "      <td>https://s3-media2.fl.yelpcdn.com/bphoto/Bse0Uf...</td>\n",
       "      <td>https://www.yelp.com/biz/monty-qs-brooklyn-2?a...</td>\n",
       "      <td>250</td>\n",
       "      <td>[{'alias': 'pizza', 'title': 'Pizza'}, {'alias...</td>\n",
       "      <td>3.0</td>\n",
       "      <td>{'latitude': 40.6942, 'longitude': -73.99299}</td>\n",
       "      <td>['delivery', 'pickup']</td>\n",
       "      <td>{'address1': '158 Montague St', 'address2': ''...</td>\n",
       "      <td>both</td>\n",
       "    </tr>\n",
       "  </tbody>\n",
       "</table>\n",
       "<p>5 rows × 30 columns</p>\n",
       "</div>"
      ],
      "text/plain": [
       "      CAMIS        DBA      BORO BUILDING           STREET  ZIPCODE  \\\n",
       "0  40616509  MONTY Q'S  Brooklyn      158  MONTAGUE STREET  11201.0   \n",
       "1  40616509  MONTY Q'S  Brooklyn      158  MONTAGUE STREET  11201.0   \n",
       "2  40616509  MONTY Q'S  Brooklyn      158  MONTAGUE STREET  11201.0   \n",
       "3  40616509  MONTY Q'S  Brooklyn      158  MONTAGUE STREET  11201.0   \n",
       "4  40616509  MONTY Q'S  Brooklyn      158  MONTAGUE STREET  11201.0   \n",
       "\n",
       "  CUISINE DESCRIPTION INSPECTION DATE  \\\n",
       "0               Pizza      07/19/2022   \n",
       "1               Pizza      07/19/2022   \n",
       "2               Pizza      10/30/2023   \n",
       "3               Pizza      10/30/2023   \n",
       "4               Pizza      07/26/2021   \n",
       "\n",
       "                                            ACTION VIOLATION CODE  ...  \\\n",
       "0  Violations were cited in the following area(s).            04M  ...   \n",
       "1  Violations were cited in the following area(s).            08A  ...   \n",
       "2  Violations were cited in the following area(s).            10F  ...   \n",
       "3  Violations were cited in the following area(s).            08A  ...   \n",
       "4  Violations were cited in the following area(s).            02B  ...   \n",
       "\n",
       "        name                                          image_url  \\\n",
       "0  MONTY Q'S  https://s3-media2.fl.yelpcdn.com/bphoto/Bse0Uf...   \n",
       "1  MONTY Q'S  https://s3-media2.fl.yelpcdn.com/bphoto/Bse0Uf...   \n",
       "2  MONTY Q'S  https://s3-media2.fl.yelpcdn.com/bphoto/Bse0Uf...   \n",
       "3  MONTY Q'S  https://s3-media2.fl.yelpcdn.com/bphoto/Bse0Uf...   \n",
       "4  MONTY Q'S  https://s3-media2.fl.yelpcdn.com/bphoto/Bse0Uf...   \n",
       "\n",
       "                                                 url review_count  \\\n",
       "0  https://www.yelp.com/biz/monty-qs-brooklyn-2?a...          250   \n",
       "1  https://www.yelp.com/biz/monty-qs-brooklyn-2?a...          250   \n",
       "2  https://www.yelp.com/biz/monty-qs-brooklyn-2?a...          250   \n",
       "3  https://www.yelp.com/biz/monty-qs-brooklyn-2?a...          250   \n",
       "4  https://www.yelp.com/biz/monty-qs-brooklyn-2?a...          250   \n",
       "\n",
       "                                          categories rating  \\\n",
       "0  [{'alias': 'pizza', 'title': 'Pizza'}, {'alias...    3.0   \n",
       "1  [{'alias': 'pizza', 'title': 'Pizza'}, {'alias...    3.0   \n",
       "2  [{'alias': 'pizza', 'title': 'Pizza'}, {'alias...    3.0   \n",
       "3  [{'alias': 'pizza', 'title': 'Pizza'}, {'alias...    3.0   \n",
       "4  [{'alias': 'pizza', 'title': 'Pizza'}, {'alias...    3.0   \n",
       "\n",
       "                                     coordinates            transactions  \\\n",
       "0  {'latitude': 40.6942, 'longitude': -73.99299}  ['delivery', 'pickup']   \n",
       "1  {'latitude': 40.6942, 'longitude': -73.99299}  ['delivery', 'pickup']   \n",
       "2  {'latitude': 40.6942, 'longitude': -73.99299}  ['delivery', 'pickup']   \n",
       "3  {'latitude': 40.6942, 'longitude': -73.99299}  ['delivery', 'pickup']   \n",
       "4  {'latitude': 40.6942, 'longitude': -73.99299}  ['delivery', 'pickup']   \n",
       "\n",
       "                                            location _merge  \n",
       "0  {'address1': '158 Montague St', 'address2': ''...   both  \n",
       "1  {'address1': '158 Montague St', 'address2': ''...   both  \n",
       "2  {'address1': '158 Montague St', 'address2': ''...   both  \n",
       "3  {'address1': '158 Montague St', 'address2': ''...   both  \n",
       "4  {'address1': '158 Montague St', 'address2': ''...   both  \n",
       "\n",
       "[5 rows x 30 columns]"
      ]
     },
     "execution_count": 12,
     "metadata": {},
     "output_type": "execute_result"
    }
   ],
   "source": [
    "merged_df.head()"
   ]
  },
  {
   "cell_type": "code",
   "execution_count": 13,
   "id": "5fdc19c7",
   "metadata": {
    "scrolled": true
   },
   "outputs": [
    {
     "name": "stdout",
     "output_type": "stream",
     "text": [
      "<class 'pandas.core.frame.DataFrame'>\n",
      "Int64Index: 502 entries, 0 to 515\n",
      "Data columns (total 30 columns):\n",
      " #   Column                 Non-Null Count  Dtype   \n",
      "---  ------                 --------------  -----   \n",
      " 0   CAMIS                  502 non-null    int64   \n",
      " 1   DBA                    502 non-null    object  \n",
      " 2   BORO                   502 non-null    object  \n",
      " 3   BUILDING               502 non-null    object  \n",
      " 4   STREET                 502 non-null    object  \n",
      " 5   ZIPCODE                498 non-null    float64 \n",
      " 6   CUISINE DESCRIPTION    502 non-null    object  \n",
      " 7   INSPECTION DATE        502 non-null    object  \n",
      " 8   ACTION                 502 non-null    object  \n",
      " 9   VIOLATION CODE         500 non-null    object  \n",
      " 10  VIOLATION DESCRIPTION  500 non-null    object  \n",
      " 11  CRITICAL FLAG          502 non-null    object  \n",
      " 12  SCORE                  502 non-null    float64 \n",
      " 13  GRADE                  502 non-null    object  \n",
      " 14  GRADE DATE             495 non-null    object  \n",
      " 15  INSPECTION TYPE        502 non-null    object  \n",
      " 16  Latitude               502 non-null    float64 \n",
      " 17  Longitude              502 non-null    float64 \n",
      " 18  Council District       498 non-null    float64 \n",
      " 19  alias                  502 non-null    object  \n",
      " 20  name                   502 non-null    object  \n",
      " 21  image_url              502 non-null    object  \n",
      " 22  url                    502 non-null    object  \n",
      " 23  review_count           502 non-null    int64   \n",
      " 24  categories             502 non-null    object  \n",
      " 25  rating                 502 non-null    float64 \n",
      " 26  coordinates            502 non-null    object  \n",
      " 27  transactions           502 non-null    object  \n",
      " 28  location               502 non-null    object  \n",
      " 29  _merge                 502 non-null    category\n",
      "dtypes: category(1), float64(6), int64(2), object(21)\n",
      "memory usage: 118.3+ KB\n"
     ]
    }
   ],
   "source": [
    "# Looking at the merged dataframe\n",
    "merged_df.info()"
   ]
  },
  {
   "cell_type": "code",
   "execution_count": 14,
   "id": "1661b979",
   "metadata": {},
   "outputs": [
    {
     "name": "stdout",
     "output_type": "stream",
     "text": [
      "        CAMIS                 DBA      BORO BUILDING        STREET  ZIPCODE  \\\n",
      "441  50124791  FRONT STREET PIZZA  Brooklyn       80  FRONT STREET  11201.0   \n",
      "442  50124791  FRONT STREET PIZZA  Brooklyn       80  FRONT STREET  11201.0   \n",
      "443  50124791  FRONT STREET PIZZA  Brooklyn       80  FRONT STREET  11201.0   \n",
      "444  50124791  FRONT STREET PIZZA  Brooklyn       80  FRONT STREET  11201.0   \n",
      "\n",
      "    CUISINE DESCRIPTION INSPECTION DATE  \\\n",
      "441               Pizza      03/20/2023   \n",
      "442               Pizza      03/20/2023   \n",
      "443               Pizza      03/20/2023   \n",
      "444               Pizza      03/20/2023   \n",
      "\n",
      "                                              ACTION VIOLATION CODE  ...  \\\n",
      "441  Violations were cited in the following area(s).            02H  ...   \n",
      "442  Violations were cited in the following area(s).            09C  ...   \n",
      "443  Violations were cited in the following area(s).            10F  ...   \n",
      "444  Violations were cited in the following area(s).            02B  ...   \n",
      "\n",
      "                   name                                          image_url  \\\n",
      "441  FRONT STREET PIZZA  https://s3-media2.fl.yelpcdn.com/bphoto/wRdm4f...   \n",
      "442  FRONT STREET PIZZA  https://s3-media2.fl.yelpcdn.com/bphoto/wRdm4f...   \n",
      "443  FRONT STREET PIZZA  https://s3-media2.fl.yelpcdn.com/bphoto/wRdm4f...   \n",
      "444  FRONT STREET PIZZA  https://s3-media2.fl.yelpcdn.com/bphoto/wRdm4f...   \n",
      "\n",
      "                                                   url review_count  \\\n",
      "441  https://www.yelp.com/biz/front-street-pizza-br...          472   \n",
      "442  https://www.yelp.com/biz/front-street-pizza-br...          472   \n",
      "443  https://www.yelp.com/biz/front-street-pizza-br...          472   \n",
      "444  https://www.yelp.com/biz/front-street-pizza-br...          472   \n",
      "\n",
      "                                            categories rating  \\\n",
      "441  [{'alias': 'pizza', 'title': 'Pizza'}, {'alias...    4.0   \n",
      "442  [{'alias': 'pizza', 'title': 'Pizza'}, {'alias...    4.0   \n",
      "443  [{'alias': 'pizza', 'title': 'Pizza'}, {'alias...    4.0   \n",
      "444  [{'alias': 'pizza', 'title': 'Pizza'}, {'alias...    4.0   \n",
      "\n",
      "                                        coordinates            transactions  \\\n",
      "441  {'latitude': 40.70244, 'longitude': -73.98943}  ['delivery', 'pickup']   \n",
      "442  {'latitude': 40.70244, 'longitude': -73.98943}  ['delivery', 'pickup']   \n",
      "443  {'latitude': 40.70244, 'longitude': -73.98943}  ['delivery', 'pickup']   \n",
      "444  {'latitude': 40.70244, 'longitude': -73.98943}  ['delivery', 'pickup']   \n",
      "\n",
      "                                              location _merge  \n",
      "441  {'address1': '80 Front St', 'address2': '', 'a...   both  \n",
      "442  {'address1': '80 Front St', 'address2': '', 'a...   both  \n",
      "443  {'address1': '80 Front St', 'address2': '', 'a...   both  \n",
      "444  {'address1': '80 Front St', 'address2': '', 'a...   both  \n",
      "\n",
      "[4 rows x 30 columns]\n"
     ]
    }
   ],
   "source": [
    "# Use boolean indexing to filter rows where the 'name_column' matches the target name\n",
    "specific_restaurant = merged_df[merged_df['name'] == 'FRONT STREET PIZZA']\n",
    "\n",
    "# Print or further process the specific restaurant data\n",
    "print(specific_restaurant)"
   ]
  },
  {
   "cell_type": "markdown",
   "id": "6a5bab7c",
   "metadata": {},
   "source": [
    "# **Data Cleaning**"
   ]
  },
  {
   "cell_type": "code",
   "execution_count": 15,
   "id": "fa3ab0a6",
   "metadata": {},
   "outputs": [],
   "source": [
    "# Creating a new column 'unique_id' by combining 'name' and 'CAMIS'\n",
    "merged_df['unique_id'] = merged_df['name'] + '_' + merged_df['CAMIS'].astype(str)\n",
    "\n",
    "# Sorting the DataFrame based on the new 'unique_id' column\n",
    "merged_df = merged_df.sort_values(by='unique_id')\n",
    "\n",
    "# If you want to keep only the last occurrence of each unique identifier, you can use the following:\n",
    "merged_df = merged_df.sort_values(by='INSPECTION DATE').drop_duplicates(subset=['unique_id'], keep='last')"
   ]
  },
  {
   "cell_type": "code",
   "execution_count": 16,
   "id": "2ac87b55",
   "metadata": {},
   "outputs": [],
   "source": [
    "# Dropping irrelevant columns\n",
    "merged_df.drop(['_merge', 'GRADE', 'BUILDING', 'ZIPCODE', 'Council District', 'Longitude', 'Latitude', 'coordinates', 'url','CRITICAL FLAG', 'alias', 'categories'], axis=1, inplace=True)"
   ]
  },
  {
   "cell_type": "code",
   "execution_count": 17,
   "id": "3ca567b3",
   "metadata": {
    "scrolled": true
   },
   "outputs": [
    {
     "data": {
      "text/html": [
       "<div>\n",
       "<style scoped>\n",
       "    .dataframe tbody tr th:only-of-type {\n",
       "        vertical-align: middle;\n",
       "    }\n",
       "\n",
       "    .dataframe tbody tr th {\n",
       "        vertical-align: top;\n",
       "    }\n",
       "\n",
       "    .dataframe thead th {\n",
       "        text-align: right;\n",
       "    }\n",
       "</style>\n",
       "<table border=\"1\" class=\"dataframe\">\n",
       "  <thead>\n",
       "    <tr style=\"text-align: right;\">\n",
       "      <th></th>\n",
       "      <th>Total</th>\n",
       "      <th>Percent</th>\n",
       "    </tr>\n",
       "  </thead>\n",
       "  <tbody>\n",
       "    <tr>\n",
       "      <th>GRADE DATE</th>\n",
       "      <td>2</td>\n",
       "      <td>2.47%</td>\n",
       "    </tr>\n",
       "    <tr>\n",
       "      <th>CAMIS</th>\n",
       "      <td>0</td>\n",
       "      <td>0.0%</td>\n",
       "    </tr>\n",
       "    <tr>\n",
       "      <th>location</th>\n",
       "      <td>0</td>\n",
       "      <td>0.0%</td>\n",
       "    </tr>\n",
       "    <tr>\n",
       "      <th>transactions</th>\n",
       "      <td>0</td>\n",
       "      <td>0.0%</td>\n",
       "    </tr>\n",
       "    <tr>\n",
       "      <th>rating</th>\n",
       "      <td>0</td>\n",
       "      <td>0.0%</td>\n",
       "    </tr>\n",
       "  </tbody>\n",
       "</table>\n",
       "</div>"
      ],
      "text/plain": [
       "              Total Percent\n",
       "GRADE DATE        2   2.47%\n",
       "CAMIS             0    0.0%\n",
       "location          0    0.0%\n",
       "transactions      0    0.0%\n",
       "rating            0    0.0%"
      ]
     },
     "execution_count": 17,
     "metadata": {},
     "output_type": "execute_result"
    }
   ],
   "source": [
    "# checking missing data in data \n",
    "def check_missing_data(rdf):\n",
    "    total = merged_df.isnull().sum().sort_values(ascending = False)\n",
    "    percent = (merged_df.isnull().sum()/merged_df.isnull().count()*100).sort_values(ascending = False)\n",
    "    percent = percent.round(2).astype(str) + '%'\n",
    "    missing_data  = pd.concat([total, percent], axis=1, keys=['Total', 'Percent'])\n",
    "    return missing_data\n",
    "missing_data_result = check_missing_data(merged_df)\n",
    "missing_data_result.head()"
   ]
  },
  {
   "cell_type": "code",
   "execution_count": 18,
   "id": "a7ef5a7a",
   "metadata": {},
   "outputs": [],
   "source": [
    "# Function to eliminate rows with missing Grade dates\n",
    "def eliminate_missing_grade_date_rows(merged_df):\n",
    "    \"\"\"\n",
    "    Eliminate rows with missing data in the \"GRADE DATE\" column.\n",
    "\n",
    "    Returns:\n",
    "    - Cleaned DataFrame without rows with missing \"GRADE DATE\"\n",
    "    \"\"\"\n",
    "    # Drop rows with missing values in the \"GRADE DATE\" column\n",
    "    cleaned_dataframe = merged_df.dropna(subset=[\"GRADE DATE\"])\n",
    "\n",
    "    return cleaned_dataframe\n",
    "\n",
    "merged_df = eliminate_missing_grade_date_rows(merged_df)"
   ]
  },
  {
   "cell_type": "code",
   "execution_count": 19,
   "id": "9112dd55",
   "metadata": {},
   "outputs": [
    {
     "data": {
      "text/plain": [
       "Cycle Inspection / Initial Inspection              35\n",
       "Cycle Inspection / Re-inspection                   25\n",
       "Pre-permit (Operational) / Initial Inspection      12\n",
       "Pre-permit (Operational) / Re-inspection            3\n",
       "Cycle Inspection / Reopening Inspection             3\n",
       "Pre-permit (Operational) / Reopening Inspection     1\n",
       "Name: INSPECTION TYPE, dtype: int64"
      ]
     },
     "execution_count": 19,
     "metadata": {},
     "output_type": "execute_result"
    }
   ],
   "source": [
    "merged_df['INSPECTION TYPE'].value_counts()"
   ]
  },
  {
   "cell_type": "code",
   "execution_count": 20,
   "id": "e90ed0cf",
   "metadata": {},
   "outputs": [],
   "source": [
    "# Filtering out only the initial inspections and re-inspections\n",
    "def filter_inspection_type(merged_df):\n",
    "    \"\"\"\n",
    "    Filter rows based on the values in the \"INSPECTION TYPE\" column.\n",
    "\n",
    "    Returns:\n",
    "    - DataFrame containing only rows with specified inspection types\n",
    "    \"\"\"\n",
    "    inspection_types_to_keep = ['Cycle Inspection / Initial Inspection', 'Cycle Inspection / Re-inspection']\n",
    "    filtered_rdf = merged_df.loc[merged_df['INSPECTION TYPE'].isin(inspection_types_to_keep)]\n",
    "\n",
    "    return filtered_rdf\n",
    "\n",
    "merged_df = filter_inspection_type(merged_df)"
   ]
  },
  {
   "cell_type": "code",
   "execution_count": 21,
   "id": "8fb8da33",
   "metadata": {},
   "outputs": [],
   "source": [
    "#create a dataframe with the most recent inspection data\n",
    "merged_df = merged_df.sort_values(by='INSPECTION DATE').drop_duplicates(subset=['CAMIS'], keep='last')"
   ]
  },
  {
   "cell_type": "code",
   "execution_count": 22,
   "id": "19e7ec13",
   "metadata": {},
   "outputs": [
    {
     "name": "stdout",
     "output_type": "stream",
     "text": [
      "<class 'pandas.core.frame.DataFrame'>\n",
      "Int64Index: 60 entries, 171 to 318\n",
      "Data columns (total 19 columns):\n",
      " #   Column                 Non-Null Count  Dtype  \n",
      "---  ------                 --------------  -----  \n",
      " 0   CAMIS                  60 non-null     int64  \n",
      " 1   DBA                    60 non-null     object \n",
      " 2   BORO                   60 non-null     object \n",
      " 3   STREET                 60 non-null     object \n",
      " 4   CUISINE DESCRIPTION    60 non-null     object \n",
      " 5   INSPECTION DATE        60 non-null     object \n",
      " 6   ACTION                 60 non-null     object \n",
      " 7   VIOLATION CODE         60 non-null     object \n",
      " 8   VIOLATION DESCRIPTION  60 non-null     object \n",
      " 9   SCORE                  60 non-null     float64\n",
      " 10  GRADE DATE             60 non-null     object \n",
      " 11  INSPECTION TYPE        60 non-null     object \n",
      " 12  name                   60 non-null     object \n",
      " 13  image_url              60 non-null     object \n",
      " 14  review_count           60 non-null     int64  \n",
      " 15  rating                 60 non-null     float64\n",
      " 16  transactions           60 non-null     object \n",
      " 17  location               60 non-null     object \n",
      " 18  unique_id              60 non-null     object \n",
      "dtypes: float64(2), int64(2), object(15)\n",
      "memory usage: 9.4+ KB\n"
     ]
    }
   ],
   "source": [
    "# Viewing the cleaaned dataframe\n",
    "merged_df.info()"
   ]
  },
  {
   "cell_type": "code",
   "execution_count": 23,
   "id": "9f795aa1",
   "metadata": {
    "scrolled": true
   },
   "outputs": [
    {
     "data": {
      "text/html": [
       "<div>\n",
       "<style scoped>\n",
       "    .dataframe tbody tr th:only-of-type {\n",
       "        vertical-align: middle;\n",
       "    }\n",
       "\n",
       "    .dataframe tbody tr th {\n",
       "        vertical-align: top;\n",
       "    }\n",
       "\n",
       "    .dataframe thead th {\n",
       "        text-align: right;\n",
       "    }\n",
       "</style>\n",
       "<table border=\"1\" class=\"dataframe\">\n",
       "  <thead>\n",
       "    <tr style=\"text-align: right;\">\n",
       "      <th></th>\n",
       "      <th>CAMIS</th>\n",
       "      <th>SCORE</th>\n",
       "      <th>review_count</th>\n",
       "      <th>rating</th>\n",
       "    </tr>\n",
       "  </thead>\n",
       "  <tbody>\n",
       "    <tr>\n",
       "      <th>count</th>\n",
       "      <td>6.000000e+01</td>\n",
       "      <td>60.000000</td>\n",
       "      <td>60.000000</td>\n",
       "      <td>60.000000</td>\n",
       "    </tr>\n",
       "    <tr>\n",
       "      <th>mean</th>\n",
       "      <td>4.571903e+07</td>\n",
       "      <td>12.783333</td>\n",
       "      <td>351.616667</td>\n",
       "      <td>3.716667</td>\n",
       "    </tr>\n",
       "    <tr>\n",
       "      <th>std</th>\n",
       "      <td>4.538942e+06</td>\n",
       "      <td>9.424259</td>\n",
       "      <td>691.720040</td>\n",
       "      <td>0.515577</td>\n",
       "    </tr>\n",
       "    <tr>\n",
       "      <th>min</th>\n",
       "      <td>4.038630e+07</td>\n",
       "      <td>2.000000</td>\n",
       "      <td>22.000000</td>\n",
       "      <td>2.000000</td>\n",
       "    </tr>\n",
       "    <tr>\n",
       "      <th>25%</th>\n",
       "      <td>4.126765e+07</td>\n",
       "      <td>8.000000</td>\n",
       "      <td>77.500000</td>\n",
       "      <td>3.500000</td>\n",
       "    </tr>\n",
       "    <tr>\n",
       "      <th>50%</th>\n",
       "      <td>5.000098e+07</td>\n",
       "      <td>12.000000</td>\n",
       "      <td>198.500000</td>\n",
       "      <td>3.500000</td>\n",
       "    </tr>\n",
       "    <tr>\n",
       "      <th>75%</th>\n",
       "      <td>5.007172e+07</td>\n",
       "      <td>13.000000</td>\n",
       "      <td>288.750000</td>\n",
       "      <td>4.000000</td>\n",
       "    </tr>\n",
       "    <tr>\n",
       "      <th>max</th>\n",
       "      <td>5.012784e+07</td>\n",
       "      <td>64.000000</td>\n",
       "      <td>4219.000000</td>\n",
       "      <td>4.500000</td>\n",
       "    </tr>\n",
       "  </tbody>\n",
       "</table>\n",
       "</div>"
      ],
      "text/plain": [
       "              CAMIS      SCORE  review_count     rating\n",
       "count  6.000000e+01  60.000000     60.000000  60.000000\n",
       "mean   4.571903e+07  12.783333    351.616667   3.716667\n",
       "std    4.538942e+06   9.424259    691.720040   0.515577\n",
       "min    4.038630e+07   2.000000     22.000000   2.000000\n",
       "25%    4.126765e+07   8.000000     77.500000   3.500000\n",
       "50%    5.000098e+07  12.000000    198.500000   3.500000\n",
       "75%    5.007172e+07  13.000000    288.750000   4.000000\n",
       "max    5.012784e+07  64.000000   4219.000000   4.500000"
      ]
     },
     "execution_count": 23,
     "metadata": {},
     "output_type": "execute_result"
    }
   ],
   "source": [
    "merged_df.describe()"
   ]
  },
  {
   "cell_type": "code",
   "execution_count": 24,
   "id": "ead21aea",
   "metadata": {
    "scrolled": true
   },
   "outputs": [
    {
     "data": {
      "text/plain": [
       "50"
      ]
     },
     "execution_count": 24,
     "metadata": {},
     "output_type": "execute_result"
    }
   ],
   "source": [
    "#count number of unique names\n",
    "len(merged_df['name'].unique())"
   ]
  },
  {
   "cell_type": "code",
   "execution_count": 25,
   "id": "1254e7e7",
   "metadata": {},
   "outputs": [
    {
     "data": {
      "text/plain": [
       "60"
      ]
     },
     "execution_count": 25,
     "metadata": {},
     "output_type": "execute_result"
    }
   ],
   "source": [
    "#count number of unique names\n",
    "len(merged_df['CAMIS'].unique())"
   ]
  },
  {
   "cell_type": "code",
   "execution_count": 26,
   "id": "f2f7b522",
   "metadata": {},
   "outputs": [
    {
     "data": {
      "text/plain": [
       "JOE'S PIZZA_50084972                            1\n",
       "TONY'S PIZZA_41702359                           1\n",
       "FAZIO'S_50056980                                1\n",
       "MIKE'S PIZZA_40745618                           1\n",
       "ARTICHOKE BASILLE'S PIZZA_50057010              1\n",
       "COZZI PIZZA_41404362                            1\n",
       "BATTLE HILL TAVERN_50075379                     1\n",
       "VINNIE'S PIZZERIA_41250435                      1\n",
       "ARTICHOKE BASILLE'S PIZZA_50057006              1\n",
       "TWO BOOTS_50016817                              1\n",
       "PROSPECT PIZZA_50105343                         1\n",
       "GINO'S BRICK OVEN PIZZA & TRATTORIA_41459621    1\n",
       "GINO'S PIZZA_40551093                           1\n",
       "UNION PIZZA WORKS_50004166                      1\n",
       "MONTY Q'S_40616509                              1\n",
       "WILLIAMSBURG PIZZA_41672156                     1\n",
       "ROSA'S PIZZA_50089510                           1\n",
       "PIZZA SECRET_50079182                           1\n",
       "LA BELLA PIZZERIA_41273383                      1\n",
       "SAL'S PIZZERIA_50086826                         1\n",
       "L'ARTE DELLA PIZZA BROOKLYN_50088788            1\n",
       "FRANKLIN PIZZA_41341359                         1\n",
       "FORNINO_50090850                                1\n",
       "ZEFF'S PIZZERIA_50063130                        1\n",
       "OPS_50055359                                    1\n",
       "TONY'S PIZZA_50049271                           1\n",
       "LENNY'S PIZZA_50114093                          1\n",
       "ROSARIO PIZZA_41409985                          1\n",
       "PAPA JOHNS PIZZA_50127840                       1\n",
       "BRICKLYN PIZZA_50078286                         1\n",
       "LA VILLA PIZZERIA_40397625                      1\n",
       "KRISPY PIZZA_40592791                           1\n",
       "FORNINO_50001952                                1\n",
       "FORNINO_50001003                                1\n",
       "JOE'S PIZZA OF PARK SLOPE_50085693              1\n",
       "WHEATED_50000967                                1\n",
       "BEST PIZZA_50056825                             1\n",
       "PIZZETTE_50092765                               1\n",
       "BEST PIZZA_41411423                             1\n",
       "DANNY'S PIZZERIA & CAFE_40887949                1\n",
       "TWO BOOTS_50005515                              1\n",
       "GINO'S PIZZA_40577362                           1\n",
       "PIZZA PLUS_40386303                             1\n",
       "IMPASTO_50066244                                1\n",
       "HOUSE OF PIZZA & CALZONES_41064708              1\n",
       "SAL & PAUL'S PIZZERIA_41434872                  1\n",
       "MY LITTLE PIZZERIA_40593848                     1\n",
       "IGNAZIO'S_41393052                              1\n",
       "JOE'S PIZZA_50037645                            1\n",
       "SAUCE AND SODA_50080431                         1\n",
       "LAYLA JONES_41196869                            1\n",
       "TONY'S PIZZA_50070497                           1\n",
       "SINGAS FAMOUS PIZZA_41495525                    1\n",
       "ROCCO PIZZA_40856208                            1\n",
       "RUSS PIZZA_50094449                             1\n",
       "MARK'S RED HOOK PIZZA_41534020                  1\n",
       "LENNY'S PIZZA_40553657                          1\n",
       "LUIGI'S PIZZERIA_40759944                       1\n",
       "ENOTECA ON COURT_41296556                       1\n",
       "ROBERTA'S_41307383                              1\n",
       "Name: unique_id, dtype: int64"
      ]
     },
     "execution_count": 26,
     "metadata": {},
     "output_type": "execute_result"
    }
   ],
   "source": [
    "merged_df['unique_id'].value_counts()"
   ]
  },
  {
   "cell_type": "markdown",
   "id": "4c709ae4",
   "metadata": {},
   "source": [
    "# **Hypothesis Testing**"
   ]
  },
  {
   "cell_type": "markdown",
   "id": "6c654995",
   "metadata": {},
   "source": [
    "## **Hypothesis Test 1:Try to find a correlation between scores on inspections and the ratings on YELP**"
   ]
  },
  {
   "cell_type": "markdown",
   "id": "5850570c",
   "metadata": {},
   "source": [
    "- The null hypothesis for this question would be that the restaurant inspection score/grade does not significantly affect the rating/reviews on Yelp for pizza restaurants in Brooklyn NY"
   ]
  },
  {
   "cell_type": "markdown",
   "id": "b623cd84",
   "metadata": {},
   "source": [
    "- The alternative hypothesis for this question would be that the restaurant inspection score/grade does significantly affect the rating/ reviews on Yelp for the pizza restaurants in Brooklyn NY."
   ]
  },
  {
   "cell_type": "code",
   "execution_count": 27,
   "id": "36d1a2b4",
   "metadata": {
    "scrolled": true
   },
   "outputs": [
    {
     "name": "stdout",
     "output_type": "stream",
     "text": [
      "Correlation: 0.11\n",
      "P-value: 0.3842\n",
      "There is no significant correlation.\n"
     ]
    }
   ],
   "source": [
    "# Performing Pearsonr correlation test\n",
    "correlation, p_value = pearsonr(merged_df['rating'], merged_df['review_count'])\n",
    "\n",
    "# Print results\n",
    "print(f'Correlation: {correlation:.2f}')\n",
    "print(f'P-value: {p_value:.4f}')\n",
    "\n",
    "# Check for significance based on the p-value\n",
    "if p_value < 0.05:\n",
    "    print('The correlation is statistically significant.')\n",
    "else:\n",
    "    print('There is no significant correlation.')"
   ]
  },
  {
   "cell_type": "code",
   "execution_count": 28,
   "id": "de308ce3",
   "metadata": {},
   "outputs": [
    {
     "data": {
      "image/png": "[encoded data removed]",
      "text/plain": [
       "<Figure size 800x600 with 2 Axes>"
      ]
     },
     "metadata": {},
     "output_type": "display_data"
    }
   ],
   "source": [
    "numeric_columns = ['SCORE', 'rating']\n",
    "\n",
    "mdf_numeric = merged_df[numeric_columns].apply(pd.to_numeric, errors='coerce').dropna()\n",
    "\n",
    "c_matrix = mdf_numeric.corr()\n",
    "\n",
    "plt.figure(figsize=(8, 6))\n",
    "sns.heatmap(c_matrix, annot=True, cmap='coolwarm', fmt=\".2f\")\n",
    "plt.title('Correlation Map')\n",
    "plt.show()"
   ]
  },
  {
   "cell_type": "code",
   "execution_count": 29,
   "id": "aaa31178",
   "metadata": {
    "scrolled": true
   },
   "outputs": [
    {
     "data": {
      "image/png": "[encoded data removed]",
      "text/plain": [
       "<Figure size 800x800 with 2 Axes>"
      ]
     },
     "metadata": {},
     "output_type": "display_data"
    }
   ],
   "source": [
    "# Compute the correlation matrix\n",
    "correlation_matrix = merged_df.corr()\n",
    "\n",
    "# Plot the correlation heatmap using seaborn\n",
    "plt.figure(figsize=(8, 8))\n",
    "sns.heatmap(correlation_matrix, annot=True, cmap='coolwarm', fmt=\".2f\", linewidths=.5)\n",
    "plt.title('Correlation Map')\n",
    "plt.show()"
   ]
  },
  {
   "cell_type": "code",
   "execution_count": 30,
   "id": "b59950ec",
   "metadata": {},
   "outputs": [
    {
     "data": {
      "image/png": "[encoded data removed]",
      "text/plain": [
       "<Figure size 1500x1000 with 9 Axes>"
      ]
     },
     "metadata": {},
     "output_type": "display_data"
    }
   ],
   "source": [
    "#creates a scatter plot matrix for recent_df\n",
    "pd.plotting.scatter_matrix(merged_df[['rating','review_count', 'SCORE']], \n",
    "                           figsize=(15, 10));"
   ]
  },
  {
   "cell_type": "code",
   "execution_count": 31,
   "id": "64a69a9a",
   "metadata": {
    "scrolled": false
   },
   "outputs": [
    {
     "data": {
      "image/png": "[encoded data removed]",
      "text/plain": [
       "<Figure size 640x480 with 1 Axes>"
      ]
     },
     "metadata": {},
     "output_type": "display_data"
    }
   ],
   "source": [
    "# Visualizing the correlation between Inspection scores and Yelp Ratings\n",
    "sns.scatterplot(x=merged_df['SCORE'], y=merged_df['rating'])\n",
    "plt.title('Scatter Plot of Inspection Scores vs. Yelp Ratings')\n",
    "plt.xlabel('Inspection Scores')\n",
    "plt.ylabel('Yelp Ratings')\n",
    "plt.show()"
   ]
  },
  {
   "cell_type": "markdown",
   "id": "0f01b6c1",
   "metadata": {},
   "source": [
    "## **Hypothesis Test 2:Try to find correlation between the inspection grades and the ratings on Yelp data**"
   ]
  },
  {
   "cell_type": "markdown",
   "id": "f45de1d6",
   "metadata": {},
   "source": [
    "## **Consider instead trying to find correlation between amount of reviews and ratings on Yelp data**"
   ]
  },
  {
   "cell_type": "code",
   "execution_count": 32,
   "id": "ff6f127f",
   "metadata": {},
   "outputs": [],
   "source": [
    "# Remove rows with 'N', 'Z', and 'P' in the 'GRADE' column\n",
    "# These letters signify: N = Not Yet Graded, Z = Grade Pending,\n",
    "# P= Grade Pending issued on re-opening following an initial inspection that resulted in a closure\n",
    "#merged_df = merged_df[~merged_df['GRADE'].isin(['N', 'Z', 'P'])]"
   ]
  },
  {
   "cell_type": "code",
   "execution_count": 33,
   "id": "e7776517",
   "metadata": {
    "scrolled": false
   },
   "outputs": [
    {
     "data": {
      "text/plain": [
       "3.5    26\n",
       "4.0    20\n",
       "4.5     8\n",
       "3.0     4\n",
       "2.0     2\n",
       "Name: rating, dtype: int64"
      ]
     },
     "execution_count": 33,
     "metadata": {},
     "output_type": "execute_result"
    }
   ],
   "source": [
    "merged_df['rating'].value_counts()"
   ]
  },
  {
   "cell_type": "code",
   "execution_count": 34,
   "id": "f41554c0",
   "metadata": {
    "scrolled": true
   },
   "outputs": [
    {
     "name": "stdout",
     "output_type": "stream",
     "text": [
      "<class 'pandas.core.frame.DataFrame'>\n",
      "Int64Index: 60 entries, 171 to 318\n",
      "Data columns (total 19 columns):\n",
      " #   Column                 Non-Null Count  Dtype  \n",
      "---  ------                 --------------  -----  \n",
      " 0   CAMIS                  60 non-null     int64  \n",
      " 1   DBA                    60 non-null     object \n",
      " 2   BORO                   60 non-null     object \n",
      " 3   STREET                 60 non-null     object \n",
      " 4   CUISINE DESCRIPTION    60 non-null     object \n",
      " 5   INSPECTION DATE        60 non-null     object \n",
      " 6   ACTION                 60 non-null     object \n",
      " 7   VIOLATION CODE         60 non-null     object \n",
      " 8   VIOLATION DESCRIPTION  60 non-null     object \n",
      " 9   SCORE                  60 non-null     float64\n",
      " 10  GRADE DATE             60 non-null     object \n",
      " 11  INSPECTION TYPE        60 non-null     object \n",
      " 12  name                   60 non-null     object \n",
      " 13  image_url              60 non-null     object \n",
      " 14  review_count           60 non-null     int64  \n",
      " 15  rating                 60 non-null     float64\n",
      " 16  transactions           60 non-null     object \n",
      " 17  location               60 non-null     object \n",
      " 18  unique_id              60 non-null     object \n",
      "dtypes: float64(2), int64(2), object(15)\n",
      "memory usage: 9.4+ KB\n"
     ]
    }
   ],
   "source": [
    "merged_df.info()"
   ]
  },
  {
   "cell_type": "code",
   "execution_count": 35,
   "id": "1ace50d7",
   "metadata": {
    "scrolled": true
   },
   "outputs": [
    {
     "name": "stdout",
     "output_type": "stream",
     "text": [
      "Number of non-null values in 'rating': 60\n"
     ]
    }
   ],
   "source": [
    "print(\"Number of non-null values in 'rating':\", merged_df['rating'].count())"
   ]
  },
  {
   "cell_type": "code",
   "execution_count": 36,
   "id": "c2ca40fe",
   "metadata": {
    "scrolled": true
   },
   "outputs": [
    {
     "name": "stdout",
     "output_type": "stream",
     "text": [
      "171    2071\n",
      "478     140\n",
      "77      303\n",
      "438      40\n",
      "515     398\n",
      "85      729\n",
      "488      79\n",
      "83      729\n",
      "323     192\n",
      "331     167\n",
      "67      202\n",
      "458     275\n",
      "32       25\n",
      "260     175\n",
      "74      303\n",
      "463      57\n",
      "266     639\n",
      "154    3074\n",
      "491      86\n",
      "58      208\n",
      "482     140\n",
      "255     105\n",
      "357     214\n",
      "450     114\n",
      "213      84\n",
      "225      24\n",
      "44      288\n",
      "6       264\n",
      "461     291\n",
      "455     260\n",
      "60      284\n",
      "494      27\n",
      "353     215\n",
      "500      87\n",
      "120    4219\n",
      "92       43\n",
      "375      54\n",
      "144     759\n",
      "134     317\n",
      "336     167\n",
      "51       73\n",
      "467     277\n",
      "73      202\n",
      "9       297\n",
      "2       250\n",
      "14      367\n",
      "417     197\n",
      "250     272\n",
      "41       49\n",
      "343     206\n",
      "514      69\n",
      "449      63\n",
      "80      303\n",
      "452      28\n",
      "487     200\n",
      "475     183\n",
      "233      24\n",
      "296      22\n",
      "361      66\n",
      "318     101\n",
      "Name: review_count, dtype: int64\n"
     ]
    }
   ],
   "source": [
    "# review_count_counts = merged_df['review_count'].value_counts().sort_values(ascending=False)\n",
    "print(merged_df['review_count'])"
   ]
  },
  {
   "cell_type": "code",
   "execution_count": 37,
   "id": "64c99914",
   "metadata": {},
   "outputs": [
    {
     "name": "stdout",
     "output_type": "stream",
     "text": [
      "Outliers:\n",
      "        CAMIS                        DBA      BORO            STREET  \\\n",
      "171  50084972                JOE'S PIZZA  Brooklyn          5 AVENUE   \n",
      "85   50056825                 BEST PIZZA  Brooklyn          AVENUE O   \n",
      "83   41411423                 BEST PIZZA  Brooklyn  HAVEMEYER STREET   \n",
      "266  41393052                  IGNAZIO'S  Brooklyn      WATER STREET   \n",
      "154  50037645                JOE'S PIZZA  Brooklyn    BEDFORD AVENUE   \n",
      "120  50057010  ARTICHOKE BASILLE'S PIZZA  Brooklyn          4 AVENUE   \n",
      "144  41250435          VINNIE'S PIZZERIA  Brooklyn    BEDFORD AVENUE   \n",
      "\n",
      "    CUISINE DESCRIPTION INSPECTION DATE  \\\n",
      "171               Pizza      01/03/2023   \n",
      "85                Pizza      02/28/2022   \n",
      "83                Pizza      03/16/2023   \n",
      "266               Pizza      05/08/2023   \n",
      "154               Pizza      05/08/2023   \n",
      "120               Pizza      09/06/2023   \n",
      "144               Pizza      09/25/2019   \n",
      "\n",
      "                                              ACTION VIOLATION CODE  \\\n",
      "171  Violations were cited in the following area(s).            08A   \n",
      "85   Violations were cited in the following area(s).            09B   \n",
      "83   Violations were cited in the following area(s).            10F   \n",
      "266  Violations were cited in the following area(s).            02G   \n",
      "154  Violations were cited in the following area(s).            06D   \n",
      "120  Violations were cited in the following area(s).            04M   \n",
      "144  Violations were cited in the following area(s).            10F   \n",
      "\n",
      "                                 VIOLATION DESCRIPTION  SCORE  GRADE DATE  \\\n",
      "171  Establishment is not free of harborage or cond...   18.0  01/03/2023   \n",
      "85                        Thawing procedures improper.   11.0  02/28/2022   \n",
      "83   Non-food contact surface or equipment made of ...   13.0  03/16/2023   \n",
      "266  Cold TCS food item held above 41 °F; smoked or...   10.0  05/08/2023   \n",
      "154  Food contact surface not properly washed, rins...   13.0  05/08/2023   \n",
      "120  Live roaches in facility's food or non-food area.   27.0  09/06/2023   \n",
      "144  Non-food contact surface improperly constructe...   12.0  09/25/2019   \n",
      "\n",
      "                           INSPECTION TYPE                       name  \\\n",
      "171       Cycle Inspection / Re-inspection                JOE'S PIZZA   \n",
      "85        Cycle Inspection / Re-inspection                 BEST PIZZA   \n",
      "83        Cycle Inspection / Re-inspection                 BEST PIZZA   \n",
      "266  Cycle Inspection / Initial Inspection                  IGNAZIO'S   \n",
      "154  Cycle Inspection / Initial Inspection                JOE'S PIZZA   \n",
      "120       Cycle Inspection / Re-inspection  ARTICHOKE BASILLE'S PIZZA   \n",
      "144       Cycle Inspection / Re-inspection          VINNIE'S PIZZERIA   \n",
      "\n",
      "                                             image_url  review_count  rating  \\\n",
      "171  https://s3-media4.fl.yelpcdn.com/bphoto/FluVgK...          2071     4.0   \n",
      "85   https://s3-media1.fl.yelpcdn.com/bphoto/2S2xAi...           729     3.5   \n",
      "83   https://s3-media1.fl.yelpcdn.com/bphoto/2S2xAi...           729     3.5   \n",
      "266  https://s3-media3.fl.yelpcdn.com/bphoto/cpV2ZL...           639     3.5   \n",
      "154  https://s3-media3.fl.yelpcdn.com/bphoto/FKjd9R...          3074     4.0   \n",
      "120  https://s3-media3.fl.yelpcdn.com/bphoto/4krjwP...          4219     4.0   \n",
      "144  https://s3-media1.fl.yelpcdn.com/bphoto/-6rgJe...           759     4.0   \n",
      "\n",
      "               transactions  \\\n",
      "171  ['pickup', 'delivery']   \n",
      "85   ['delivery', 'pickup']   \n",
      "83   ['delivery', 'pickup']   \n",
      "266  ['delivery', 'pickup']   \n",
      "154            ['delivery']   \n",
      "120  ['delivery', 'pickup']   \n",
      "144  ['delivery', 'pickup']   \n",
      "\n",
      "                                              location  \\\n",
      "171  {'address1': '1435 Broadway', 'address2': '', ...   \n",
      "85   {'address1': '33 Havemeyer St', 'address2': ''...   \n",
      "83   {'address1': '33 Havemeyer St', 'address2': ''...   \n",
      "266  {'address1': '4 Water St', 'address2': '', 'ad...   \n",
      "154  {'address1': '7 Carmine St', 'address2': '', '...   \n",
      "120  {'address1': '321 E 14th St', 'address2': '', ...   \n",
      "144  {'address1': '148 Bedford Ave', 'address2': ''...   \n",
      "\n",
      "                              unique_id  \n",
      "171                JOE'S PIZZA_50084972  \n",
      "85                  BEST PIZZA_50056825  \n",
      "83                  BEST PIZZA_41411423  \n",
      "266                  IGNAZIO'S_41393052  \n",
      "154                JOE'S PIZZA_50037645  \n",
      "120  ARTICHOKE BASILLE'S PIZZA_50057010  \n",
      "144          VINNIE'S PIZZERIA_41250435  \n"
     ]
    }
   ],
   "source": [
    "review_count = merged_df['review_count']\n",
    "rating = merged_df['rating']\n",
    "\n",
    "# Calculate IQR\n",
    "Q1 = review_count.quantile(0.25)\n",
    "Q3 = review_count.quantile(0.75)\n",
    "IQR = Q3 - Q1\n",
    "\n",
    "# Identify outliers\n",
    "outliers = (review_count < Q1 - 1.5 * IQR) | (review_count > Q3 + 1.5 * IQR)\n",
    "\n",
    "# Print outliers\n",
    "print(\"Outliers:\")\n",
    "print(merged_df[outliers])"
   ]
  },
  {
   "cell_type": "code",
   "execution_count": 38,
   "id": "88c905ef",
   "metadata": {},
   "outputs": [
    {
     "data": {
      "image/png": "[encoded data removed]",
      "text/plain": [
       "<Figure size 1200x600 with 1 Axes>"
      ]
     },
     "metadata": {},
     "output_type": "display_data"
    }
   ],
   "source": [
    "plt.figure(figsize=(12, 6))\n",
    "sns.scatterplot(x='review_count', y='rating', data=merged_df)\n",
    "plt.title('Scatter Plot of Count vs. Rating')\n",
    "plt.xlabel('Review count')\n",
    "plt.ylabel('Rating')\n",
    "plt.show()"
   ]
  },
  {
   "cell_type": "code",
   "execution_count": 39,
   "id": "f4c791cd",
   "metadata": {},
   "outputs": [
    {
     "name": "stdout",
     "output_type": "stream",
     "text": [
      "Original length: 60\n",
      "New length after dropping NaN values: 60\n",
      "Correlation: 0.11\n",
      "P-value: 0.3842\n",
      "There is no significant correlation.\n"
     ]
    }
   ],
   "source": [
    "# Drop rows with NaN values if needed\n",
    "original_length = len(merged_df)\n",
    "merged_df = merged_df.dropna(subset=['review_count', 'rating'])\n",
    "new_length = len(merged_df)\n",
    "\n",
    "print(f'Original length: {original_length}')\n",
    "print(f'New length after dropping NaN values: {new_length}')\n",
    "\n",
    "\n",
    "# Convert 'rating' column to numeric\n",
    "merged_df['rating'] = pd.to_numeric(merged_df['rating'], errors='coerce')\n",
    "\n",
    "# Replace infinite values with NaN and drop rows with NaN values in the 'rating' column\n",
    "merged_df.replace([np.inf, -np.inf], np.nan, inplace=True)\n",
    "merged_df.dropna(subset=['rating'], inplace=True)\n",
    "\n",
    "# Perform Pearson correlation test\n",
    "if len(merged_df['review_count']) < 2 or len(merged_df['rating']) < 2:\n",
    "    print(\"Not enough data points to perform the correlation test.\")\n",
    "else:\n",
    "    # Perform Pearson correlation test\n",
    "    correlation, p_value = pearsonr(merged_df['review_count'], merged_df['rating'])\n",
    "\n",
    "    # Print results\n",
    "    print(f'Correlation: {correlation:.2f}')\n",
    "    print(f'P-value: {p_value:.4f}')\n",
    "\n",
    "    # Check for significance based on the p-value\n",
    "    if p_value < 0.05:\n",
    "        print('The correlation is statistically significant.')\n",
    "    else:\n",
    "        print('There is no significant correlation.')"
   ]
  },
  {
   "cell_type": "markdown",
   "id": "26d32f79",
   "metadata": {},
   "source": [
    "## **Feature Engineering**"
   ]
  },
  {
   "cell_type": "markdown",
   "id": "93ad2fc7",
   "metadata": {},
   "source": [
    "- Find out if there is a significant correlation between certain violations for certain restaurant types of specific areas/boros.\n",
    "\n",
    "- Most common violations for each restaurant type and each set of chains if applicable for each boro.\n",
    "\n",
    "- Do corporate restaurants or privately owned places get better scores/grades? What are the most common violations that cost the most points on the inspections.\n",
    "\n",
    "- Construct predictive models to predict when initial and re-inspections are going to happen\n",
    "\n",
    "- Construct predictive models to predict which restaurants will pass/fail inspections.\n",
    "\n",
    "- Find out if there is correlation between a higher score/grade causing a restaurant to recive an overall better score on yelp. Look at the comparison between the results for coporate and privately owned places."
   ]
  }
 ],
 "metadata": {
  "kernelspec": {
   "display_name": "Python (dojo-env)",
   "language": "python",
   "name": "dojo-env"
  },
  "language_info": {
   "codemirror_mode": {
    "name": "ipython",
    "version": 3
   },
   "file_extension": ".py",
   "mimetype": "text/x-python",
   "name": "python",
   "nbconvert_exporter": "python",
   "pygments_lexer": "ipython3",
   "version": "3.9.15"
  },
  "toc": {
   "base_numbering": 1,
   "nav_menu": {},
   "number_sections": false,
   "sideBar": true,
   "skip_h1_title": false,
   "title_cell": "Table of Contents",
   "title_sidebar": "Contents",
   "toc_cell": false,
   "toc_position": {
    "height": "calc(100% - 180px)",
    "left": "10px",
    "top": "150px",
    "width": "248.352px"
   },
   "toc_section_display": true,
   "toc_window_display": false
  }
 },
 "nbformat": 4,
 "nbformat_minor": 5
}
