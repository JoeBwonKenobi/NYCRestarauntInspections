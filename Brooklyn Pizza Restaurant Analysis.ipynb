{
 "cells": [
  {
   "cell_type": "markdown",
   "id": "48aaad17",
   "metadata": {},
   "source": [
    "# **Brooklyn Pizza Restaurant Analysis**"
   ]
  },
  {
   "cell_type": "markdown",
   "id": "932a65bd",
   "metadata": {},
   "source": [
    "Joseph Lardie\n",
    "\n",
    "December 2023"
   ]
  },
  {
   "cell_type": "markdown",
   "id": "56e226ca",
   "metadata": {},
   "source": [
    "# **Imports**"
   ]
  },
  {
   "cell_type": "code",
   "execution_count": 1,
   "id": "80f2ab75",
   "metadata": {},
   "outputs": [],
   "source": [
    "#Numpy\n",
    "import numpy as np\n",
    "\n",
    "#Pandas\n",
    "import pandas as pd\n",
    "\n",
    "#Seaborn\n",
    "import seaborn as sns\n",
    "\n",
    "#matplotlib\n",
    "import matplotlib.pyplot as plt\n",
    "import plotly\n",
    "%matplotlib inline\n",
    "\n",
    "from wordcloud import WordCloud\n",
    "import re\n",
    "import nltk\n",
    "from nltk.corpus import stopwords\n",
    "\n",
    "#Sklearn preprocessing\n",
    "from sklearn import preprocessing,set_config\n",
    "from sklearn.preprocessing import OrdinalEncoder, OneHotEncoder,StandardScaler,LabelEncoder\n",
    "from sklearn.neighbors import NearestNeighbors\n",
    "from sklearn.impute import SimpleImputer\n",
    "\n",
    "#Scipy\n",
    "from scipy import stats\n",
    "from scipy.stats import norm\n",
    "\n",
    "# Warnings\n",
    "import warnings\n",
    "warnings.filterwarnings(\"ignore\")\n",
    "set_config(display = 'diagram')"
   ]
  },
  {
   "cell_type": "markdown",
   "id": "aed6e7ff",
   "metadata": {},
   "source": [
    "# **Import Data**"
   ]
  },
  {
   "cell_type": "code",
   "execution_count": 2,
   "id": "12407378",
   "metadata": {},
   "outputs": [],
   "source": [
    "# Loading NYC Restaraunt Data\n",
    "mdf = pd.read_csv('mdf')"
   ]
  },
  {
   "cell_type": "code",
   "execution_count": 3,
   "id": "6f7aa453",
   "metadata": {},
   "outputs": [
    {
     "name": "stdout",
     "output_type": "stream",
     "text": [
      "<class 'pandas.core.frame.DataFrame'>\n",
      "RangeIndex: 506 entries, 0 to 505\n",
      "Data columns (total 30 columns):\n",
      " #   Column                 Non-Null Count  Dtype  \n",
      "---  ------                 --------------  -----  \n",
      " 0   CAMIS                  506 non-null    int64  \n",
      " 1   DBA                    506 non-null    object \n",
      " 2   BORO                   506 non-null    object \n",
      " 3   BUILDING               506 non-null    object \n",
      " 4   STREET                 506 non-null    object \n",
      " 5   ZIPCODE                502 non-null    float64\n",
      " 6   CUISINE DESCRIPTION    506 non-null    object \n",
      " 7   INSPECTION DATE        506 non-null    object \n",
      " 8   ACTION                 506 non-null    object \n",
      " 9   VIOLATION CODE         504 non-null    object \n",
      " 10  VIOLATION DESCRIPTION  504 non-null    object \n",
      " 11  CRITICAL FLAG          506 non-null    object \n",
      " 12  SCORE                  506 non-null    float64\n",
      " 13  GRADE                  506 non-null    object \n",
      " 14  GRADE DATE             499 non-null    object \n",
      " 15  INSPECTION TYPE        506 non-null    object \n",
      " 16  Latitude               506 non-null    float64\n",
      " 17  Longitude              506 non-null    float64\n",
      " 18  Council District       502 non-null    float64\n",
      " 19  alias                  506 non-null    object \n",
      " 20  name                   506 non-null    object \n",
      " 21  image_url              506 non-null    object \n",
      " 22  url                    506 non-null    object \n",
      " 23  review_count           506 non-null    int64  \n",
      " 24  categories             506 non-null    object \n",
      " 25  rating                 506 non-null    float64\n",
      " 26  coordinates            506 non-null    object \n",
      " 27  transactions           506 non-null    object \n",
      " 28  location               506 non-null    object \n",
      " 29  _merge                 506 non-null    object \n",
      "dtypes: float64(6), int64(2), object(22)\n",
      "memory usage: 118.7+ KB\n"
     ]
    }
   ],
   "source": [
    "mdf.info()"
   ]
  },
  {
   "cell_type": "markdown",
   "id": "24fc742b",
   "metadata": {},
   "source": [
    "# **Feature Engineering**"
   ]
  },
  {
   "cell_type": "code",
   "execution_count": 4,
   "id": "5e916466",
   "metadata": {},
   "outputs": [],
   "source": [
    "# Create a new column 'Restaurant Chain Indicator'\n",
    "mdf['Chain Indicator'] = mdf['DBA'].duplicated(keep=False)"
   ]
  },
  {
   "cell_type": "code",
   "execution_count": 6,
   "id": "3b0e6d83",
   "metadata": {},
   "outputs": [],
   "source": [
    "# Create a new column 'Full Address'\n",
    "mdf['Full Address'] = mdf['BUILDING'] + ' ' + mdf['STREET']"
   ]
  },
  {
   "cell_type": "code",
   "execution_count": 7,
   "id": "fc4a1505",
   "metadata": {},
   "outputs": [],
   "source": [
    "# Define size categories\n",
    "size_bins = [0, 50, 200, np.inf]\n",
    "size_labels = ['Small', 'Medium', 'Large']\n",
    "\n",
    "# Create 'Size Category' column\n",
    "mdf['Size Category'] = pd.cut(mdf['review_count'], bins=size_bins, labels=size_labels)\n"
   ]
  },
  {
   "cell_type": "code",
   "execution_count": 9,
   "id": "4c6eafce",
   "metadata": {},
   "outputs": [
    {
     "name": "stdout",
     "output_type": "stream",
     "text": [
      "       BORO      SCORE\n",
      "0  Brooklyn  16.766798\n"
     ]
    }
   ],
   "source": [
    "# Filter the DataFrame to include only 'Pizza' restaurants\n",
    "pizza_df = mdf[mdf['CUISINE DESCRIPTION'] == 'Pizza']\n",
    "\n",
    "# Group by 'BORO' and calculate the average score for each group\n",
    "avg_score_by_boro = pizza_df.groupby('BORO')['SCORE'].mean().reset_index()\n",
    "\n",
    "# Display the DataFrame with the average score for pizza restaurants in each 'BORO'\n",
    "print(avg_score_by_boro)"
   ]
  },
  {
   "cell_type": "code",
   "execution_count": null,
   "id": "94368abc",
   "metadata": {},
   "outputs": [],
   "source": []
  },
  {
   "cell_type": "code",
   "execution_count": null,
   "id": "962f89f7",
   "metadata": {},
   "outputs": [],
   "source": []
  },
  {
   "cell_type": "code",
   "execution_count": null,
   "id": "252bfcc8",
   "metadata": {},
   "outputs": [],
   "source": []
  },
  {
   "cell_type": "code",
   "execution_count": null,
   "id": "42a2d447",
   "metadata": {},
   "outputs": [],
   "source": []
  },
  {
   "cell_type": "markdown",
   "id": "695ec756",
   "metadata": {},
   "source": [
    "# **Visualizations**"
   ]
  },
  {
   "cell_type": "code",
   "execution_count": 10,
   "id": "01b751d0",
   "metadata": {},
   "outputs": [
    {
     "data": {
      "image/png": "[encoded data removed]",
      "text/plain": [
       "<Figure size 1000x400 with 1 Axes>"
      ]
     },
     "metadata": {},
     "output_type": "display_data"
    }
   ],
   "source": [
    "# Plotting the bar chart\n",
    "plt.figure(figsize=(10, 4))\n",
    "plt.bar(avg_score_by_boro['BORO'], avg_score_by_boro['SCORE'], color='skyblue')\n",
    "plt.title('Average Inspection Score for Pizza Restaurants in Each BORO')\n",
    "plt.xlabel('BORO')\n",
    "plt.ylabel('Average Score')\n",
    "plt.show()"
   ]
  },
  {
   "cell_type": "code",
   "execution_count": null,
   "id": "45bd238f",
   "metadata": {},
   "outputs": [],
   "source": []
  },
  {
   "cell_type": "code",
   "execution_count": null,
   "id": "2759f6ba",
   "metadata": {},
   "outputs": [],
   "source": []
  },
  {
   "cell_type": "code",
   "execution_count": null,
   "id": "b6e94625",
   "metadata": {},
   "outputs": [],
   "source": []
  },
  {
   "cell_type": "code",
   "execution_count": null,
   "id": "7d50eb19",
   "metadata": {},
   "outputs": [],
   "source": []
  },
  {
   "cell_type": "code",
   "execution_count": null,
   "id": "1d88244c",
   "metadata": {},
   "outputs": [],
   "source": []
  },
  {
   "cell_type": "code",
   "execution_count": null,
   "id": "d211136d",
   "metadata": {},
   "outputs": [],
   "source": []
  },
  {
   "cell_type": "code",
   "execution_count": null,
   "id": "aa824285",
   "metadata": {},
   "outputs": [],
   "source": []
  },
  {
   "cell_type": "code",
   "execution_count": null,
   "id": "488dfd99",
   "metadata": {},
   "outputs": [],
   "source": []
  },
  {
   "cell_type": "code",
   "execution_count": null,
   "id": "100b61c1",
   "metadata": {},
   "outputs": [],
   "source": []
  },
  {
   "cell_type": "code",
   "execution_count": null,
   "id": "07680207",
   "metadata": {},
   "outputs": [],
   "source": []
  },
  {
   "cell_type": "code",
   "execution_count": null,
   "id": "cf871648",
   "metadata": {},
   "outputs": [],
   "source": []
  },
  {
   "cell_type": "code",
   "execution_count": null,
   "id": "f6f2111b",
   "metadata": {},
   "outputs": [],
   "source": []
  },
  {
   "cell_type": "code",
   "execution_count": null,
   "id": "e5d5187e",
   "metadata": {},
   "outputs": [],
   "source": []
  },
  {
   "cell_type": "code",
   "execution_count": null,
   "id": "c97482db",
   "metadata": {},
   "outputs": [],
   "source": []
  },
  {
   "cell_type": "code",
   "execution_count": null,
   "id": "5d3178f1",
   "metadata": {},
   "outputs": [],
   "source": []
  },
  {
   "cell_type": "code",
   "execution_count": null,
   "id": "e8102534",
   "metadata": {},
   "outputs": [],
   "source": []
  },
  {
   "cell_type": "code",
   "execution_count": null,
   "id": "fc258d8f",
   "metadata": {},
   "outputs": [],
   "source": []
  },
  {
   "cell_type": "code",
   "execution_count": null,
   "id": "b8468077",
   "metadata": {},
   "outputs": [],
   "source": []
  },
  {
   "cell_type": "code",
   "execution_count": null,
   "id": "c1287a7b",
   "metadata": {},
   "outputs": [],
   "source": []
  },
  {
   "cell_type": "code",
   "execution_count": null,
   "id": "0648172a",
   "metadata": {},
   "outputs": [],
   "source": []
  },
  {
   "cell_type": "code",
   "execution_count": null,
   "id": "21260e56",
   "metadata": {},
   "outputs": [],
   "source": []
  },
  {
   "cell_type": "code",
   "execution_count": null,
   "id": "cf18042e",
   "metadata": {},
   "outputs": [],
   "source": []
  },
  {
   "cell_type": "code",
   "execution_count": null,
   "id": "624d8006",
   "metadata": {},
   "outputs": [],
   "source": []
  },
  {
   "cell_type": "code",
   "execution_count": null,
   "id": "c0abd042",
   "metadata": {},
   "outputs": [],
   "source": []
  },
  {
   "cell_type": "code",
   "execution_count": null,
   "id": "e7a3f1ce",
   "metadata": {},
   "outputs": [],
   "source": []
  },
  {
   "cell_type": "code",
   "execution_count": null,
   "id": "137c4f65",
   "metadata": {},
   "outputs": [],
   "source": []
  },
  {
   "cell_type": "code",
   "execution_count": null,
   "id": "c6d6d69e",
   "metadata": {},
   "outputs": [],
   "source": []
  },
  {
   "cell_type": "code",
   "execution_count": null,
   "id": "e88b75c7",
   "metadata": {},
   "outputs": [],
   "source": []
  },
  {
   "cell_type": "code",
   "execution_count": null,
   "id": "b144e139",
   "metadata": {},
   "outputs": [],
   "source": []
  }
 ],
 "metadata": {
  "kernelspec": {
   "display_name": "Python (dojo-env)",
   "language": "python",
   "name": "dojo-env"
  },
  "language_info": {
   "codemirror_mode": {
    "name": "ipython",
    "version": 3
   },
   "file_extension": ".py",
   "mimetype": "text/x-python",
   "name": "python",
   "nbconvert_exporter": "python",
   "pygments_lexer": "ipython3",
   "version": "3.9.15"
  },
  "toc": {
   "base_numbering": 1,
   "nav_menu": {},
   "number_sections": false,
   "sideBar": true,
   "skip_h1_title": false,
   "title_cell": "Table of Contents",
   "title_sidebar": "Contents",
   "toc_cell": false,
   "toc_position": {
    "height": "calc(100% - 180px)",
    "left": "10px",
    "top": "150px",
    "width": "273.188px"
   },
   "toc_section_display": true,
   "toc_window_display": false
  }
 },
 "nbformat": 4,
 "nbformat_minor": 5
}
