{
 "cells": [
  {
   "cell_type": "markdown",
   "id": "8d823c83",
   "metadata": {},
   "source": [
    "## **Michelin Star Restaurants**"
   ]
  },
  {
   "cell_type": "markdown",
   "id": "4cf92973",
   "metadata": {},
   "source": [
    "## **Imports**"
   ]
  },
  {
   "cell_type": "code",
   "execution_count": 1,
   "id": "3c0f04fc",
   "metadata": {},
   "outputs": [],
   "source": [
    "#Numpy\n",
    "import numpy as np\n",
    "\n",
    "#Pandas\n",
    "import pandas as pd\n",
    "\n",
    "#Seaborn\n",
    "import seaborn as sns\n",
    "\n",
    "#matplotlib\n",
    "import matplotlib.pyplot as plt\n",
    "import plotly"
   ]
  },
  {
   "cell_type": "markdown",
   "id": "c45ddc61",
   "metadata": {},
   "source": [
    "### **Loading in Datasets**"
   ]
  },
  {
   "cell_type": "code",
   "execution_count": 2,
   "id": "064101c6",
   "metadata": {},
   "outputs": [],
   "source": [
    "m1 = pd.read_csv('one-star-michelin-restaurants.csv')\n",
    "m2 = pd.read_csv('two-stars-michelin-restaurants.csv')\n",
    "m3 = pd.read_csv('three-stars-michelin-restaurants.csv')"
   ]
  },
  {
   "cell_type": "code",
   "execution_count": 3,
   "id": "9936a600",
   "metadata": {
    "scrolled": true
   },
   "outputs": [
    {
     "name": "stdout",
     "output_type": "stream",
     "text": [
      "<class 'pandas.core.frame.DataFrame'>\n",
      "RangeIndex: 549 entries, 0 to 548\n",
      "Data columns (total 10 columns):\n",
      " #   Column     Non-Null Count  Dtype  \n",
      "---  ------     --------------  -----  \n",
      " 0   name       549 non-null    object \n",
      " 1   year       549 non-null    int64  \n",
      " 2   latitude   549 non-null    float64\n",
      " 3   longitude  549 non-null    float64\n",
      " 4   city       547 non-null    object \n",
      " 5   region     549 non-null    object \n",
      " 6   zipCode    400 non-null    object \n",
      " 7   cuisine    549 non-null    object \n",
      " 8   price      398 non-null    object \n",
      " 9   url        549 non-null    object \n",
      "dtypes: float64(2), int64(1), object(7)\n",
      "memory usage: 43.0+ KB\n"
     ]
    }
   ],
   "source": [
    "m1.info()"
   ]
  },
  {
   "cell_type": "code",
   "execution_count": 4,
   "id": "7eceee13",
   "metadata": {
    "scrolled": true
   },
   "outputs": [
    {
     "data": {
      "text/plain": [
       "New York         55\n",
       "San Francisco    42\n",
       "Hong Kong        42\n",
       "Singapore        34\n",
       "Bangkok          21\n",
       "                 ..\n",
       "Anstruther        1\n",
       "Peat Inn          1\n",
       "Dalry             1\n",
       "Waternish         1\n",
       "Fence             1\n",
       "Name: city, Length: 164, dtype: int64"
      ]
     },
     "execution_count": 4,
     "metadata": {},
     "output_type": "execute_result"
    }
   ],
   "source": [
    "m1['city'].value_counts()"
   ]
  },
  {
   "cell_type": "code",
   "execution_count": 5,
   "id": "573440fa",
   "metadata": {
    "scrolled": true
   },
   "outputs": [
    {
     "data": {
      "text/plain": [
       "$$$      129\n",
       "$$$$     124\n",
       "$$        67\n",
       "$$$$$     49\n",
       "$         29\n",
       "Name: price, dtype: int64"
      ]
     },
     "execution_count": 5,
     "metadata": {},
     "output_type": "execute_result"
    }
   ],
   "source": [
    "m1['price'].value_counts()"
   ]
  },
  {
   "cell_type": "code",
   "execution_count": 6,
   "id": "3aed353f",
   "metadata": {
    "scrolled": true
   },
   "outputs": [
    {
     "name": "stdout",
     "output_type": "stream",
     "text": [
      "<class 'pandas.core.frame.DataFrame'>\n",
      "RangeIndex: 110 entries, 0 to 109\n",
      "Data columns (total 10 columns):\n",
      " #   Column     Non-Null Count  Dtype  \n",
      "---  ------     --------------  -----  \n",
      " 0   name       110 non-null    object \n",
      " 1   year       110 non-null    int64  \n",
      " 2   latitude   110 non-null    float64\n",
      " 3   longitude  110 non-null    float64\n",
      " 4   city       110 non-null    object \n",
      " 5   region     110 non-null    object \n",
      " 6   zipCode    77 non-null     object \n",
      " 7   cuisine    110 non-null    object \n",
      " 8   price      90 non-null     object \n",
      " 9   url        110 non-null    object \n",
      "dtypes: float64(2), int64(1), object(7)\n",
      "memory usage: 8.7+ KB\n"
     ]
    }
   ],
   "source": [
    "m2.info()"
   ]
  },
  {
   "cell_type": "code",
   "execution_count": 7,
   "id": "6307151e",
   "metadata": {},
   "outputs": [
    {
     "data": {
      "text/plain": [
       "New York                  14\n",
       "Hong Kong                 12\n",
       "San Francisco              7\n",
       "Los Angeles                6\n",
       "Seoul                      5\n",
       "Taipei                     5\n",
       "Mayfair                    5\n",
       "Macau                      5\n",
       "Singapore                  5\n",
       "Bangkok                    4\n",
       "Wien                       4\n",
       "Chicago                    3\n",
       "København                  3\n",
       "Stockholm                  2\n",
       "Salzburg                   2\n",
       "North Kensington           2\n",
       "Washington, D.C.           2\n",
       "Great Milton               1\n",
       "Port Isaac                 1\n",
       "Nottingham                 1\n",
       "Cambridge                  1\n",
       "Cartmel                    1\n",
       "Marlow                     1\n",
       "Aughton                    1\n",
       "Summerhouse                1\n",
       "Bloomsbury                 1\n",
       "Hyde Park                  1\n",
       "Järpen                     1\n",
       "Auchterarder               1\n",
       "Skåne-Tranås               1\n",
       "Malmö                      1\n",
       "São Paulo - 01411          1\n",
       "São Paulo - 05416          1\n",
       "Rio de Janeiro - 22441     1\n",
       "City Centre                1\n",
       "Budapest                   1\n",
       "Athína                     1\n",
       "Henne                      1\n",
       "Leynar                     1\n",
       "South San Francisco        1\n",
       "Chelsea                    1\n",
       "Name: city, dtype: int64"
      ]
     },
     "execution_count": 7,
     "metadata": {},
     "output_type": "execute_result"
    }
   ],
   "source": [
    "m2['city'].value_counts()"
   ]
  },
  {
   "cell_type": "code",
   "execution_count": 8,
   "id": "dd5d33b5",
   "metadata": {},
   "outputs": [
    {
     "name": "stdout",
     "output_type": "stream",
     "text": [
      "<class 'pandas.core.frame.DataFrame'>\n",
      "RangeIndex: 36 entries, 0 to 35\n",
      "Data columns (total 10 columns):\n",
      " #   Column     Non-Null Count  Dtype  \n",
      "---  ------     --------------  -----  \n",
      " 0   name       36 non-null     object \n",
      " 1   year       36 non-null     int64  \n",
      " 2   latitude   36 non-null     float64\n",
      " 3   longitude  36 non-null     float64\n",
      " 4   city       36 non-null     object \n",
      " 5   region     36 non-null     object \n",
      " 6   zipCode    24 non-null     object \n",
      " 7   cuisine    36 non-null     object \n",
      " 8   price      31 non-null     object \n",
      " 9   url        36 non-null     object \n",
      "dtypes: float64(2), int64(1), object(7)\n",
      "memory usage: 2.9+ KB\n"
     ]
    }
   ],
   "source": [
    "m3.info()"
   ]
  },
  {
   "cell_type": "code",
   "execution_count": 9,
   "id": "ee5e048f",
   "metadata": {},
   "outputs": [
    {
     "data": {
      "text/plain": [
       "Hong Kong              7\n",
       "San Francisco          6\n",
       "New York               5\n",
       "Macau                  3\n",
       "Seoul                  2\n",
       "Bray                   2\n",
       "Mayfair                2\n",
       "Wien                   1\n",
       "South San Francisco    1\n",
       "Chicago                1\n",
       "København              1\n",
       "Oslo                   1\n",
       "Stockholm              1\n",
       "Taipei                 1\n",
       "Washington, D.C.       1\n",
       "Chelsea                1\n",
       "Name: city, dtype: int64"
      ]
     },
     "execution_count": 9,
     "metadata": {},
     "output_type": "execute_result"
    }
   ],
   "source": [
    "m3['city'].value_counts()"
   ]
  }
 ],
 "metadata": {
  "kernelspec": {
   "display_name": "Python (dojo-env)",
   "language": "python",
   "name": "dojo-env"
  },
  "language_info": {
   "codemirror_mode": {
    "name": "ipython",
    "version": 3
   },
   "file_extension": ".py",
   "mimetype": "text/x-python",
   "name": "python",
   "nbconvert_exporter": "python",
   "pygments_lexer": "ipython3",
   "version": "3.9.15"
  },
  "toc": {
   "base_numbering": 1,
   "nav_menu": {},
   "number_sections": false,
   "sideBar": true,
   "skip_h1_title": false,
   "title_cell": "Table of Contents",
   "title_sidebar": "Contents",
   "toc_cell": false,
   "toc_position": {},
   "toc_section_display": true,
   "toc_window_display": false
  }
 },
 "nbformat": 4,
 "nbformat_minor": 5
}
