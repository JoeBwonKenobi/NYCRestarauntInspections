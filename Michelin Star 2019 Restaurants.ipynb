{
 "cells": [
  {
   "cell_type": "markdown",
   "id": "8d823c83",
   "metadata": {},
   "source": [
    "## **Michelin Star Restaurants**"
   ]
  },
  {
   "cell_type": "markdown",
   "id": "4cf92973",
   "metadata": {},
   "source": [
    "## **Imports**"
   ]
  },
  {
   "cell_type": "code",
   "execution_count": 1,
   "id": "3c0f04fc",
   "metadata": {},
   "outputs": [],
   "source": [
    "#Numpy\n",
    "import numpy as np\n",
    "\n",
    "#Pandas\n",
    "import pandas as pd\n",
    "\n",
    "#Seaborn\n",
    "import seaborn as sns\n",
    "\n",
    "#matplotlib\n",
    "import matplotlib.pyplot as plt\n",
    "import plotly\n",
    "\n",
    "#Geospacial\n",
    "import folium"
   ]
  },
  {
   "cell_type": "markdown",
   "id": "357e0649",
   "metadata": {},
   "source": [
    "## **Objective**"
   ]
  },
  {
   "cell_type": "markdown",
   "id": "b420ed83",
   "metadata": {},
   "source": [
    "The objective of this part of the project is to create a subset of the Michelin Star Restaurants(1,2,&3 stars together) that are in the inspections data, and find out what the most common violations are for each star rating. Also to find out which teir of stars have better ratings overall, and which boro had the highest scores for Michelin Star Restaurants."
   ]
  },
  {
   "cell_type": "markdown",
   "id": "c45ddc61",
   "metadata": {},
   "source": [
    "### **Loading in Datasets**"
   ]
  },
  {
   "cell_type": "code",
   "execution_count": 2,
   "id": "064101c6",
   "metadata": {},
   "outputs": [],
   "source": [
    "m1 = pd.read_csv('one-star-michelin-restaurants.csv')\n",
    "m2 = pd.read_csv('two-stars-michelin-restaurants.csv')\n",
    "m3 = pd.read_csv('three-stars-michelin-restaurants.csv')"
   ]
  },
  {
   "cell_type": "code",
   "execution_count": 3,
   "id": "9936a600",
   "metadata": {
    "scrolled": true
   },
   "outputs": [
    {
     "name": "stdout",
     "output_type": "stream",
     "text": [
      "<class 'pandas.core.frame.DataFrame'>\n",
      "RangeIndex: 549 entries, 0 to 548\n",
      "Data columns (total 10 columns):\n",
      " #   Column     Non-Null Count  Dtype  \n",
      "---  ------     --------------  -----  \n",
      " 0   name       549 non-null    object \n",
      " 1   year       549 non-null    int64  \n",
      " 2   latitude   549 non-null    float64\n",
      " 3   longitude  549 non-null    float64\n",
      " 4   city       547 non-null    object \n",
      " 5   region     549 non-null    object \n",
      " 6   zipCode    400 non-null    object \n",
      " 7   cuisine    549 non-null    object \n",
      " 8   price      398 non-null    object \n",
      " 9   url        549 non-null    object \n",
      "dtypes: float64(2), int64(1), object(7)\n",
      "memory usage: 43.0+ KB\n"
     ]
    }
   ],
   "source": [
    "m1.info()"
   ]
  },
  {
   "cell_type": "code",
   "execution_count": 4,
   "id": "3aed353f",
   "metadata": {
    "scrolled": true
   },
   "outputs": [
    {
     "name": "stdout",
     "output_type": "stream",
     "text": [
      "<class 'pandas.core.frame.DataFrame'>\n",
      "RangeIndex: 110 entries, 0 to 109\n",
      "Data columns (total 10 columns):\n",
      " #   Column     Non-Null Count  Dtype  \n",
      "---  ------     --------------  -----  \n",
      " 0   name       110 non-null    object \n",
      " 1   year       110 non-null    int64  \n",
      " 2   latitude   110 non-null    float64\n",
      " 3   longitude  110 non-null    float64\n",
      " 4   city       110 non-null    object \n",
      " 5   region     110 non-null    object \n",
      " 6   zipCode    77 non-null     object \n",
      " 7   cuisine    110 non-null    object \n",
      " 8   price      90 non-null     object \n",
      " 9   url        110 non-null    object \n",
      "dtypes: float64(2), int64(1), object(7)\n",
      "memory usage: 8.7+ KB\n"
     ]
    }
   ],
   "source": [
    "m2.info()"
   ]
  },
  {
   "cell_type": "code",
   "execution_count": 5,
   "id": "6307151e",
   "metadata": {},
   "outputs": [
    {
     "data": {
      "text/plain": [
       "New York                  14\n",
       "Hong Kong                 12\n",
       "San Francisco              7\n",
       "Los Angeles                6\n",
       "Seoul                      5\n",
       "Taipei                     5\n",
       "Mayfair                    5\n",
       "Macau                      5\n",
       "Singapore                  5\n",
       "Bangkok                    4\n",
       "Wien                       4\n",
       "Chicago                    3\n",
       "København                  3\n",
       "Stockholm                  2\n",
       "Salzburg                   2\n",
       "North Kensington           2\n",
       "Washington, D.C.           2\n",
       "Great Milton               1\n",
       "Port Isaac                 1\n",
       "Nottingham                 1\n",
       "Cambridge                  1\n",
       "Cartmel                    1\n",
       "Marlow                     1\n",
       "Aughton                    1\n",
       "Summerhouse                1\n",
       "Bloomsbury                 1\n",
       "Hyde Park                  1\n",
       "Järpen                     1\n",
       "Auchterarder               1\n",
       "Skåne-Tranås               1\n",
       "Malmö                      1\n",
       "São Paulo - 01411          1\n",
       "São Paulo - 05416          1\n",
       "Rio de Janeiro - 22441     1\n",
       "City Centre                1\n",
       "Budapest                   1\n",
       "Athína                     1\n",
       "Henne                      1\n",
       "Leynar                     1\n",
       "South San Francisco        1\n",
       "Chelsea                    1\n",
       "Name: city, dtype: int64"
      ]
     },
     "execution_count": 5,
     "metadata": {},
     "output_type": "execute_result"
    }
   ],
   "source": [
    "m2['city'].value_counts()"
   ]
  },
  {
   "cell_type": "code",
   "execution_count": 6,
   "id": "dd5d33b5",
   "metadata": {},
   "outputs": [
    {
     "name": "stdout",
     "output_type": "stream",
     "text": [
      "<class 'pandas.core.frame.DataFrame'>\n",
      "RangeIndex: 36 entries, 0 to 35\n",
      "Data columns (total 10 columns):\n",
      " #   Column     Non-Null Count  Dtype  \n",
      "---  ------     --------------  -----  \n",
      " 0   name       36 non-null     object \n",
      " 1   year       36 non-null     int64  \n",
      " 2   latitude   36 non-null     float64\n",
      " 3   longitude  36 non-null     float64\n",
      " 4   city       36 non-null     object \n",
      " 5   region     36 non-null     object \n",
      " 6   zipCode    24 non-null     object \n",
      " 7   cuisine    36 non-null     object \n",
      " 8   price      31 non-null     object \n",
      " 9   url        36 non-null     object \n",
      "dtypes: float64(2), int64(1), object(7)\n",
      "memory usage: 2.9+ KB\n"
     ]
    }
   ],
   "source": [
    "m3.info()"
   ]
  },
  {
   "cell_type": "code",
   "execution_count": 7,
   "id": "ee5e048f",
   "metadata": {
    "scrolled": true
   },
   "outputs": [
    {
     "data": {
      "text/plain": [
       "Hong Kong              7\n",
       "San Francisco          6\n",
       "New York               5\n",
       "Macau                  3\n",
       "Seoul                  2\n",
       "Bray                   2\n",
       "Mayfair                2\n",
       "Wien                   1\n",
       "South San Francisco    1\n",
       "Chicago                1\n",
       "København              1\n",
       "Oslo                   1\n",
       "Stockholm              1\n",
       "Taipei                 1\n",
       "Washington, D.C.       1\n",
       "Chelsea                1\n",
       "Name: city, dtype: int64"
      ]
     },
     "execution_count": 7,
     "metadata": {},
     "output_type": "execute_result"
    }
   ],
   "source": [
    "m3['city'].value_counts()"
   ]
  },
  {
   "cell_type": "markdown",
   "id": "63e7bc26",
   "metadata": {},
   "source": [
    "## **Combining the Michelin Star Datasets**"
   ]
  },
  {
   "cell_type": "code",
   "execution_count": 8,
   "id": "b62ef679",
   "metadata": {},
   "outputs": [],
   "source": [
    "# Add a 'stars' column to each DataFrame\n",
    "m1['stars'] = 1\n",
    "m2['stars'] = 2\n",
    "m3['stars'] = 3"
   ]
  },
  {
   "cell_type": "code",
   "execution_count": 9,
   "id": "fcb5ac56",
   "metadata": {},
   "outputs": [],
   "source": [
    "# Concatenate the three datasets into one\n",
    "all_stars_df = pd.concat([m1, m2, m3], ignore_index=True)"
   ]
  },
  {
   "cell_type": "code",
   "execution_count": 10,
   "id": "e292e54a",
   "metadata": {
    "scrolled": false
   },
   "outputs": [
    {
     "name": "stdout",
     "output_type": "stream",
     "text": [
      "<class 'pandas.core.frame.DataFrame'>\n",
      "RangeIndex: 695 entries, 0 to 694\n",
      "Data columns (total 11 columns):\n",
      " #   Column     Non-Null Count  Dtype  \n",
      "---  ------     --------------  -----  \n",
      " 0   name       695 non-null    object \n",
      " 1   year       695 non-null    int64  \n",
      " 2   latitude   695 non-null    float64\n",
      " 3   longitude  695 non-null    float64\n",
      " 4   city       693 non-null    object \n",
      " 5   region     695 non-null    object \n",
      " 6   zipCode    501 non-null    object \n",
      " 7   cuisine    695 non-null    object \n",
      " 8   price      519 non-null    object \n",
      " 9   url        695 non-null    object \n",
      " 10  stars      695 non-null    int64  \n",
      "dtypes: float64(2), int64(2), object(7)\n",
      "memory usage: 59.9+ KB\n"
     ]
    }
   ],
   "source": [
    "# Viewing the dataset now with the stars column added\n",
    "all_stars_df.info()"
   ]
  },
  {
   "cell_type": "code",
   "execution_count": 11,
   "id": "341075cb",
   "metadata": {},
   "outputs": [
    {
     "data": {
      "text/html": [
       "<div>\n",
       "<style scoped>\n",
       "    .dataframe tbody tr th:only-of-type {\n",
       "        vertical-align: middle;\n",
       "    }\n",
       "\n",
       "    .dataframe tbody tr th {\n",
       "        vertical-align: top;\n",
       "    }\n",
       "\n",
       "    .dataframe thead th {\n",
       "        text-align: right;\n",
       "    }\n",
       "</style>\n",
       "<table border=\"1\" class=\"dataframe\">\n",
       "  <thead>\n",
       "    <tr style=\"text-align: right;\">\n",
       "      <th></th>\n",
       "      <th>name</th>\n",
       "      <th>year</th>\n",
       "      <th>latitude</th>\n",
       "      <th>longitude</th>\n",
       "      <th>city</th>\n",
       "      <th>region</th>\n",
       "      <th>zipCode</th>\n",
       "      <th>cuisine</th>\n",
       "      <th>price</th>\n",
       "      <th>url</th>\n",
       "      <th>stars</th>\n",
       "    </tr>\n",
       "  </thead>\n",
       "  <tbody>\n",
       "    <tr>\n",
       "      <th>0</th>\n",
       "      <td>Kilian Stuba</td>\n",
       "      <td>2019</td>\n",
       "      <td>47.348580</td>\n",
       "      <td>10.17114</td>\n",
       "      <td>Kleinwalsertal</td>\n",
       "      <td>Austria</td>\n",
       "      <td>87568</td>\n",
       "      <td>Creative</td>\n",
       "      <td>$$$$$</td>\n",
       "      <td>https://guide.michelin.com/at/en/vorarlberg/kl...</td>\n",
       "      <td>1</td>\n",
       "    </tr>\n",
       "    <tr>\n",
       "      <th>1</th>\n",
       "      <td>Pfefferschiff</td>\n",
       "      <td>2019</td>\n",
       "      <td>47.837870</td>\n",
       "      <td>13.07917</td>\n",
       "      <td>Hallwang</td>\n",
       "      <td>Austria</td>\n",
       "      <td>5300</td>\n",
       "      <td>Classic cuisine</td>\n",
       "      <td>$$$$$</td>\n",
       "      <td>https://guide.michelin.com/at/en/salzburg-regi...</td>\n",
       "      <td>1</td>\n",
       "    </tr>\n",
       "    <tr>\n",
       "      <th>2</th>\n",
       "      <td>Esszimmer</td>\n",
       "      <td>2019</td>\n",
       "      <td>47.806850</td>\n",
       "      <td>13.03409</td>\n",
       "      <td>Salzburg</td>\n",
       "      <td>Austria</td>\n",
       "      <td>5020</td>\n",
       "      <td>Creative</td>\n",
       "      <td>$$$$$</td>\n",
       "      <td>https://guide.michelin.com/at/en/salzburg-regi...</td>\n",
       "      <td>1</td>\n",
       "    </tr>\n",
       "    <tr>\n",
       "      <th>3</th>\n",
       "      <td>Carpe Diem</td>\n",
       "      <td>2019</td>\n",
       "      <td>47.800010</td>\n",
       "      <td>13.04006</td>\n",
       "      <td>Salzburg</td>\n",
       "      <td>Austria</td>\n",
       "      <td>5020</td>\n",
       "      <td>Market cuisine</td>\n",
       "      <td>$$$$$</td>\n",
       "      <td>https://guide.michelin.com/at/en/salzburg-regi...</td>\n",
       "      <td>1</td>\n",
       "    </tr>\n",
       "    <tr>\n",
       "      <th>4</th>\n",
       "      <td>Edvard</td>\n",
       "      <td>2019</td>\n",
       "      <td>48.216503</td>\n",
       "      <td>16.36852</td>\n",
       "      <td>Wien</td>\n",
       "      <td>Austria</td>\n",
       "      <td>1010</td>\n",
       "      <td>Modern cuisine</td>\n",
       "      <td>$$$$</td>\n",
       "      <td>https://guide.michelin.com/at/en/vienna/wien/r...</td>\n",
       "      <td>1</td>\n",
       "    </tr>\n",
       "  </tbody>\n",
       "</table>\n",
       "</div>"
      ],
      "text/plain": [
       "            name  year   latitude  longitude            city   region zipCode  \\\n",
       "0   Kilian Stuba  2019  47.348580   10.17114  Kleinwalsertal  Austria   87568   \n",
       "1  Pfefferschiff  2019  47.837870   13.07917        Hallwang  Austria    5300   \n",
       "2      Esszimmer  2019  47.806850   13.03409        Salzburg  Austria    5020   \n",
       "3     Carpe Diem  2019  47.800010   13.04006        Salzburg  Austria    5020   \n",
       "4         Edvard  2019  48.216503   16.36852            Wien  Austria    1010   \n",
       "\n",
       "           cuisine  price                                                url  \\\n",
       "0         Creative  $$$$$  https://guide.michelin.com/at/en/vorarlberg/kl...   \n",
       "1  Classic cuisine  $$$$$  https://guide.michelin.com/at/en/salzburg-regi...   \n",
       "2         Creative  $$$$$  https://guide.michelin.com/at/en/salzburg-regi...   \n",
       "3   Market cuisine  $$$$$  https://guide.michelin.com/at/en/salzburg-regi...   \n",
       "4   Modern cuisine   $$$$  https://guide.michelin.com/at/en/vienna/wien/r...   \n",
       "\n",
       "   stars  \n",
       "0      1  \n",
       "1      1  \n",
       "2      1  \n",
       "3      1  \n",
       "4      1  "
      ]
     },
     "execution_count": 11,
     "metadata": {},
     "output_type": "execute_result"
    }
   ],
   "source": [
    "all_stars_df.head()"
   ]
  },
  {
   "cell_type": "code",
   "execution_count": 12,
   "id": "61cd5835",
   "metadata": {
    "scrolled": true
   },
   "outputs": [
    {
     "data": {
      "text/plain": [
       "name           0\n",
       "year           0\n",
       "latitude       0\n",
       "longitude      0\n",
       "city           2\n",
       "region         0\n",
       "zipCode      194\n",
       "cuisine        0\n",
       "price        176\n",
       "url            0\n",
       "stars          0\n",
       "dtype: int64"
      ]
     },
     "execution_count": 12,
     "metadata": {},
     "output_type": "execute_result"
    }
   ],
   "source": [
    "all_stars_df.isna().sum()"
   ]
  },
  {
   "cell_type": "markdown",
   "id": "f2850560",
   "metadata": {},
   "source": [
    "## **Function dropping missing data**"
   ]
  },
  {
   "cell_type": "code",
   "execution_count": 13,
   "id": "9e2b7fd3",
   "metadata": {
    "scrolled": true
   },
   "outputs": [
    {
     "name": "stdout",
     "output_type": "stream",
     "text": [
      "Columns 'zipCode' and 'price' dropped successfully.\n"
     ]
    }
   ],
   "source": [
    "# Function to drop columns with too much missing data to be relevant\n",
    "def drop_columns(all_stars_df):\n",
    "    # Check if 'zipcode' and 'price' columns exist in the dataframe\n",
    "    if 'zipCode' in all_stars_df.columns and 'price' in all_stars_df.columns:\n",
    "        # Drop the specified columns\n",
    "        dataframe = all_stars_df.drop(['zipCode', 'price'], axis=1)\n",
    "        print(\"Columns 'zipCode' and 'price' dropped successfully.\")\n",
    "    else:\n",
    "        print(\"Columns 'zipCode' and 'price' not found.\")\n",
    "\n",
    "# Example usage:\n",
    "# Assuming 'your_dataframe' is the name of your DataFrame\n",
    "drop_columns(all_stars_df)"
   ]
  },
  {
   "cell_type": "markdown",
   "id": "84de0b3b",
   "metadata": {},
   "source": [
    "## **Filtering the restaurants in NYC out**"
   ]
  },
  {
   "cell_type": "code",
   "execution_count": 14,
   "id": "a1416a41",
   "metadata": {},
   "outputs": [
    {
     "name": "stdout",
     "output_type": "stream",
     "text": [
      "                              name  year   latitude  longitude      city  \\\n",
      "204                      Del Posto  2019  40.743270  -74.00770  New York   \n",
      "205      Le Grill de Joël Robuchon  2019  40.742897  -74.00770  New York   \n",
      "206                       L'Appart  2019  40.711903  -74.01544  New York   \n",
      "207                          Okuda  2019  40.743793  -74.00633  New York   \n",
      "208                         Wallsé  2019  40.735380  -74.00814  New York   \n",
      "..                             ...   ...        ...        ...       ...   \n",
      "680                           Masa  2019  40.768550  -73.98335  New York   \n",
      "681                         Per Se  2019  40.768280  -73.98292  New York   \n",
      "682                   Le Bernardin  2019  40.761770  -73.98223  New York   \n",
      "683            Eleven Madison Park  2019  40.741700  -73.98712  New York   \n",
      "684  Chef's Table at Brooklyn Fare  2019  40.688720  -73.98581  New York   \n",
      "\n",
      "            region zipCode       cuisine price  \\\n",
      "204  New York City   10011       Italian  $$$$   \n",
      "205  New York City     NaN        French  $$$$   \n",
      "206  New York City   10281        French  $$$$   \n",
      "207  New York City     NaN      Japanese  $$$$   \n",
      "208  New York City   10014      Austrian  $$$$   \n",
      "..             ...     ...           ...   ...   \n",
      "680  New York City   10019      Japanese  $$$$   \n",
      "681  New York City   10019  Contemporary  $$$$   \n",
      "682  New York City   10019       Seafood  $$$$   \n",
      "683  New York City   10010  Contemporary  $$$$   \n",
      "684  New York City   10018  Contemporary  $$$$   \n",
      "\n",
      "                                                   url  stars  \n",
      "204  https://guide.michelin.com/us/en/new-york-stat...      1  \n",
      "205  https://guide.michelin.com/us/en/new-york-stat...      1  \n",
      "206  https://guide.michelin.com/us/en/new-york-stat...      1  \n",
      "207  https://guide.michelin.com/us/en/new-york-stat...      1  \n",
      "208  https://guide.michelin.com/us/en/new-york-stat...      1  \n",
      "..                                                 ...    ...  \n",
      "680  https://guide.michelin.com/us/en/new-york-stat...      3  \n",
      "681  https://guide.michelin.com/us/en/new-york-stat...      3  \n",
      "682  https://guide.michelin.com/us/en/new-york-stat...      3  \n",
      "683  https://guide.michelin.com/us/en/new-york-stat...      3  \n",
      "684  https://guide.michelin.com/us/en/new-york-stat...      3  \n",
      "\n",
      "[74 rows x 11 columns]\n"
     ]
    }
   ],
   "source": [
    "# Filter for restaurants in New York City\n",
    "nyc_restaurants = all_stars_df[all_stars_df['city'] == 'New York']\n",
    "print(nyc_restaurants)"
   ]
  },
  {
   "cell_type": "code",
   "execution_count": 15,
   "id": "fbe9102e",
   "metadata": {
    "scrolled": false
   },
   "outputs": [],
   "source": [
    "# Filter for Michelin star restaurants in New York\n",
    "msny = all_stars_df[(all_stars_df['city'] == 'New York')]"
   ]
  },
  {
   "cell_type": "code",
   "execution_count": 16,
   "id": "1a0763de",
   "metadata": {
    "scrolled": false
   },
   "outputs": [
    {
     "name": "stdout",
     "output_type": "stream",
     "text": [
      "                              name  year   latitude  longitude      city  \\\n",
      "204                      Del Posto  2019  40.743270  -74.00770  New York   \n",
      "205      Le Grill de Joël Robuchon  2019  40.742897  -74.00770  New York   \n",
      "206                       L'Appart  2019  40.711903  -74.01544  New York   \n",
      "207                          Okuda  2019  40.743793  -74.00633  New York   \n",
      "208                         Wallsé  2019  40.735380  -74.00814  New York   \n",
      "..                             ...   ...        ...        ...       ...   \n",
      "680                           Masa  2019  40.768550  -73.98335  New York   \n",
      "681                         Per Se  2019  40.768280  -73.98292  New York   \n",
      "682                   Le Bernardin  2019  40.761770  -73.98223  New York   \n",
      "683            Eleven Madison Park  2019  40.741700  -73.98712  New York   \n",
      "684  Chef's Table at Brooklyn Fare  2019  40.688720  -73.98581  New York   \n",
      "\n",
      "            region zipCode       cuisine price  \\\n",
      "204  New York City   10011       Italian  $$$$   \n",
      "205  New York City     NaN        French  $$$$   \n",
      "206  New York City   10281        French  $$$$   \n",
      "207  New York City     NaN      Japanese  $$$$   \n",
      "208  New York City   10014      Austrian  $$$$   \n",
      "..             ...     ...           ...   ...   \n",
      "680  New York City   10019      Japanese  $$$$   \n",
      "681  New York City   10019  Contemporary  $$$$   \n",
      "682  New York City   10019       Seafood  $$$$   \n",
      "683  New York City   10010  Contemporary  $$$$   \n",
      "684  New York City   10018  Contemporary  $$$$   \n",
      "\n",
      "                                                   url  stars  \n",
      "204  https://guide.michelin.com/us/en/new-york-stat...      1  \n",
      "205  https://guide.michelin.com/us/en/new-york-stat...      1  \n",
      "206  https://guide.michelin.com/us/en/new-york-stat...      1  \n",
      "207  https://guide.michelin.com/us/en/new-york-stat...      1  \n",
      "208  https://guide.michelin.com/us/en/new-york-stat...      1  \n",
      "..                                                 ...    ...  \n",
      "680  https://guide.michelin.com/us/en/new-york-stat...      3  \n",
      "681  https://guide.michelin.com/us/en/new-york-stat...      3  \n",
      "682  https://guide.michelin.com/us/en/new-york-stat...      3  \n",
      "683  https://guide.michelin.com/us/en/new-york-stat...      3  \n",
      "684  https://guide.michelin.com/us/en/new-york-stat...      3  \n",
      "\n",
      "[74 rows x 11 columns]\n"
     ]
    }
   ],
   "source": [
    "#Looking to make sure only NYC restaurants were included\n",
    "print(msny)"
   ]
  },
  {
   "cell_type": "code",
   "execution_count": 17,
   "id": "e3e62496",
   "metadata": {},
   "outputs": [],
   "source": [
    "nyc_restaurants = msny"
   ]
  },
  {
   "cell_type": "code",
   "execution_count": 18,
   "id": "fb8dd270",
   "metadata": {},
   "outputs": [],
   "source": [
    "# Save the filtered dataset to a new CSV file\n",
    "nyc_restaurants.to_csv(\"nyc_michelin_star_restaurants\", index=False)"
   ]
  },
  {
   "cell_type": "markdown",
   "id": "9d37e8ad",
   "metadata": {},
   "source": [
    "## **Filtering out the names of Michelin Star Restaurants in the Inspections Data** "
   ]
  },
  {
   "cell_type": "code",
   "execution_count": 19,
   "id": "c166d993",
   "metadata": {},
   "outputs": [],
   "source": [
    "# Function to retrive list of Restaurant names from Michelin Star dataset to filter out of Inspections data\n",
    "def compile_unique_restaurant_names(nyc_michelin_star_restaurants, name):\n",
    "    \"\"\"\n",
    "    Compiles a list of unique restaurant names from a given dataset.\n",
    "\n",
    "    Args:\n",
    "    - dataset_filename (str): The filename of the dataset containing restaurant names.\n",
    "    - restaurant_name_column (str): The name of the column in the dataset that contains restaurant names.\n",
    "\n",
    "    Returns:\n",
    "    - List of unique restaurant names.\n",
    "    \"\"\"\n",
    "    # Get a list of unique restaurant names\n",
    "    unique_names = nyc_restaurants[name].unique()\n",
    "\n",
    "    return unique_names"
   ]
  },
  {
   "cell_type": "code",
   "execution_count": 20,
   "id": "6fc4f307",
   "metadata": {
    "scrolled": true
   },
   "outputs": [],
   "source": [
    "#Names list\n",
    "names_list = compile_unique_restaurant_names(nyc_restaurants, 'name')"
   ]
  },
  {
   "cell_type": "code",
   "execution_count": 21,
   "id": "bc75a40c",
   "metadata": {
    "scrolled": true
   },
   "outputs": [
    {
     "name": "stdout",
     "output_type": "stream",
     "text": [
      "['Del Posto' 'Le Grill de Joël Robuchon' \"L'Appart\" 'Okuda' 'Wallsé'\n",
      " 'Jeju Noodle Bar' 'Sushi Nakazawa' 'Kosaka' 'Bâtard' 'Hirohisa'\n",
      " 'Blue Hill' \"ZZ's Clam Bar\" 'Babbo' 'Carbone' 'Le Coucou' 'Aldea' 'Cote'\n",
      " 'Bouley at Home' 'Gotham Bar and Grill' 'Nix' 'Junoon' 'NoMad'\n",
      " 'The Musket Room' 'Uncle Boons' 'Noda' 'Gramercy Tavern' 'The Clocktower'\n",
      " 'Ai Fiori' 'Casa Mono' 'Jewel Bako' 'The River Café' 'Bar Uchū'\n",
      " 'Café China' 'Kanoyama' 'Contra' 'Atomix' 'Kyo Ya' 'Kajitsu' 'Agern'\n",
      " 'Caviar Russe' 'Tuome' 'Tempura Matsui' 'Sushi Yasuda' 'Sushi Amane'\n",
      " 'Café Boulud' 'Claro' 'Satsuki' 'Sushi Noz' 'Sushi Inoue' 'Meadowsweet'\n",
      " 'Casa Enríque' 'Peter Luger' 'Oxomoco' 'The Finch' 'Faro'\n",
      " \"L'Atelier de Joël Robuchon\" 'Jungsik' 'Atera' 'Jean-Georges' 'Marea'\n",
      " 'Gabriel Kreuther' 'Ichimura at Uchū' 'Sushi Ginza Onodera' 'Ko'\n",
      " 'The Modern' 'Aquavit' 'Daniel' 'Aska' 'Blanca' 'Masa' 'Per Se'\n",
      " 'Le Bernardin' 'Eleven Madison Park' \"Chef's Table at Brooklyn Fare\"]\n"
     ]
    }
   ],
   "source": [
    "#Looking at the names of Michelin star Restaurants in NYC\n",
    "print(names_list)"
   ]
  },
  {
   "cell_type": "code",
   "execution_count": 22,
   "id": "cba7919a",
   "metadata": {},
   "outputs": [],
   "source": [
    "NL = ['Del Posto' 'Le Grill de Joël Robuchon' \"L'Appart\" 'Okuda' 'Wallsé'\n",
    " 'Jeju Noodle Bar' 'Sushi Nakazawa' 'Kosaka' 'Bâtard' 'Hirohisa'\n",
    " 'Blue Hill' \"ZZ's Clam Bar\" 'Babbo' 'Carbone' 'Le Coucou' 'Aldea' 'Cote'\n",
    " 'Bouley at Home' 'Gotham Bar and Grill' 'Nix' 'Junoon' 'NoMad'\n",
    " 'The Musket Room' 'Uncle Boons' 'Noda' 'Gramercy Tavern' 'The Clocktower'\n",
    " 'Ai Fiori' 'Casa Mono' 'Jewel Bako' 'The River Café' 'Bar Uchū'\n",
    " 'Café China' 'Kanoyama' 'Contra' 'Atomix' 'Kyo Ya' 'Kajitsu' 'Agern'\n",
    " 'Caviar Russe' 'Tuome' 'Tempura Matsui' 'Sushi Yasuda' 'Sushi Amane'\n",
    " 'Café Boulud' 'Claro' 'Satsuki' 'Sushi Noz' 'Sushi Inoue' 'Meadowsweet'\n",
    " 'Casa Enríque' 'Peter Luger' 'Oxomoco' 'The Finch' 'Faro'\n",
    " \"L'Atelier de Joël Robuchon\" 'Jungsik' 'Atera' 'Jean-Georges' 'Marea'\n",
    " 'Gabriel Kreuther' 'Ichimura at Uchū' 'Sushi Ginza Onodera' 'Ko'\n",
    " 'The Modern' 'Aquavit' 'Daniel' 'Aska' 'Blanca' 'Masa' 'Per Se'\n",
    " 'Le Bernardin' 'Eleven Madison Park' \"Chef's Table at Brooklyn Fare\"]"
   ]
  },
  {
   "cell_type": "markdown",
   "id": "670f1d30",
   "metadata": {},
   "source": [
    "The problem moving forward is that the restaurants appearing in the Michelin Star data, do not appear in the inspections data"
   ]
  },
  {
   "cell_type": "markdown",
   "id": "27b46602",
   "metadata": {},
   "source": [
    "## **Loading in Inspections Data**"
   ]
  },
  {
   "cell_type": "code",
   "execution_count": 23,
   "id": "5bfb00de",
   "metadata": {},
   "outputs": [],
   "source": [
    "# Loading NYC Restaurant Data\n",
    "rdf = pd.read_csv('rdf')"
   ]
  },
  {
   "cell_type": "code",
   "execution_count": 24,
   "id": "2c24bf93",
   "metadata": {
    "scrolled": false
   },
   "outputs": [
    {
     "name": "stdout",
     "output_type": "stream",
     "text": [
      "<class 'pandas.core.frame.DataFrame'>\n",
      "RangeIndex: 208342 entries, 0 to 208341\n",
      "Data columns (total 19 columns):\n",
      " #   Column                 Non-Null Count   Dtype  \n",
      "---  ------                 --------------   -----  \n",
      " 0   CAMIS                  208342 non-null  int64  \n",
      " 1   DBA                    207813 non-null  object \n",
      " 2   BORO                   208342 non-null  object \n",
      " 3   BUILDING               207986 non-null  object \n",
      " 4   STREET                 208334 non-null  object \n",
      " 5   ZIPCODE                205666 non-null  float64\n",
      " 6   CUISINE DESCRIPTION    206020 non-null  object \n",
      " 7   INSPECTION DATE        208342 non-null  object \n",
      " 8   ACTION                 206020 non-null  object \n",
      " 9   VIOLATION CODE         204869 non-null  object \n",
      " 10  VIOLATION DESCRIPTION  204869 non-null  object \n",
      " 11  CRITICAL FLAG          208342 non-null  object \n",
      " 12  SCORE                  198599 non-null  float64\n",
      " 13  GRADE                  102313 non-null  object \n",
      " 14  GRADE DATE             93639 non-null   object \n",
      " 15  INSPECTION TYPE        206020 non-null  object \n",
      " 16  Latitude               208080 non-null  float64\n",
      " 17  Longitude              208080 non-null  float64\n",
      " 18  Council District       205088 non-null  float64\n",
      "dtypes: float64(5), int64(1), object(13)\n",
      "memory usage: 30.2+ MB\n"
     ]
    }
   ],
   "source": [
    "rdf.info()"
   ]
  },
  {
   "cell_type": "code",
   "execution_count": 25,
   "id": "7081ffdf",
   "metadata": {},
   "outputs": [
    {
     "data": {
      "text/html": [
       "<div>\n",
       "<style scoped>\n",
       "    .dataframe tbody tr th:only-of-type {\n",
       "        vertical-align: middle;\n",
       "    }\n",
       "\n",
       "    .dataframe tbody tr th {\n",
       "        vertical-align: top;\n",
       "    }\n",
       "\n",
       "    .dataframe thead th {\n",
       "        text-align: right;\n",
       "    }\n",
       "</style>\n",
       "<table border=\"1\" class=\"dataframe\">\n",
       "  <thead>\n",
       "    <tr style=\"text-align: right;\">\n",
       "      <th></th>\n",
       "      <th>CAMIS</th>\n",
       "      <th>DBA</th>\n",
       "      <th>BORO</th>\n",
       "      <th>BUILDING</th>\n",
       "      <th>STREET</th>\n",
       "      <th>ZIPCODE</th>\n",
       "      <th>CUISINE DESCRIPTION</th>\n",
       "      <th>INSPECTION DATE</th>\n",
       "      <th>ACTION</th>\n",
       "      <th>VIOLATION CODE</th>\n",
       "      <th>VIOLATION DESCRIPTION</th>\n",
       "      <th>CRITICAL FLAG</th>\n",
       "      <th>SCORE</th>\n",
       "      <th>GRADE</th>\n",
       "      <th>GRADE DATE</th>\n",
       "      <th>INSPECTION TYPE</th>\n",
       "      <th>Latitude</th>\n",
       "      <th>Longitude</th>\n",
       "      <th>Council District</th>\n",
       "    </tr>\n",
       "  </thead>\n",
       "  <tbody>\n",
       "    <tr>\n",
       "      <th>0</th>\n",
       "      <td>50116556</td>\n",
       "      <td>WENDY'S</td>\n",
       "      <td>Queens</td>\n",
       "      <td>1</td>\n",
       "      <td>MAIN TERMINAL</td>\n",
       "      <td>NaN</td>\n",
       "      <td>NaN</td>\n",
       "      <td>01/01/1900</td>\n",
       "      <td>NaN</td>\n",
       "      <td>NaN</td>\n",
       "      <td>NaN</td>\n",
       "      <td>Not Applicable</td>\n",
       "      <td>NaN</td>\n",
       "      <td>NaN</td>\n",
       "      <td>NaN</td>\n",
       "      <td>NaN</td>\n",
       "      <td>0.000000</td>\n",
       "      <td>0.000000</td>\n",
       "      <td>NaN</td>\n",
       "    </tr>\n",
       "    <tr>\n",
       "      <th>1</th>\n",
       "      <td>50138702</td>\n",
       "      <td>SMOKEHOUSE</td>\n",
       "      <td>Manhattan</td>\n",
       "      <td>50</td>\n",
       "      <td>HUDSON YARDS</td>\n",
       "      <td>10001.0</td>\n",
       "      <td>NaN</td>\n",
       "      <td>01/01/1900</td>\n",
       "      <td>NaN</td>\n",
       "      <td>NaN</td>\n",
       "      <td>NaN</td>\n",
       "      <td>Not Applicable</td>\n",
       "      <td>NaN</td>\n",
       "      <td>NaN</td>\n",
       "      <td>NaN</td>\n",
       "      <td>NaN</td>\n",
       "      <td>40.754243</td>\n",
       "      <td>-73.999390</td>\n",
       "      <td>3.0</td>\n",
       "    </tr>\n",
       "    <tr>\n",
       "      <th>2</th>\n",
       "      <td>50135964</td>\n",
       "      <td>NaN</td>\n",
       "      <td>Queens</td>\n",
       "      <td>20806</td>\n",
       "      <td>CROSS ISLAND PKWY</td>\n",
       "      <td>11360.0</td>\n",
       "      <td>NaN</td>\n",
       "      <td>01/01/1900</td>\n",
       "      <td>NaN</td>\n",
       "      <td>NaN</td>\n",
       "      <td>NaN</td>\n",
       "      <td>Not Applicable</td>\n",
       "      <td>NaN</td>\n",
       "      <td>NaN</td>\n",
       "      <td>NaN</td>\n",
       "      <td>NaN</td>\n",
       "      <td>40.788802</td>\n",
       "      <td>-73.785417</td>\n",
       "      <td>19.0</td>\n",
       "    </tr>\n",
       "    <tr>\n",
       "      <th>3</th>\n",
       "      <td>50110045</td>\n",
       "      <td>SEAFOOD KITCHEN</td>\n",
       "      <td>Queens</td>\n",
       "      <td>9517</td>\n",
       "      <td>57TH AVE</td>\n",
       "      <td>11368.0</td>\n",
       "      <td>NaN</td>\n",
       "      <td>01/01/1900</td>\n",
       "      <td>NaN</td>\n",
       "      <td>NaN</td>\n",
       "      <td>NaN</td>\n",
       "      <td>Not Applicable</td>\n",
       "      <td>NaN</td>\n",
       "      <td>NaN</td>\n",
       "      <td>NaN</td>\n",
       "      <td>NaN</td>\n",
       "      <td>40.736710</td>\n",
       "      <td>-73.865596</td>\n",
       "      <td>25.0</td>\n",
       "    </tr>\n",
       "    <tr>\n",
       "      <th>4</th>\n",
       "      <td>50043973</td>\n",
       "      <td>NAYA EXPRESS</td>\n",
       "      <td>Manhattan</td>\n",
       "      <td>1</td>\n",
       "      <td>NEW YORK PLAZA</td>\n",
       "      <td>10004.0</td>\n",
       "      <td>Mediterranean</td>\n",
       "      <td>01/30/2020</td>\n",
       "      <td>Violations were cited in the following area(s).</td>\n",
       "      <td>10J</td>\n",
       "      <td>Hand wash sign not posted</td>\n",
       "      <td>Not Critical</td>\n",
       "      <td>4.0</td>\n",
       "      <td>A</td>\n",
       "      <td>01/30/2020</td>\n",
       "      <td>Cycle Inspection / Initial Inspection</td>\n",
       "      <td>40.702533</td>\n",
       "      <td>-74.012562</td>\n",
       "      <td>1.0</td>\n",
       "    </tr>\n",
       "  </tbody>\n",
       "</table>\n",
       "</div>"
      ],
      "text/plain": [
       "      CAMIS              DBA       BORO BUILDING             STREET  ZIPCODE  \\\n",
       "0  50116556          WENDY'S     Queens        1      MAIN TERMINAL      NaN   \n",
       "1  50138702       SMOKEHOUSE  Manhattan       50       HUDSON YARDS  10001.0   \n",
       "2  50135964              NaN     Queens    20806  CROSS ISLAND PKWY  11360.0   \n",
       "3  50110045  SEAFOOD KITCHEN     Queens     9517           57TH AVE  11368.0   \n",
       "4  50043973     NAYA EXPRESS  Manhattan        1     NEW YORK PLAZA  10004.0   \n",
       "\n",
       "  CUISINE DESCRIPTION INSPECTION DATE  \\\n",
       "0                 NaN      01/01/1900   \n",
       "1                 NaN      01/01/1900   \n",
       "2                 NaN      01/01/1900   \n",
       "3                 NaN      01/01/1900   \n",
       "4       Mediterranean      01/30/2020   \n",
       "\n",
       "                                            ACTION VIOLATION CODE  \\\n",
       "0                                              NaN            NaN   \n",
       "1                                              NaN            NaN   \n",
       "2                                              NaN            NaN   \n",
       "3                                              NaN            NaN   \n",
       "4  Violations were cited in the following area(s).            10J   \n",
       "\n",
       "       VIOLATION DESCRIPTION   CRITICAL FLAG  SCORE GRADE  GRADE DATE  \\\n",
       "0                        NaN  Not Applicable    NaN   NaN         NaN   \n",
       "1                        NaN  Not Applicable    NaN   NaN         NaN   \n",
       "2                        NaN  Not Applicable    NaN   NaN         NaN   \n",
       "3                        NaN  Not Applicable    NaN   NaN         NaN   \n",
       "4  Hand wash sign not posted    Not Critical    4.0     A  01/30/2020   \n",
       "\n",
       "                         INSPECTION TYPE   Latitude  Longitude  \\\n",
       "0                                    NaN   0.000000   0.000000   \n",
       "1                                    NaN  40.754243 -73.999390   \n",
       "2                                    NaN  40.788802 -73.785417   \n",
       "3                                    NaN  40.736710 -73.865596   \n",
       "4  Cycle Inspection / Initial Inspection  40.702533 -74.012562   \n",
       "\n",
       "   Council District  \n",
       "0               NaN  \n",
       "1               3.0  \n",
       "2              19.0  \n",
       "3              25.0  \n",
       "4               1.0  "
      ]
     },
     "execution_count": 25,
     "metadata": {},
     "output_type": "execute_result"
    }
   ],
   "source": [
    "rdf.head()"
   ]
  },
  {
   "cell_type": "markdown",
   "id": "39d25cb7",
   "metadata": {},
   "source": [
    "## **Combining Inspections data with Michelin Star data**"
   ]
  },
  {
   "cell_type": "code",
   "execution_count": 32,
   "id": "a95628da",
   "metadata": {},
   "outputs": [
    {
     "name": "stdout",
     "output_type": "stream",
     "text": [
      "Kajitsu not found in the DBA column.\n"
     ]
    }
   ],
   "source": [
    "fldf = rdf[rdf['DBA'] == 'Kajitsu']\n",
    "\n",
    "if not fldf.empty:\n",
    "    print(f\"{'Kajitsu'} found in the {'DBA'} column.\")\n",
    "else:\n",
    "    print(f\"{'Kajitsu'} not found in the {'DBA'} column.\")"
   ]
  },
  {
   "cell_type": "code",
   "execution_count": null,
   "id": "fa816fba",
   "metadata": {},
   "outputs": [],
   "source": [
    "print(filtered_dataset_df)"
   ]
  },
  {
   "cell_type": "code",
   "execution_count": null,
   "id": "d096a759",
   "metadata": {},
   "outputs": [],
   "source": [
    "# Perform a fuzzy match based on coordinates\n",
    "merged_df = pd.merge(nyc_restaurants, rdf, how=\"outer\", indicator=True, left_on=['longitude', 'latitude'], right_on=['longitude', 'latitude'])\n",
    "\n",
    "# Filter for rows with a match in both datasets\n",
    "merged_df = merged_df[merged_df['_merge'] == 'both']"
   ]
  },
  {
   "cell_type": "code",
   "execution_count": null,
   "id": "c0fea020",
   "metadata": {},
   "outputs": [],
   "source": [
    "merged_df.info()"
   ]
  },
  {
   "cell_type": "code",
   "execution_count": null,
   "id": "2de6aecd",
   "metadata": {},
   "outputs": [],
   "source": [
    "# Optionally, save the merged dataset to a new CSV file\n",
    "merged_df.to_csv(\"merged_michelin_inspections.csv\", index=False)"
   ]
  },
  {
   "cell_type": "code",
   "execution_count": null,
   "id": "64d0fcd7",
   "metadata": {},
   "outputs": [],
   "source": [
    "merged_df.info()"
   ]
  },
  {
   "cell_type": "markdown",
   "id": "a7d96943",
   "metadata": {},
   "source": [
    "## **Geospacial Visualizations**"
   ]
  },
  {
   "cell_type": "code",
   "execution_count": null,
   "id": "569ea9b6",
   "metadata": {},
   "outputs": [],
   "source": [
    "# Create a base map\n",
    "m = folium.Map(location=[all_stars_df['latitude'].mean(), all_stars_df['longitude'].mean()], zoom_start=12)\n",
    "\n",
    "# Add markers for each restaurant\n",
    "for index, row in all_stars_df.iterrows():\n",
    "    folium.Marker([row['latitude'], row['longitude']], popup=row['name']).add_to(m)\n",
    "\n",
    "# Display the map\n",
    "m"
   ]
  },
  {
   "cell_type": "code",
   "execution_count": null,
   "id": "eb6227ec",
   "metadata": {},
   "outputs": [],
   "source": []
  },
  {
   "cell_type": "code",
   "execution_count": null,
   "id": "9cd35d8f",
   "metadata": {},
   "outputs": [],
   "source": []
  },
  {
   "cell_type": "code",
   "execution_count": null,
   "id": "d94e4cdb",
   "metadata": {},
   "outputs": [],
   "source": []
  },
  {
   "cell_type": "code",
   "execution_count": null,
   "id": "1089601e",
   "metadata": {},
   "outputs": [],
   "source": []
  }
 ],
 "metadata": {
  "kernelspec": {
   "display_name": "Python (dojo-env)",
   "language": "python",
   "name": "dojo-env"
  },
  "language_info": {
   "codemirror_mode": {
    "name": "ipython",
    "version": 3
   },
   "file_extension": ".py",
   "mimetype": "text/x-python",
   "name": "python",
   "nbconvert_exporter": "python",
   "pygments_lexer": "ipython3",
   "version": "3.9.15"
  },
  "toc": {
   "base_numbering": 1,
   "nav_menu": {},
   "number_sections": false,
   "sideBar": true,
   "skip_h1_title": false,
   "title_cell": "Table of Contents",
   "title_sidebar": "Contents",
   "toc_cell": false,
   "toc_position": {},
   "toc_section_display": true,
   "toc_window_display": false
  }
 },
 "nbformat": 4,
 "nbformat_minor": 5
}
