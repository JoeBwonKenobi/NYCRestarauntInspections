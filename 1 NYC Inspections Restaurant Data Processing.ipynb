{
 "cells": [
  {
   "cell_type": "markdown",
   "id": "5c7b6775",
   "metadata": {},
   "source": [
    "# **NYC Restaurant Inspections Data Processing**"
   ]
  },
  {
   "cell_type": "markdown",
   "id": "9999f70f",
   "metadata": {},
   "source": [
    "Joe Lardie\n",
    "\n",
    "Sep 2023"
   ]
  },
  {
   "cell_type": "markdown",
   "id": "ed7adaf5",
   "metadata": {},
   "source": [
    "# **Imports**"
   ]
  },
  {
   "cell_type": "code",
   "execution_count": 1,
   "id": "c03270b1",
   "metadata": {},
   "outputs": [],
   "source": [
    "#Numpy\n",
    "import numpy as np\n",
    "\n",
    "#Pandas\n",
    "import pandas as pd\n",
    "\n",
    "#Seaborn\n",
    "import seaborn as sns"
   ]
  },
  {
   "cell_type": "markdown",
   "id": "ee8a849a",
   "metadata": {},
   "source": [
    "# **Data Dictionary**\n",
    "**CAMIS**\tThis is an unique identifier for the entity (restaurant); 10-digit integer, static per restaurant permit\n",
    "\n",
    "**DBA**\tThis field represents the name (doing business as) of the entity (restaurant); Public business name, may change at discretion of restaurant owner\n",
    "\n",
    "**BORO**\tBorough in which the entity (restaurant) is located.;• 1 = MANHATTAN • 2 = BRONX • 3 = BROOKLYN • 4 = QUEENS • 5 = STATEN ISLAND • Missing; NOTE: There may be discrepancies between zip code and listed boro due to differences in an establishment's mailing address and physical location\n",
    "\n",
    "**BUILDING**  Building number for establishment (restaurant) location\n",
    "\n",
    "**STREET**\tStreet name for establishment (restaurant) location\n",
    "\n",
    "**ZIPCODE**\tZip code of establishment (restaurant) location\n",
    "\n",
    "**PHONE**\tPhone Number; Phone number provided by restaurant owner/manager\n",
    "\n",
    "**CUISINE DESCRIPTION**\tThis field describes the entity (restaurant) cuisine. ; Optional field provided by provided by restaurant owner/manager\n",
    "\n",
    "**INSPECTION DATE**\tThis field represents the date of inspection; NOTE: Inspection dates of 1/1/1900 mean an establishment has not yet had an inspection\n",
    "\n",
    "**ACTION**\tThis field represents the actions that is associated with each restaurant inspection. ; • Violations were cited in the following area(s). • No violations were recorded at the time of this inspection. • Establishment re-opened by DOHMH • Establishment re-closed by DOHMH • Establishment Closed by DOHMH. Violations were cited in the following area(s) and those requiring immediate action were addressed. • \"Missing\" = not yet inspected;\n",
    "\n",
    "**VIOLATION CODE**\tViolation code associated with an establishment (restaurant) inspection\n",
    "\n",
    "**VIOLATION DESCRIPTION**Violation description associated with an establishment (restaurant) inspection\n",
    "\n",
    "**CRITICAL FLAG**\tIndicator of critical violation; \"• Critical • Not Critical • Not Applicable\"; Critical violations are those most likely to contribute to food-borne illness\n",
    "\n",
    "**SCORE**Total score for a particular inspection; Scores are updated based on adjudication results\n",
    "\n",
    "**GRADE**\tGrade associated with the inspection; • N = Not Yet Graded• A = Grade A• B = Grade B• C = Grade C• Z = Grade Pending• P= Grade Pending issued on re-opening following an initial inspection that resulted in a closure\n",
    "\n",
    "**GRADE DATE**\tThe date when the current grade was issued to the entity (restaurant)\n",
    "\n",
    "**RECORD DATE**\tThe date when the extract was run to produce this data set\n",
    "\n",
    "**INSPECTION TYPE** A combination of the inspection program and the type of inspection performed; See Data Dictionary for full list of expected values\n"
   ]
  },
  {
   "cell_type": "markdown",
   "id": "0a58869d",
   "metadata": {},
   "source": [
    "# **Loading Data**"
   ]
  },
  {
   "cell_type": "code",
   "execution_count": 2,
   "id": "080260b1",
   "metadata": {
    "scrolled": true
   },
   "outputs": [],
   "source": [
    "# Loading NYC Restaraunt Data\n",
    "rdf = pd.read_csv('https://data.cityofnewyork.us/api/views/43nn-pn8j/rows.csv?accessType=DOWNLOAD')"
   ]
  },
  {
   "cell_type": "code",
   "execution_count": 3,
   "id": "90467520",
   "metadata": {
    "scrolled": false
   },
   "outputs": [
    {
     "name": "stdout",
     "output_type": "stream",
     "text": [
      "<class 'pandas.core.frame.DataFrame'>\n",
      "RangeIndex: 242682 entries, 0 to 242681\n",
      "Data columns (total 27 columns):\n",
      " #   Column                 Non-Null Count   Dtype  \n",
      "---  ------                 --------------   -----  \n",
      " 0   CAMIS                  242682 non-null  int64  \n",
      " 1   DBA                    241853 non-null  object \n",
      " 2   BORO                   242682 non-null  object \n",
      " 3   BUILDING               242284 non-null  object \n",
      " 4   STREET                 242668 non-null  object \n",
      " 5   ZIPCODE                239855 non-null  float64\n",
      " 6   PHONE                  242679 non-null  object \n",
      " 7   CUISINE DESCRIPTION    239995 non-null  object \n",
      " 8   INSPECTION DATE        242682 non-null  object \n",
      " 9   ACTION                 239995 non-null  object \n",
      " 10  VIOLATION CODE         238662 non-null  object \n",
      " 11  VIOLATION DESCRIPTION  238662 non-null  object \n",
      " 12  CRITICAL FLAG          242682 non-null  object \n",
      " 13  SCORE                  230796 non-null  float64\n",
      " 14  GRADE                  116932 non-null  object \n",
      " 15  GRADE DATE             107898 non-null  object \n",
      " 16  RECORD DATE            242682 non-null  object \n",
      " 17  INSPECTION TYPE        239995 non-null  object \n",
      " 18  Latitude               242346 non-null  float64\n",
      " 19  Longitude              242346 non-null  float64\n",
      " 20  Community Board        239214 non-null  float64\n",
      " 21  Council District       239210 non-null  float64\n",
      " 22  Census Tract           239210 non-null  float64\n",
      " 23  BIN                    238008 non-null  float64\n",
      " 24  BBL                    242027 non-null  float64\n",
      " 25  NTA                    239214 non-null  object \n",
      " 26  Location Point1        0 non-null       float64\n",
      "dtypes: float64(10), int64(1), object(16)\n",
      "memory usage: 50.0+ MB\n"
     ]
    }
   ],
   "source": [
    "# Looking at the data\n",
    "rdf.info()"
   ]
  },
  {
   "cell_type": "markdown",
   "id": "e963f319",
   "metadata": {},
   "source": [
    "# **Data Cleaning**"
   ]
  },
  {
   "cell_type": "code",
   "execution_count": 4,
   "id": "18054a13",
   "metadata": {},
   "outputs": [],
   "source": [
    "# Dropping irrelevant of imcomplete columns\n",
    "rdf.drop(['Location Point1', 'PHONE', 'BBL', 'BIN', 'NTA', 'Census Tract', 'Community Board', 'RECORD DATE'], axis=1, inplace=True)"
   ]
  },
  {
   "cell_type": "code",
   "execution_count": 5,
   "id": "c8b88d60",
   "metadata": {
    "scrolled": true
   },
   "outputs": [
    {
     "name": "stdout",
     "output_type": "stream",
     "text": [
      "<class 'pandas.core.frame.DataFrame'>\n",
      "RangeIndex: 242682 entries, 0 to 242681\n",
      "Data columns (total 19 columns):\n",
      " #   Column                 Non-Null Count   Dtype  \n",
      "---  ------                 --------------   -----  \n",
      " 0   CAMIS                  242682 non-null  int64  \n",
      " 1   DBA                    241853 non-null  object \n",
      " 2   BORO                   242682 non-null  object \n",
      " 3   BUILDING               242284 non-null  object \n",
      " 4   STREET                 242668 non-null  object \n",
      " 5   ZIPCODE                239855 non-null  float64\n",
      " 6   CUISINE DESCRIPTION    239995 non-null  object \n",
      " 7   INSPECTION DATE        242682 non-null  object \n",
      " 8   ACTION                 239995 non-null  object \n",
      " 9   VIOLATION CODE         238662 non-null  object \n",
      " 10  VIOLATION DESCRIPTION  238662 non-null  object \n",
      " 11  CRITICAL FLAG          242682 non-null  object \n",
      " 12  SCORE                  230796 non-null  float64\n",
      " 13  GRADE                  116932 non-null  object \n",
      " 14  GRADE DATE             107898 non-null  object \n",
      " 15  INSPECTION TYPE        239995 non-null  object \n",
      " 16  Latitude               242346 non-null  float64\n",
      " 17  Longitude              242346 non-null  float64\n",
      " 18  Council District       239210 non-null  float64\n",
      "dtypes: float64(5), int64(1), object(13)\n",
      "memory usage: 35.2+ MB\n"
     ]
    }
   ],
   "source": [
    "# Looking at remaining columns\n",
    "rdf.info()"
   ]
  },
  {
   "cell_type": "code",
   "execution_count": 6,
   "id": "11f08155",
   "metadata": {},
   "outputs": [],
   "source": [
    "# Saving dataset to upload into other notebooks\n",
    "rdf.to_csv('rdf', index=False)"
   ]
  }
 ],
 "metadata": {
  "kernelspec": {
   "display_name": "Python (dojo-env)",
   "language": "python",
   "name": "dojo-env"
  },
  "language_info": {
   "codemirror_mode": {
    "name": "ipython",
    "version": 3
   },
   "file_extension": ".py",
   "mimetype": "text/x-python",
   "name": "python",
   "nbconvert_exporter": "python",
   "pygments_lexer": "ipython3",
   "version": "3.9.15"
  },
  "toc": {
   "base_numbering": 1,
   "nav_menu": {},
   "number_sections": false,
   "sideBar": true,
   "skip_h1_title": false,
   "title_cell": "Table of Contents",
   "title_sidebar": "Contents",
   "toc_cell": false,
   "toc_position": {},
   "toc_section_display": true,
   "toc_window_display": false
  }
 },
 "nbformat": 4,
 "nbformat_minor": 5
}
