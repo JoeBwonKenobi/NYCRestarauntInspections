{
 "cells": [
  {
   "cell_type": "markdown",
   "id": "82afade9",
   "metadata": {},
   "source": [
    "# **Predictive Modeling**"
   ]
  },
  {
   "cell_type": "markdown",
   "id": "4d9c3d4c",
   "metadata": {},
   "source": [
    "# **Imports**"
   ]
  },
  {
   "cell_type": "code",
   "execution_count": null,
   "id": "5883f8c5",
   "metadata": {},
   "outputs": [],
   "source": [
    "from sklearn.model_selection import train_test_split \n",
    "from sklearn.preprocessing import LabelEncoder \n",
    "from sklearn.ensemble import RandomForestClassifier \n",
    "from sklearn.metrics import accuracy_score, classification_report \n",
    "from sklearn.model_selection import train_test_split, GridSearchCV \n",
    "from sklearn.preprocessing import LabelEncoder, StandardScaler "
   ]
  },
  {
   "cell_type": "code",
   "execution_count": null,
   "id": "91f594a3",
   "metadata": {},
   "outputs": [],
   "source": []
  },
  {
   "cell_type": "code",
   "execution_count": null,
   "id": "31108e8a",
   "metadata": {},
   "outputs": [],
   "source": [
    "# Load your dataset, replace 'your_data.csv' with your data file. data = pd.read_csv('your_data.csv') \n",
    "# Assuming your dataset has features like 'feature1', 'feature2', etc., and 'GRADE' as the target variable.\n",
    "# Replace these with your actual feature and target column names.  \n",
    "# Preprocess the data \n",
    "X = data[['feature1', 'feature2']]  \n",
    "# Features \n",
    "y = data['GRADE']  \n",
    "# Target variable  \n",
    "# Encode categorical variables (if needed) \n",
    "le = LabelEncoder() X['feature1'] = le.fit_transform(X['feature1']) \n",
    "# Split the data into training and testing sets \n",
    "X_train, X_test, y_train, y_test = train_test_split(X, y, test_size=0.2, random_state=42)  \n",
    "# Choose a classification model (Random Forest in this example) \n",
    "model = RandomForestClassifier(n_estimators=100, random_state=42) \n",
    "# Train the model \n",
    "model.fit(X_train, y_train) \n",
    "# Make predictions on the test set \n",
    "y_pred = model.predict(X_test) \n",
    "# Evaluate the model \n",
    "accuracy = accuracy_score(y_test, y_pred) print(f'Accuracy: {accuracy:.2f}')  \n",
    "# Print classification report for more detailed evaluation \n",
    "print(classification_report(y_test, y_pred)) \n",
    "# Use the trained model to make predictions on new data \n",
    "new_data = pd.DataFrame({'feature1': [value1], 'feature2': [value2]}) \n",
    "# Replace with your new data \n",
    "predicted_grade = model.predict(new_data) print(f'Predicted Grade: {predicted_grade[0]}')"
   ]
  },
  {
   "cell_type": "code",
   "execution_count": null,
   "id": "3343f909",
   "metadata": {},
   "outputs": [],
   "source": [
    "from sklearn.model_selection import train_test_split, GridSearchCV \n",
    "from sklearn.preprocessing import LabelEncoder, StandardScaler \n",
    "from sklearn.ensemble import RandomForestClassifier \n",
    "from sklearn.metrics import accuracy_score, classification_report \n",
    "# Load your dataset, replace 'your_data.csv' with your data file. data = pd.read_csv('your_data.csv') \n",
    "# Assuming your dataset has various features and 'GRADE' as the target variable. \n",
    "# Replace these with your actual feature and target column names. \n",
    "# Preprocess the data X = data.drop(columns=['GRADE'])  \n",
    "# Features y = data['GRADE']  \n",
    "# Target variable  \n",
    "# Handle missing data (you may need more advanced methods) X.fillna(0, inplace=True)  \n",
    "# Encode categorical variables (if needed) categorical_columns = X.select_dtypes(include=['object']).columns for col in categorical_columns:     le = LabelEncoder()     X[col] = le.fit_transform(X[col])  \n",
    "# Split the data into training and testing sets X_train, X_test, y_train, y_test = train_test_split(X, y, test_size=0.2, random_state=42)\n",
    "# Feature scaling (normalize numerical features) scaler = StandardScaler() X_train = scaler.fit_transform(X_train) X_test = scaler.transform(X_test) \n",
    "# Choose a classification model (Random Forest in this example) model = RandomForestClassifier(random_state=42) \n",
    "# Hyperparameter tuning using GridSearchCV (you may need more parameters) param_grid = {     'n_estimators': [100, 200],     'max_depth': [None, 10, 20],     'min_samples_split': [2, 5],     'min_samples_leaf': [1, 2] }  grid_search = GridSearchCV(model, param_grid, cv=5, n_jobs=-1) grid_search.fit(X_train, y_train)\n",
    "# Get the best model from hyperparameter tuning best_model = grid_search.best_estimator_ \n",
    "# Train the best model best_model.fit(X_train, y_train)  # Make predictions on the test set y_pred = best_model.predict(X_test) \n",
    "# Evaluate the model accuracy = accuracy_score(y_test, y_pred) print(f'Accuracy: {accuracy:.2f}')  \n",
    "# Print classification report for more detailed evaluation print(classification_report(y_test, y_pred)) \n",
    "# Use the trained model to make predictions on new data new_data = pd.DataFrame({     'Feature1': [value1],     'Feature2': [value2],   \n",
    "# Add more features as needed })  \n",
    "# Preprocess new data similarly to training data (handle missing values, encoding, scaling) new_data.fillna(0, inplace=True) new_data[categorical_columns] = le.transform(new_data[categorical_columns]) new_data = scaler.transform(new_data)  predicted_grade = best_model.predict(new_data) print(f'Predicted Grade: {predicted_grade[0]}')"
   ]
  },
  {
   "cell_type": "code",
   "execution_count": null,
   "id": "e45b6bf0",
   "metadata": {},
   "outputs": [],
   "source": []
  },
  {
   "cell_type": "code",
   "execution_count": null,
   "id": "01e42e76",
   "metadata": {},
   "outputs": [],
   "source": []
  },
  {
   "cell_type": "code",
   "execution_count": null,
   "id": "6d3ff083",
   "metadata": {},
   "outputs": [],
   "source": []
  }
 ],
 "metadata": {
  "kernelspec": {
   "display_name": "Python (dojo-env)",
   "language": "python",
   "name": "dojo-env"
  },
  "language_info": {
   "codemirror_mode": {
    "name": "ipython",
    "version": 3
   },
   "file_extension": ".py",
   "mimetype": "text/x-python",
   "name": "python",
   "nbconvert_exporter": "python",
   "pygments_lexer": "ipython3",
   "version": "3.9.15"
  },
  "toc": {
   "base_numbering": 1,
   "nav_menu": {},
   "number_sections": false,
   "sideBar": true,
   "skip_h1_title": false,
   "title_cell": "Table of Contents",
   "title_sidebar": "Contents",
   "toc_cell": false,
   "toc_position": {},
   "toc_section_display": true,
   "toc_window_display": false
  }
 },
 "nbformat": 4,
 "nbformat_minor": 5
}
